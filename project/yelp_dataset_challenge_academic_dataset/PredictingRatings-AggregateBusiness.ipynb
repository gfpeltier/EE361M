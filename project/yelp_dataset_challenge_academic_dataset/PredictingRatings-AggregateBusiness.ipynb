{
 "cells": [
  {
   "cell_type": "code",
   "execution_count": 1,
   "metadata": {
    "collapsed": false
   },
   "outputs": [
    {
     "data": {
      "text/html": [
       "<div>\n",
       "<table border=\"1\" class=\"dataframe\">\n",
       "  <thead>\n",
       "    <tr style=\"text-align: right;\">\n",
       "      <th></th>\n",
       "      <th>attributes</th>\n",
       "      <th>business_id</th>\n",
       "      <th>categories</th>\n",
       "      <th>city</th>\n",
       "      <th>full_address</th>\n",
       "      <th>hours</th>\n",
       "      <th>latitude</th>\n",
       "      <th>longitude</th>\n",
       "      <th>name</th>\n",
       "      <th>neighborhoods</th>\n",
       "      <th>open</th>\n",
       "      <th>review_count</th>\n",
       "      <th>stars</th>\n",
       "      <th>state</th>\n",
       "      <th>type</th>\n",
       "    </tr>\n",
       "  </thead>\n",
       "  <tbody>\n",
       "    <tr>\n",
       "      <th>0</th>\n",
       "      <td>{'Noise Level': 'average', 'Waiter Service': F...</td>\n",
       "      <td>5UmKMjUEUNdYWqANhGckJw</td>\n",
       "      <td>[Fast Food, Restaurants]</td>\n",
       "      <td>Dravosburg</td>\n",
       "      <td>4734 Lebanon Church Rd\\nDravosburg, PA 15034</td>\n",
       "      <td>{'Friday': {'close': '21:00', 'open': '11:00'}...</td>\n",
       "      <td>40.354327</td>\n",
       "      <td>-79.900706</td>\n",
       "      <td>Mr Hoagie</td>\n",
       "      <td>[]</td>\n",
       "      <td>True</td>\n",
       "      <td>4</td>\n",
       "      <td>4.5</td>\n",
       "      <td>PA</td>\n",
       "      <td>business</td>\n",
       "    </tr>\n",
       "    <tr>\n",
       "      <th>1</th>\n",
       "      <td>{'Accepts Credit Cards': True, 'Happy Hour': T...</td>\n",
       "      <td>UsFtqoBl7naz8AVUBZMjQQ</td>\n",
       "      <td>[Nightlife]</td>\n",
       "      <td>Dravosburg</td>\n",
       "      <td>202 McClure St\\nDravosburg, PA 15034</td>\n",
       "      <td>{}</td>\n",
       "      <td>40.350553</td>\n",
       "      <td>-79.886814</td>\n",
       "      <td>Clancy's Pub</td>\n",
       "      <td>[]</td>\n",
       "      <td>True</td>\n",
       "      <td>4</td>\n",
       "      <td>3.5</td>\n",
       "      <td>PA</td>\n",
       "      <td>business</td>\n",
       "    </tr>\n",
       "    <tr>\n",
       "      <th>2</th>\n",
       "      <td>{}</td>\n",
       "      <td>3eu6MEFlq2Dg7bQh8QbdOg</td>\n",
       "      <td>[Auto Repair, Automotive]</td>\n",
       "      <td>Dravosburg</td>\n",
       "      <td>1 Ravine St\\nDravosburg, PA 15034</td>\n",
       "      <td>{}</td>\n",
       "      <td>40.350956</td>\n",
       "      <td>-79.889059</td>\n",
       "      <td>Joe Cislo's Auto</td>\n",
       "      <td>[]</td>\n",
       "      <td>True</td>\n",
       "      <td>3</td>\n",
       "      <td>5.0</td>\n",
       "      <td>PA</td>\n",
       "      <td>business</td>\n",
       "    </tr>\n",
       "    <tr>\n",
       "      <th>3</th>\n",
       "      <td>{'Good for Kids': True}</td>\n",
       "      <td>cE27W9VPgO88Qxe4ol6y_g</td>\n",
       "      <td>[Active Life, Mini Golf, Golf]</td>\n",
       "      <td>Bethel Park</td>\n",
       "      <td>1530 Hamilton Rd\\nBethel Park, PA 15234</td>\n",
       "      <td>{}</td>\n",
       "      <td>40.354115</td>\n",
       "      <td>-80.014660</td>\n",
       "      <td>Cool Springs Golf Center</td>\n",
       "      <td>[]</td>\n",
       "      <td>False</td>\n",
       "      <td>5</td>\n",
       "      <td>2.5</td>\n",
       "      <td>PA</td>\n",
       "      <td>business</td>\n",
       "    </tr>\n",
       "    <tr>\n",
       "      <th>4</th>\n",
       "      <td>{'Accepts Credit Cards': False, 'Price Range':...</td>\n",
       "      <td>HZdLhv6COCleJMo7nPl-RA</td>\n",
       "      <td>[Shopping, Home Services, Internet Service Pro...</td>\n",
       "      <td>Pittsburgh</td>\n",
       "      <td>301 South Hills Village\\nPittsburgh, PA 15241</td>\n",
       "      <td>{'Friday': {'close': '17:00', 'open': '10:00'}...</td>\n",
       "      <td>40.357620</td>\n",
       "      <td>-80.059980</td>\n",
       "      <td>Verizon</td>\n",
       "      <td>[]</td>\n",
       "      <td>True</td>\n",
       "      <td>5</td>\n",
       "      <td>2.5</td>\n",
       "      <td>PA</td>\n",
       "      <td>business</td>\n",
       "    </tr>\n",
       "  </tbody>\n",
       "</table>\n",
       "</div>"
      ],
      "text/plain": [
       "                                          attributes             business_id  \\\n",
       "0  {'Noise Level': 'average', 'Waiter Service': F...  5UmKMjUEUNdYWqANhGckJw   \n",
       "1  {'Accepts Credit Cards': True, 'Happy Hour': T...  UsFtqoBl7naz8AVUBZMjQQ   \n",
       "2                                                 {}  3eu6MEFlq2Dg7bQh8QbdOg   \n",
       "3                            {'Good for Kids': True}  cE27W9VPgO88Qxe4ol6y_g   \n",
       "4  {'Accepts Credit Cards': False, 'Price Range':...  HZdLhv6COCleJMo7nPl-RA   \n",
       "\n",
       "                                          categories         city  \\\n",
       "0                           [Fast Food, Restaurants]   Dravosburg   \n",
       "1                                        [Nightlife]   Dravosburg   \n",
       "2                          [Auto Repair, Automotive]   Dravosburg   \n",
       "3                     [Active Life, Mini Golf, Golf]  Bethel Park   \n",
       "4  [Shopping, Home Services, Internet Service Pro...   Pittsburgh   \n",
       "\n",
       "                                    full_address  \\\n",
       "0   4734 Lebanon Church Rd\\nDravosburg, PA 15034   \n",
       "1           202 McClure St\\nDravosburg, PA 15034   \n",
       "2              1 Ravine St\\nDravosburg, PA 15034   \n",
       "3        1530 Hamilton Rd\\nBethel Park, PA 15234   \n",
       "4  301 South Hills Village\\nPittsburgh, PA 15241   \n",
       "\n",
       "                                               hours   latitude  longitude  \\\n",
       "0  {'Friday': {'close': '21:00', 'open': '11:00'}...  40.354327 -79.900706   \n",
       "1                                                 {}  40.350553 -79.886814   \n",
       "2                                                 {}  40.350956 -79.889059   \n",
       "3                                                 {}  40.354115 -80.014660   \n",
       "4  {'Friday': {'close': '17:00', 'open': '10:00'}...  40.357620 -80.059980   \n",
       "\n",
       "                       name neighborhoods   open  review_count  stars state  \\\n",
       "0                 Mr Hoagie            []   True             4    4.5    PA   \n",
       "1              Clancy's Pub            []   True             4    3.5    PA   \n",
       "2          Joe Cislo's Auto            []   True             3    5.0    PA   \n",
       "3  Cool Springs Golf Center            []  False             5    2.5    PA   \n",
       "4                   Verizon            []   True             5    2.5    PA   \n",
       "\n",
       "       type  \n",
       "0  business  \n",
       "1  business  \n",
       "2  business  \n",
       "3  business  \n",
       "4  business  "
      ]
     },
     "execution_count": 1,
     "metadata": {},
     "output_type": "execute_result"
    }
   ],
   "source": [
    "import pandas as pd\n",
    "\n",
    "with open('yelp_academic_dataset_business.json', 'rb') as f:\n",
    "    data = f.readlines()\n",
    "\n",
    "\n",
    "data = map(lambda x: x.rstrip().decode(\"utf-8\"), data)\n",
    "data_json_str = \"[\" + ','.join(data) + \"]\"\n",
    "\n",
    "# now, load it into pandas\n",
    "business_df = pd.read_json(data_json_str)\n",
    "business_df.head()"
   ]
  },
  {
   "cell_type": "code",
   "execution_count": 2,
   "metadata": {
    "collapsed": false
   },
   "outputs": [
    {
     "data": {
      "text/html": [
       "<div>\n",
       "<table border=\"1\" class=\"dataframe\">\n",
       "  <thead>\n",
       "    <tr style=\"text-align: right;\">\n",
       "      <th></th>\n",
       "      <th>business_id</th>\n",
       "      <th>date</th>\n",
       "      <th>likes</th>\n",
       "      <th>text</th>\n",
       "      <th>type</th>\n",
       "      <th>user_id</th>\n",
       "    </tr>\n",
       "  </thead>\n",
       "  <tbody>\n",
       "    <tr>\n",
       "      <th>0</th>\n",
       "      <td>cE27W9VPgO88Qxe4ol6y_g</td>\n",
       "      <td>2013-04-18</td>\n",
       "      <td>0</td>\n",
       "      <td>Don't waste your time.</td>\n",
       "      <td>tip</td>\n",
       "      <td>-6rEfobYjMxpUWLNxszaxQ</td>\n",
       "    </tr>\n",
       "    <tr>\n",
       "      <th>1</th>\n",
       "      <td>mVHrayjG3uZ_RLHkLj-AMg</td>\n",
       "      <td>2013-01-06</td>\n",
       "      <td>1</td>\n",
       "      <td>Your GPS will not allow you to find this place...</td>\n",
       "      <td>tip</td>\n",
       "      <td>EZ0r9dKKtEGVx2CdnowPCw</td>\n",
       "    </tr>\n",
       "    <tr>\n",
       "      <th>2</th>\n",
       "      <td>KayYbHCt-RkbGcPdGOThNg</td>\n",
       "      <td>2013-12-03</td>\n",
       "      <td>0</td>\n",
       "      <td>Great drink specials!</td>\n",
       "      <td>tip</td>\n",
       "      <td>xb6zEQCw9I-Gl0g06e1KsQ</td>\n",
       "    </tr>\n",
       "    <tr>\n",
       "      <th>3</th>\n",
       "      <td>KayYbHCt-RkbGcPdGOThNg</td>\n",
       "      <td>2015-07-08</td>\n",
       "      <td>0</td>\n",
       "      <td>Friendly staff, good food, great beer selectio...</td>\n",
       "      <td>tip</td>\n",
       "      <td>QawZN4PSW7ng_9SP7pjsVQ</td>\n",
       "    </tr>\n",
       "    <tr>\n",
       "      <th>4</th>\n",
       "      <td>1_lU0-eSWJCRvNGk78Zh9Q</td>\n",
       "      <td>2015-10-25</td>\n",
       "      <td>0</td>\n",
       "      <td>Beautiful restoration.</td>\n",
       "      <td>tip</td>\n",
       "      <td>MLQre1nvUtW-RqMTc4iC9A</td>\n",
       "    </tr>\n",
       "  </tbody>\n",
       "</table>\n",
       "</div>"
      ],
      "text/plain": [
       "              business_id       date  likes  \\\n",
       "0  cE27W9VPgO88Qxe4ol6y_g 2013-04-18      0   \n",
       "1  mVHrayjG3uZ_RLHkLj-AMg 2013-01-06      1   \n",
       "2  KayYbHCt-RkbGcPdGOThNg 2013-12-03      0   \n",
       "3  KayYbHCt-RkbGcPdGOThNg 2015-07-08      0   \n",
       "4  1_lU0-eSWJCRvNGk78Zh9Q 2015-10-25      0   \n",
       "\n",
       "                                                text type  \\\n",
       "0                             Don't waste your time.  tip   \n",
       "1  Your GPS will not allow you to find this place...  tip   \n",
       "2                              Great drink specials!  tip   \n",
       "3  Friendly staff, good food, great beer selectio...  tip   \n",
       "4                             Beautiful restoration.  tip   \n",
       "\n",
       "                  user_id  \n",
       "0  -6rEfobYjMxpUWLNxszaxQ  \n",
       "1  EZ0r9dKKtEGVx2CdnowPCw  \n",
       "2  xb6zEQCw9I-Gl0g06e1KsQ  \n",
       "3  QawZN4PSW7ng_9SP7pjsVQ  \n",
       "4  MLQre1nvUtW-RqMTc4iC9A  "
      ]
     },
     "execution_count": 2,
     "metadata": {},
     "output_type": "execute_result"
    }
   ],
   "source": [
    "with open('yelp_academic_dataset_tip.json', 'rb') as f:\n",
    "    data = f.readlines()\n",
    "\n",
    "\n",
    "data = map(lambda x: x.rstrip().decode(\"utf-8\"), data)\n",
    "data_json_str = \"[\" + ','.join(data) + \"]\"\n",
    "\n",
    "# now, load it into pandas\n",
    "tip_df = pd.read_json(data_json_str)\n",
    "tip_df.head()"
   ]
  },
  {
   "cell_type": "code",
   "execution_count": 3,
   "metadata": {
    "collapsed": false
   },
   "outputs": [
    {
     "data": {
      "text/html": [
       "<div>\n",
       "<table border=\"1\" class=\"dataframe\">\n",
       "  <thead>\n",
       "    <tr style=\"text-align: right;\">\n",
       "      <th></th>\n",
       "      <th>attributes</th>\n",
       "      <th>business_id</th>\n",
       "      <th>categories</th>\n",
       "      <th>city</th>\n",
       "      <th>full_address</th>\n",
       "      <th>hours</th>\n",
       "      <th>latitude</th>\n",
       "      <th>longitude</th>\n",
       "      <th>name</th>\n",
       "      <th>neighborhoods</th>\n",
       "      <th>open</th>\n",
       "      <th>review_count</th>\n",
       "      <th>stars</th>\n",
       "      <th>state</th>\n",
       "      <th>type</th>\n",
       "      <th>tip_count</th>\n",
       "    </tr>\n",
       "  </thead>\n",
       "  <tbody>\n",
       "    <tr>\n",
       "      <th>0</th>\n",
       "      <td>{'Noise Level': 'average', 'Waiter Service': F...</td>\n",
       "      <td>5UmKMjUEUNdYWqANhGckJw</td>\n",
       "      <td>[Fast Food, Restaurants]</td>\n",
       "      <td>Dravosburg</td>\n",
       "      <td>4734 Lebanon Church Rd\\nDravosburg, PA 15034</td>\n",
       "      <td>{'Friday': {'close': '21:00', 'open': '11:00'}...</td>\n",
       "      <td>40.354327</td>\n",
       "      <td>-79.900706</td>\n",
       "      <td>Mr Hoagie</td>\n",
       "      <td>[]</td>\n",
       "      <td>True</td>\n",
       "      <td>4</td>\n",
       "      <td>4.5</td>\n",
       "      <td>PA</td>\n",
       "      <td>business</td>\n",
       "      <td>0</td>\n",
       "    </tr>\n",
       "    <tr>\n",
       "      <th>1</th>\n",
       "      <td>{'Accepts Credit Cards': True, 'Happy Hour': T...</td>\n",
       "      <td>UsFtqoBl7naz8AVUBZMjQQ</td>\n",
       "      <td>[Nightlife]</td>\n",
       "      <td>Dravosburg</td>\n",
       "      <td>202 McClure St\\nDravosburg, PA 15034</td>\n",
       "      <td>{}</td>\n",
       "      <td>40.350553</td>\n",
       "      <td>-79.886814</td>\n",
       "      <td>Clancy's Pub</td>\n",
       "      <td>[]</td>\n",
       "      <td>True</td>\n",
       "      <td>4</td>\n",
       "      <td>3.5</td>\n",
       "      <td>PA</td>\n",
       "      <td>business</td>\n",
       "      <td>0</td>\n",
       "    </tr>\n",
       "    <tr>\n",
       "      <th>2</th>\n",
       "      <td>{}</td>\n",
       "      <td>3eu6MEFlq2Dg7bQh8QbdOg</td>\n",
       "      <td>[Auto Repair, Automotive]</td>\n",
       "      <td>Dravosburg</td>\n",
       "      <td>1 Ravine St\\nDravosburg, PA 15034</td>\n",
       "      <td>{}</td>\n",
       "      <td>40.350956</td>\n",
       "      <td>-79.889059</td>\n",
       "      <td>Joe Cislo's Auto</td>\n",
       "      <td>[]</td>\n",
       "      <td>True</td>\n",
       "      <td>3</td>\n",
       "      <td>5.0</td>\n",
       "      <td>PA</td>\n",
       "      <td>business</td>\n",
       "      <td>0</td>\n",
       "    </tr>\n",
       "    <tr>\n",
       "      <th>3</th>\n",
       "      <td>{'Good for Kids': True}</td>\n",
       "      <td>cE27W9VPgO88Qxe4ol6y_g</td>\n",
       "      <td>[Active Life, Mini Golf, Golf]</td>\n",
       "      <td>Bethel Park</td>\n",
       "      <td>1530 Hamilton Rd\\nBethel Park, PA 15234</td>\n",
       "      <td>{}</td>\n",
       "      <td>40.354115</td>\n",
       "      <td>-80.014660</td>\n",
       "      <td>Cool Springs Golf Center</td>\n",
       "      <td>[]</td>\n",
       "      <td>False</td>\n",
       "      <td>5</td>\n",
       "      <td>2.5</td>\n",
       "      <td>PA</td>\n",
       "      <td>business</td>\n",
       "      <td>1</td>\n",
       "    </tr>\n",
       "    <tr>\n",
       "      <th>4</th>\n",
       "      <td>{'Accepts Credit Cards': False, 'Price Range':...</td>\n",
       "      <td>HZdLhv6COCleJMo7nPl-RA</td>\n",
       "      <td>[Shopping, Home Services, Internet Service Pro...</td>\n",
       "      <td>Pittsburgh</td>\n",
       "      <td>301 South Hills Village\\nPittsburgh, PA 15241</td>\n",
       "      <td>{'Friday': {'close': '17:00', 'open': '10:00'}...</td>\n",
       "      <td>40.357620</td>\n",
       "      <td>-80.059980</td>\n",
       "      <td>Verizon</td>\n",
       "      <td>[]</td>\n",
       "      <td>True</td>\n",
       "      <td>5</td>\n",
       "      <td>2.5</td>\n",
       "      <td>PA</td>\n",
       "      <td>business</td>\n",
       "      <td>0</td>\n",
       "    </tr>\n",
       "  </tbody>\n",
       "</table>\n",
       "</div>"
      ],
      "text/plain": [
       "                                          attributes             business_id  \\\n",
       "0  {'Noise Level': 'average', 'Waiter Service': F...  5UmKMjUEUNdYWqANhGckJw   \n",
       "1  {'Accepts Credit Cards': True, 'Happy Hour': T...  UsFtqoBl7naz8AVUBZMjQQ   \n",
       "2                                                 {}  3eu6MEFlq2Dg7bQh8QbdOg   \n",
       "3                            {'Good for Kids': True}  cE27W9VPgO88Qxe4ol6y_g   \n",
       "4  {'Accepts Credit Cards': False, 'Price Range':...  HZdLhv6COCleJMo7nPl-RA   \n",
       "\n",
       "                                          categories         city  \\\n",
       "0                           [Fast Food, Restaurants]   Dravosburg   \n",
       "1                                        [Nightlife]   Dravosburg   \n",
       "2                          [Auto Repair, Automotive]   Dravosburg   \n",
       "3                     [Active Life, Mini Golf, Golf]  Bethel Park   \n",
       "4  [Shopping, Home Services, Internet Service Pro...   Pittsburgh   \n",
       "\n",
       "                                    full_address  \\\n",
       "0   4734 Lebanon Church Rd\\nDravosburg, PA 15034   \n",
       "1           202 McClure St\\nDravosburg, PA 15034   \n",
       "2              1 Ravine St\\nDravosburg, PA 15034   \n",
       "3        1530 Hamilton Rd\\nBethel Park, PA 15234   \n",
       "4  301 South Hills Village\\nPittsburgh, PA 15241   \n",
       "\n",
       "                                               hours   latitude  longitude  \\\n",
       "0  {'Friday': {'close': '21:00', 'open': '11:00'}...  40.354327 -79.900706   \n",
       "1                                                 {}  40.350553 -79.886814   \n",
       "2                                                 {}  40.350956 -79.889059   \n",
       "3                                                 {}  40.354115 -80.014660   \n",
       "4  {'Friday': {'close': '17:00', 'open': '10:00'}...  40.357620 -80.059980   \n",
       "\n",
       "                       name neighborhoods   open  review_count  stars state  \\\n",
       "0                 Mr Hoagie            []   True             4    4.5    PA   \n",
       "1              Clancy's Pub            []   True             4    3.5    PA   \n",
       "2          Joe Cislo's Auto            []   True             3    5.0    PA   \n",
       "3  Cool Springs Golf Center            []  False             5    2.5    PA   \n",
       "4                   Verizon            []   True             5    2.5    PA   \n",
       "\n",
       "       type  tip_count  \n",
       "0  business          0  \n",
       "1  business          0  \n",
       "2  business          0  \n",
       "3  business          1  \n",
       "4  business          0  "
      ]
     },
     "execution_count": 3,
     "metadata": {},
     "output_type": "execute_result"
    }
   ],
   "source": [
    "agg = tip_df.groupby('business_id').size()\n",
    "\n",
    "def add_tip_count(row):\n",
    "    if row['business_id'] in agg:\n",
    "        return agg[row['business_id']]\n",
    "    else:\n",
    "        return 0\n",
    "    \n",
    "business_df['tip_count'] = business_df.apply (lambda row: add_tip_count(row),axis=1)\n",
    "business_df.head()"
   ]
  },
  {
   "cell_type": "code",
   "execution_count": 4,
   "metadata": {
    "collapsed": false
   },
   "outputs": [
    {
     "data": {
      "text/html": [
       "<div>\n",
       "<table border=\"1\" class=\"dataframe\">\n",
       "  <thead>\n",
       "    <tr style=\"text-align: right;\">\n",
       "      <th></th>\n",
       "      <th>attributes</th>\n",
       "      <th>business_id</th>\n",
       "      <th>categories</th>\n",
       "      <th>city</th>\n",
       "      <th>full_address</th>\n",
       "      <th>hours</th>\n",
       "      <th>latitude</th>\n",
       "      <th>longitude</th>\n",
       "      <th>name</th>\n",
       "      <th>neighborhoods</th>\n",
       "      <th>open</th>\n",
       "      <th>review_count</th>\n",
       "      <th>stars</th>\n",
       "      <th>state</th>\n",
       "      <th>type</th>\n",
       "      <th>tip_count</th>\n",
       "      <th>clean_city</th>\n",
       "      <th>attribute_count</th>\n",
       "    </tr>\n",
       "  </thead>\n",
       "  <tbody>\n",
       "    <tr>\n",
       "      <th>0</th>\n",
       "      <td>{'Noise Level': 'average', 'Waiter Service': F...</td>\n",
       "      <td>5UmKMjUEUNdYWqANhGckJw</td>\n",
       "      <td>[Fast Food, Restaurants]</td>\n",
       "      <td>Dravosburg</td>\n",
       "      <td>4734 Lebanon Church Rd\\nDravosburg, PA 15034</td>\n",
       "      <td>{'Friday': {'close': '21:00', 'open': '11:00'}...</td>\n",
       "      <td>40.354327</td>\n",
       "      <td>-79.900706</td>\n",
       "      <td>Mr Hoagie</td>\n",
       "      <td>[]</td>\n",
       "      <td>True</td>\n",
       "      <td>4</td>\n",
       "      <td>4.5</td>\n",
       "      <td>PA</td>\n",
       "      <td>business</td>\n",
       "      <td>0</td>\n",
       "      <td>Pittsburgh</td>\n",
       "      <td>18</td>\n",
       "    </tr>\n",
       "    <tr>\n",
       "      <th>1</th>\n",
       "      <td>{'Accepts Credit Cards': True, 'Happy Hour': T...</td>\n",
       "      <td>UsFtqoBl7naz8AVUBZMjQQ</td>\n",
       "      <td>[Nightlife]</td>\n",
       "      <td>Dravosburg</td>\n",
       "      <td>202 McClure St\\nDravosburg, PA 15034</td>\n",
       "      <td>{}</td>\n",
       "      <td>40.350553</td>\n",
       "      <td>-79.886814</td>\n",
       "      <td>Clancy's Pub</td>\n",
       "      <td>[]</td>\n",
       "      <td>True</td>\n",
       "      <td>4</td>\n",
       "      <td>3.5</td>\n",
       "      <td>PA</td>\n",
       "      <td>business</td>\n",
       "      <td>0</td>\n",
       "      <td>Pittsburgh</td>\n",
       "      <td>5</td>\n",
       "    </tr>\n",
       "    <tr>\n",
       "      <th>2</th>\n",
       "      <td>{}</td>\n",
       "      <td>3eu6MEFlq2Dg7bQh8QbdOg</td>\n",
       "      <td>[Auto Repair, Automotive]</td>\n",
       "      <td>Dravosburg</td>\n",
       "      <td>1 Ravine St\\nDravosburg, PA 15034</td>\n",
       "      <td>{}</td>\n",
       "      <td>40.350956</td>\n",
       "      <td>-79.889059</td>\n",
       "      <td>Joe Cislo's Auto</td>\n",
       "      <td>[]</td>\n",
       "      <td>True</td>\n",
       "      <td>3</td>\n",
       "      <td>5.0</td>\n",
       "      <td>PA</td>\n",
       "      <td>business</td>\n",
       "      <td>0</td>\n",
       "      <td>Pittsburgh</td>\n",
       "      <td>0</td>\n",
       "    </tr>\n",
       "    <tr>\n",
       "      <th>3</th>\n",
       "      <td>{'Good for Kids': True}</td>\n",
       "      <td>cE27W9VPgO88Qxe4ol6y_g</td>\n",
       "      <td>[Active Life, Mini Golf, Golf]</td>\n",
       "      <td>Bethel Park</td>\n",
       "      <td>1530 Hamilton Rd\\nBethel Park, PA 15234</td>\n",
       "      <td>{}</td>\n",
       "      <td>40.354115</td>\n",
       "      <td>-80.014660</td>\n",
       "      <td>Cool Springs Golf Center</td>\n",
       "      <td>[]</td>\n",
       "      <td>False</td>\n",
       "      <td>5</td>\n",
       "      <td>2.5</td>\n",
       "      <td>PA</td>\n",
       "      <td>business</td>\n",
       "      <td>1</td>\n",
       "      <td>Pittsburgh</td>\n",
       "      <td>1</td>\n",
       "    </tr>\n",
       "    <tr>\n",
       "      <th>4</th>\n",
       "      <td>{'Accepts Credit Cards': False, 'Price Range':...</td>\n",
       "      <td>HZdLhv6COCleJMo7nPl-RA</td>\n",
       "      <td>[Shopping, Home Services, Internet Service Pro...</td>\n",
       "      <td>Pittsburgh</td>\n",
       "      <td>301 South Hills Village\\nPittsburgh, PA 15241</td>\n",
       "      <td>{'Friday': {'close': '17:00', 'open': '10:00'}...</td>\n",
       "      <td>40.357620</td>\n",
       "      <td>-80.059980</td>\n",
       "      <td>Verizon</td>\n",
       "      <td>[]</td>\n",
       "      <td>True</td>\n",
       "      <td>5</td>\n",
       "      <td>2.5</td>\n",
       "      <td>PA</td>\n",
       "      <td>business</td>\n",
       "      <td>0</td>\n",
       "      <td>Pittsburgh</td>\n",
       "      <td>3</td>\n",
       "    </tr>\n",
       "  </tbody>\n",
       "</table>\n",
       "</div>"
      ],
      "text/plain": [
       "                                          attributes             business_id  \\\n",
       "0  {'Noise Level': 'average', 'Waiter Service': F...  5UmKMjUEUNdYWqANhGckJw   \n",
       "1  {'Accepts Credit Cards': True, 'Happy Hour': T...  UsFtqoBl7naz8AVUBZMjQQ   \n",
       "2                                                 {}  3eu6MEFlq2Dg7bQh8QbdOg   \n",
       "3                            {'Good for Kids': True}  cE27W9VPgO88Qxe4ol6y_g   \n",
       "4  {'Accepts Credit Cards': False, 'Price Range':...  HZdLhv6COCleJMo7nPl-RA   \n",
       "\n",
       "                                          categories         city  \\\n",
       "0                           [Fast Food, Restaurants]   Dravosburg   \n",
       "1                                        [Nightlife]   Dravosburg   \n",
       "2                          [Auto Repair, Automotive]   Dravosburg   \n",
       "3                     [Active Life, Mini Golf, Golf]  Bethel Park   \n",
       "4  [Shopping, Home Services, Internet Service Pro...   Pittsburgh   \n",
       "\n",
       "                                    full_address  \\\n",
       "0   4734 Lebanon Church Rd\\nDravosburg, PA 15034   \n",
       "1           202 McClure St\\nDravosburg, PA 15034   \n",
       "2              1 Ravine St\\nDravosburg, PA 15034   \n",
       "3        1530 Hamilton Rd\\nBethel Park, PA 15234   \n",
       "4  301 South Hills Village\\nPittsburgh, PA 15241   \n",
       "\n",
       "                                               hours   latitude  longitude  \\\n",
       "0  {'Friday': {'close': '21:00', 'open': '11:00'}...  40.354327 -79.900706   \n",
       "1                                                 {}  40.350553 -79.886814   \n",
       "2                                                 {}  40.350956 -79.889059   \n",
       "3                                                 {}  40.354115 -80.014660   \n",
       "4  {'Friday': {'close': '17:00', 'open': '10:00'}...  40.357620 -80.059980   \n",
       "\n",
       "                       name neighborhoods   open  review_count  stars state  \\\n",
       "0                 Mr Hoagie            []   True             4    4.5    PA   \n",
       "1              Clancy's Pub            []   True             4    3.5    PA   \n",
       "2          Joe Cislo's Auto            []   True             3    5.0    PA   \n",
       "3  Cool Springs Golf Center            []  False             5    2.5    PA   \n",
       "4                   Verizon            []   True             5    2.5    PA   \n",
       "\n",
       "       type  tip_count  clean_city  attribute_count  \n",
       "0  business          0  Pittsburgh               18  \n",
       "1  business          0  Pittsburgh                5  \n",
       "2  business          0  Pittsburgh                0  \n",
       "3  business          1  Pittsburgh                1  \n",
       "4  business          0  Pittsburgh                3  "
      ]
     },
     "execution_count": 4,
     "metadata": {},
     "output_type": "execute_result"
    }
   ],
   "source": [
    "#lat-lng borders in [N,E,S,W] order\n",
    "city_borders = {'Las Vegas':[36.721753, -114, 35.36, -116.32],\n",
    "               'Phoenix':[34.85,-110.14,31.81,-113.86],\n",
    "               'Charlotte':[35.52,-80.14,34.84,-81.21],\n",
    "               'Pittsburgh':[40.76,-79.32,40.08,-80.5],\n",
    "               'Urbana-Champaign':[40.72,-87.27,39.33,-89.4],\n",
    "               'Madison':[43.3,-88.87,42.63,-90.11],\n",
    "               'Edinburgh':[56.03,-2.94,55.79,-3.47],\n",
    "               'Karlsruhe':[49.11,8.74,48.8,8.19],\n",
    "               'Montreal':[45.76,-73.06,45.21,-74.16],\n",
    "               'Waterloo':[43.74,-80.07,43.06,-81.36]}\n",
    "\n",
    "def get_clean_city(row):\n",
    "    for k,v in city_borders.items():\n",
    "        if row.latitude < v[0] and row.latitude > v[2] and row.longitude < v[1] and row.longitude > v[3]:\n",
    "            return k\n",
    "        \n",
    "def get_attr_count(row):\n",
    "    return len(row['attributes'].keys())\n",
    "        \n",
    "business_df['clean_city'] = business_df.apply (lambda row: get_clean_city(row),axis=1)\n",
    "business_df['attribute_count'] = business_df.apply(lambda row: get_attr_count(row), axis=1)\n",
    "business_df.head()"
   ]
  },
  {
   "cell_type": "code",
   "execution_count": 5,
   "metadata": {
    "collapsed": false
   },
   "outputs": [
    {
     "data": {
      "text/html": [
       "<div>\n",
       "<table border=\"1\" class=\"dataframe\">\n",
       "  <thead>\n",
       "    <tr style=\"text-align: right;\">\n",
       "      <th></th>\n",
       "      <th>attributes</th>\n",
       "      <th>business_id</th>\n",
       "      <th>categories</th>\n",
       "      <th>city</th>\n",
       "      <th>full_address</th>\n",
       "      <th>hours</th>\n",
       "      <th>latitude</th>\n",
       "      <th>longitude</th>\n",
       "      <th>name</th>\n",
       "      <th>neighborhoods</th>\n",
       "      <th>open</th>\n",
       "      <th>review_count</th>\n",
       "      <th>stars</th>\n",
       "      <th>state</th>\n",
       "      <th>type</th>\n",
       "      <th>tip_count</th>\n",
       "      <th>clean_city</th>\n",
       "      <th>attribute_count</th>\n",
       "      <th>top_level_category</th>\n",
       "    </tr>\n",
       "  </thead>\n",
       "  <tbody>\n",
       "    <tr>\n",
       "      <th>0</th>\n",
       "      <td>{'Noise Level': 'average', 'Waiter Service': F...</td>\n",
       "      <td>5UmKMjUEUNdYWqANhGckJw</td>\n",
       "      <td>[Fast Food, Restaurants]</td>\n",
       "      <td>Dravosburg</td>\n",
       "      <td>4734 Lebanon Church Rd\\nDravosburg, PA 15034</td>\n",
       "      <td>{'Friday': {'close': '21:00', 'open': '11:00'}...</td>\n",
       "      <td>40.354327</td>\n",
       "      <td>-79.900706</td>\n",
       "      <td>Mr Hoagie</td>\n",
       "      <td>[]</td>\n",
       "      <td>True</td>\n",
       "      <td>4</td>\n",
       "      <td>4.5</td>\n",
       "      <td>PA</td>\n",
       "      <td>business</td>\n",
       "      <td>0</td>\n",
       "      <td>Pittsburgh</td>\n",
       "      <td>18</td>\n",
       "      <td>Restaurants</td>\n",
       "    </tr>\n",
       "    <tr>\n",
       "      <th>1</th>\n",
       "      <td>{'Accepts Credit Cards': True, 'Happy Hour': T...</td>\n",
       "      <td>UsFtqoBl7naz8AVUBZMjQQ</td>\n",
       "      <td>[Nightlife]</td>\n",
       "      <td>Dravosburg</td>\n",
       "      <td>202 McClure St\\nDravosburg, PA 15034</td>\n",
       "      <td>{}</td>\n",
       "      <td>40.350553</td>\n",
       "      <td>-79.886814</td>\n",
       "      <td>Clancy's Pub</td>\n",
       "      <td>[]</td>\n",
       "      <td>True</td>\n",
       "      <td>4</td>\n",
       "      <td>3.5</td>\n",
       "      <td>PA</td>\n",
       "      <td>business</td>\n",
       "      <td>0</td>\n",
       "      <td>Pittsburgh</td>\n",
       "      <td>5</td>\n",
       "      <td>Nightlife</td>\n",
       "    </tr>\n",
       "    <tr>\n",
       "      <th>2</th>\n",
       "      <td>{}</td>\n",
       "      <td>3eu6MEFlq2Dg7bQh8QbdOg</td>\n",
       "      <td>[Auto Repair, Automotive]</td>\n",
       "      <td>Dravosburg</td>\n",
       "      <td>1 Ravine St\\nDravosburg, PA 15034</td>\n",
       "      <td>{}</td>\n",
       "      <td>40.350956</td>\n",
       "      <td>-79.889059</td>\n",
       "      <td>Joe Cislo's Auto</td>\n",
       "      <td>[]</td>\n",
       "      <td>True</td>\n",
       "      <td>3</td>\n",
       "      <td>5.0</td>\n",
       "      <td>PA</td>\n",
       "      <td>business</td>\n",
       "      <td>0</td>\n",
       "      <td>Pittsburgh</td>\n",
       "      <td>0</td>\n",
       "      <td>Automotive</td>\n",
       "    </tr>\n",
       "    <tr>\n",
       "      <th>3</th>\n",
       "      <td>{'Good for Kids': True}</td>\n",
       "      <td>cE27W9VPgO88Qxe4ol6y_g</td>\n",
       "      <td>[Active Life, Mini Golf, Golf]</td>\n",
       "      <td>Bethel Park</td>\n",
       "      <td>1530 Hamilton Rd\\nBethel Park, PA 15234</td>\n",
       "      <td>{}</td>\n",
       "      <td>40.354115</td>\n",
       "      <td>-80.014660</td>\n",
       "      <td>Cool Springs Golf Center</td>\n",
       "      <td>[]</td>\n",
       "      <td>False</td>\n",
       "      <td>5</td>\n",
       "      <td>2.5</td>\n",
       "      <td>PA</td>\n",
       "      <td>business</td>\n",
       "      <td>1</td>\n",
       "      <td>Pittsburgh</td>\n",
       "      <td>1</td>\n",
       "      <td>Active Life</td>\n",
       "    </tr>\n",
       "    <tr>\n",
       "      <th>4</th>\n",
       "      <td>{'Accepts Credit Cards': False, 'Price Range':...</td>\n",
       "      <td>HZdLhv6COCleJMo7nPl-RA</td>\n",
       "      <td>[Shopping, Home Services, Internet Service Pro...</td>\n",
       "      <td>Pittsburgh</td>\n",
       "      <td>301 South Hills Village\\nPittsburgh, PA 15241</td>\n",
       "      <td>{'Friday': {'close': '17:00', 'open': '10:00'}...</td>\n",
       "      <td>40.357620</td>\n",
       "      <td>-80.059980</td>\n",
       "      <td>Verizon</td>\n",
       "      <td>[]</td>\n",
       "      <td>True</td>\n",
       "      <td>5</td>\n",
       "      <td>2.5</td>\n",
       "      <td>PA</td>\n",
       "      <td>business</td>\n",
       "      <td>0</td>\n",
       "      <td>Pittsburgh</td>\n",
       "      <td>3</td>\n",
       "      <td>Shopping</td>\n",
       "    </tr>\n",
       "  </tbody>\n",
       "</table>\n",
       "</div>"
      ],
      "text/plain": [
       "                                          attributes             business_id  \\\n",
       "0  {'Noise Level': 'average', 'Waiter Service': F...  5UmKMjUEUNdYWqANhGckJw   \n",
       "1  {'Accepts Credit Cards': True, 'Happy Hour': T...  UsFtqoBl7naz8AVUBZMjQQ   \n",
       "2                                                 {}  3eu6MEFlq2Dg7bQh8QbdOg   \n",
       "3                            {'Good for Kids': True}  cE27W9VPgO88Qxe4ol6y_g   \n",
       "4  {'Accepts Credit Cards': False, 'Price Range':...  HZdLhv6COCleJMo7nPl-RA   \n",
       "\n",
       "                                          categories         city  \\\n",
       "0                           [Fast Food, Restaurants]   Dravosburg   \n",
       "1                                        [Nightlife]   Dravosburg   \n",
       "2                          [Auto Repair, Automotive]   Dravosburg   \n",
       "3                     [Active Life, Mini Golf, Golf]  Bethel Park   \n",
       "4  [Shopping, Home Services, Internet Service Pro...   Pittsburgh   \n",
       "\n",
       "                                    full_address  \\\n",
       "0   4734 Lebanon Church Rd\\nDravosburg, PA 15034   \n",
       "1           202 McClure St\\nDravosburg, PA 15034   \n",
       "2              1 Ravine St\\nDravosburg, PA 15034   \n",
       "3        1530 Hamilton Rd\\nBethel Park, PA 15234   \n",
       "4  301 South Hills Village\\nPittsburgh, PA 15241   \n",
       "\n",
       "                                               hours   latitude  longitude  \\\n",
       "0  {'Friday': {'close': '21:00', 'open': '11:00'}...  40.354327 -79.900706   \n",
       "1                                                 {}  40.350553 -79.886814   \n",
       "2                                                 {}  40.350956 -79.889059   \n",
       "3                                                 {}  40.354115 -80.014660   \n",
       "4  {'Friday': {'close': '17:00', 'open': '10:00'}...  40.357620 -80.059980   \n",
       "\n",
       "                       name neighborhoods   open  review_count  stars state  \\\n",
       "0                 Mr Hoagie            []   True             4    4.5    PA   \n",
       "1              Clancy's Pub            []   True             4    3.5    PA   \n",
       "2          Joe Cislo's Auto            []   True             3    5.0    PA   \n",
       "3  Cool Springs Golf Center            []  False             5    2.5    PA   \n",
       "4                   Verizon            []   True             5    2.5    PA   \n",
       "\n",
       "       type  tip_count  clean_city  attribute_count top_level_category  \n",
       "0  business          0  Pittsburgh               18        Restaurants  \n",
       "1  business          0  Pittsburgh                5          Nightlife  \n",
       "2  business          0  Pittsburgh                0         Automotive  \n",
       "3  business          1  Pittsburgh                1        Active Life  \n",
       "4  business          0  Pittsburgh                3           Shopping  "
      ]
     },
     "execution_count": 5,
     "metadata": {},
     "output_type": "execute_result"
    }
   ],
   "source": [
    "category_map = {'Active Life': 0, \n",
    "                   'Arts & Entertainment': 1,\n",
    "                   'Automotive': 2,\n",
    "                   'Beauty & Spas': 3,\n",
    "                   'Education': 4,\n",
    "                   'Event Planning & Services': 5,\n",
    "                   'Financial Services': 6,\n",
    "                   'Food': 7,\n",
    "                   'Health & Medical': 8,\n",
    "                   'Home Services': 9,\n",
    "                   'Hotels & Travel': 10,\n",
    "                   'Local Flavor': 11,\n",
    "                   'Local Services': 12,\n",
    "                   'Mass Media': 13,\n",
    "                   'Nightlife': 14,\n",
    "                   'Pets': 15,\n",
    "                   'Professional Services': 16,\n",
    "                   'Public Services & Government': 17,\n",
    "                   'Real Estate': 18,\n",
    "                   'Religious Organizations': 19,\n",
    "                   'Restaurants': 20,\n",
    "                   'Shopping': 21}\n",
    "\n",
    "def get_top_category(row):\n",
    "    for cat in row['categories']:\n",
    "        if cat in category_map:\n",
    "            return cat\n",
    "    return \"N/A\"\n",
    "\n",
    "business_df['top_level_category'] = business_df.apply (lambda row: get_top_category(row),axis=1)\n",
    "business_df.head()"
   ]
  },
  {
   "cell_type": "code",
   "execution_count": 6,
   "metadata": {
    "collapsed": false
   },
   "outputs": [
    {
     "data": {
      "text/html": [
       "<div>\n",
       "<table border=\"1\" class=\"dataframe\">\n",
       "  <thead>\n",
       "    <tr style=\"text-align: right;\">\n",
       "      <th></th>\n",
       "      <th>attributes</th>\n",
       "      <th>business_id</th>\n",
       "      <th>categories</th>\n",
       "      <th>city</th>\n",
       "      <th>full_address</th>\n",
       "      <th>hours</th>\n",
       "      <th>latitude</th>\n",
       "      <th>longitude</th>\n",
       "      <th>name</th>\n",
       "      <th>neighborhoods</th>\n",
       "      <th>...</th>\n",
       "      <th>Mass Media</th>\n",
       "      <th>N/A</th>\n",
       "      <th>Nightlife</th>\n",
       "      <th>Pets</th>\n",
       "      <th>Professional Services</th>\n",
       "      <th>Public Services &amp; Government</th>\n",
       "      <th>Real Estate</th>\n",
       "      <th>Religious Organizations</th>\n",
       "      <th>Restaurants</th>\n",
       "      <th>Shopping</th>\n",
       "    </tr>\n",
       "  </thead>\n",
       "  <tbody>\n",
       "    <tr>\n",
       "      <th>0</th>\n",
       "      <td>{'Noise Level': 'average', 'Waiter Service': F...</td>\n",
       "      <td>5UmKMjUEUNdYWqANhGckJw</td>\n",
       "      <td>[Fast Food, Restaurants]</td>\n",
       "      <td>Dravosburg</td>\n",
       "      <td>4734 Lebanon Church Rd\\nDravosburg, PA 15034</td>\n",
       "      <td>{'Friday': {'close': '21:00', 'open': '11:00'}...</td>\n",
       "      <td>40.354327</td>\n",
       "      <td>-79.900706</td>\n",
       "      <td>Mr Hoagie</td>\n",
       "      <td>[]</td>\n",
       "      <td>...</td>\n",
       "      <td>0.0</td>\n",
       "      <td>0.0</td>\n",
       "      <td>0.0</td>\n",
       "      <td>0.0</td>\n",
       "      <td>0.0</td>\n",
       "      <td>0.0</td>\n",
       "      <td>0.0</td>\n",
       "      <td>0.0</td>\n",
       "      <td>1.0</td>\n",
       "      <td>0.0</td>\n",
       "    </tr>\n",
       "    <tr>\n",
       "      <th>1</th>\n",
       "      <td>{'Accepts Credit Cards': True, 'Happy Hour': T...</td>\n",
       "      <td>UsFtqoBl7naz8AVUBZMjQQ</td>\n",
       "      <td>[Nightlife]</td>\n",
       "      <td>Dravosburg</td>\n",
       "      <td>202 McClure St\\nDravosburg, PA 15034</td>\n",
       "      <td>{}</td>\n",
       "      <td>40.350553</td>\n",
       "      <td>-79.886814</td>\n",
       "      <td>Clancy's Pub</td>\n",
       "      <td>[]</td>\n",
       "      <td>...</td>\n",
       "      <td>0.0</td>\n",
       "      <td>0.0</td>\n",
       "      <td>1.0</td>\n",
       "      <td>0.0</td>\n",
       "      <td>0.0</td>\n",
       "      <td>0.0</td>\n",
       "      <td>0.0</td>\n",
       "      <td>0.0</td>\n",
       "      <td>0.0</td>\n",
       "      <td>0.0</td>\n",
       "    </tr>\n",
       "    <tr>\n",
       "      <th>2</th>\n",
       "      <td>{}</td>\n",
       "      <td>3eu6MEFlq2Dg7bQh8QbdOg</td>\n",
       "      <td>[Auto Repair, Automotive]</td>\n",
       "      <td>Dravosburg</td>\n",
       "      <td>1 Ravine St\\nDravosburg, PA 15034</td>\n",
       "      <td>{}</td>\n",
       "      <td>40.350956</td>\n",
       "      <td>-79.889059</td>\n",
       "      <td>Joe Cislo's Auto</td>\n",
       "      <td>[]</td>\n",
       "      <td>...</td>\n",
       "      <td>0.0</td>\n",
       "      <td>0.0</td>\n",
       "      <td>0.0</td>\n",
       "      <td>0.0</td>\n",
       "      <td>0.0</td>\n",
       "      <td>0.0</td>\n",
       "      <td>0.0</td>\n",
       "      <td>0.0</td>\n",
       "      <td>0.0</td>\n",
       "      <td>0.0</td>\n",
       "    </tr>\n",
       "    <tr>\n",
       "      <th>3</th>\n",
       "      <td>{'Good for Kids': True}</td>\n",
       "      <td>cE27W9VPgO88Qxe4ol6y_g</td>\n",
       "      <td>[Active Life, Mini Golf, Golf]</td>\n",
       "      <td>Bethel Park</td>\n",
       "      <td>1530 Hamilton Rd\\nBethel Park, PA 15234</td>\n",
       "      <td>{}</td>\n",
       "      <td>40.354115</td>\n",
       "      <td>-80.014660</td>\n",
       "      <td>Cool Springs Golf Center</td>\n",
       "      <td>[]</td>\n",
       "      <td>...</td>\n",
       "      <td>0.0</td>\n",
       "      <td>0.0</td>\n",
       "      <td>0.0</td>\n",
       "      <td>0.0</td>\n",
       "      <td>0.0</td>\n",
       "      <td>0.0</td>\n",
       "      <td>0.0</td>\n",
       "      <td>0.0</td>\n",
       "      <td>0.0</td>\n",
       "      <td>0.0</td>\n",
       "    </tr>\n",
       "    <tr>\n",
       "      <th>4</th>\n",
       "      <td>{'Accepts Credit Cards': False, 'Price Range':...</td>\n",
       "      <td>HZdLhv6COCleJMo7nPl-RA</td>\n",
       "      <td>[Shopping, Home Services, Internet Service Pro...</td>\n",
       "      <td>Pittsburgh</td>\n",
       "      <td>301 South Hills Village\\nPittsburgh, PA 15241</td>\n",
       "      <td>{'Friday': {'close': '17:00', 'open': '10:00'}...</td>\n",
       "      <td>40.357620</td>\n",
       "      <td>-80.059980</td>\n",
       "      <td>Verizon</td>\n",
       "      <td>[]</td>\n",
       "      <td>...</td>\n",
       "      <td>0.0</td>\n",
       "      <td>0.0</td>\n",
       "      <td>0.0</td>\n",
       "      <td>0.0</td>\n",
       "      <td>0.0</td>\n",
       "      <td>0.0</td>\n",
       "      <td>0.0</td>\n",
       "      <td>0.0</td>\n",
       "      <td>0.0</td>\n",
       "      <td>1.0</td>\n",
       "    </tr>\n",
       "  </tbody>\n",
       "</table>\n",
       "<p>5 rows × 42 columns</p>\n",
       "</div>"
      ],
      "text/plain": [
       "                                          attributes             business_id  \\\n",
       "0  {'Noise Level': 'average', 'Waiter Service': F...  5UmKMjUEUNdYWqANhGckJw   \n",
       "1  {'Accepts Credit Cards': True, 'Happy Hour': T...  UsFtqoBl7naz8AVUBZMjQQ   \n",
       "2                                                 {}  3eu6MEFlq2Dg7bQh8QbdOg   \n",
       "3                            {'Good for Kids': True}  cE27W9VPgO88Qxe4ol6y_g   \n",
       "4  {'Accepts Credit Cards': False, 'Price Range':...  HZdLhv6COCleJMo7nPl-RA   \n",
       "\n",
       "                                          categories         city  \\\n",
       "0                           [Fast Food, Restaurants]   Dravosburg   \n",
       "1                                        [Nightlife]   Dravosburg   \n",
       "2                          [Auto Repair, Automotive]   Dravosburg   \n",
       "3                     [Active Life, Mini Golf, Golf]  Bethel Park   \n",
       "4  [Shopping, Home Services, Internet Service Pro...   Pittsburgh   \n",
       "\n",
       "                                    full_address  \\\n",
       "0   4734 Lebanon Church Rd\\nDravosburg, PA 15034   \n",
       "1           202 McClure St\\nDravosburg, PA 15034   \n",
       "2              1 Ravine St\\nDravosburg, PA 15034   \n",
       "3        1530 Hamilton Rd\\nBethel Park, PA 15234   \n",
       "4  301 South Hills Village\\nPittsburgh, PA 15241   \n",
       "\n",
       "                                               hours   latitude  longitude  \\\n",
       "0  {'Friday': {'close': '21:00', 'open': '11:00'}...  40.354327 -79.900706   \n",
       "1                                                 {}  40.350553 -79.886814   \n",
       "2                                                 {}  40.350956 -79.889059   \n",
       "3                                                 {}  40.354115 -80.014660   \n",
       "4  {'Friday': {'close': '17:00', 'open': '10:00'}...  40.357620 -80.059980   \n",
       "\n",
       "                       name neighborhoods    ...    Mass Media  N/A  \\\n",
       "0                 Mr Hoagie            []    ...           0.0  0.0   \n",
       "1              Clancy's Pub            []    ...           0.0  0.0   \n",
       "2          Joe Cislo's Auto            []    ...           0.0  0.0   \n",
       "3  Cool Springs Golf Center            []    ...           0.0  0.0   \n",
       "4                   Verizon            []    ...           0.0  0.0   \n",
       "\n",
       "   Nightlife Pets Professional Services  Public Services & Government  \\\n",
       "0        0.0  0.0                   0.0                           0.0   \n",
       "1        1.0  0.0                   0.0                           0.0   \n",
       "2        0.0  0.0                   0.0                           0.0   \n",
       "3        0.0  0.0                   0.0                           0.0   \n",
       "4        0.0  0.0                   0.0                           0.0   \n",
       "\n",
       "  Real Estate  Religious Organizations Restaurants  Shopping  \n",
       "0         0.0                      0.0         1.0       0.0  \n",
       "1         0.0                      0.0         0.0       0.0  \n",
       "2         0.0                      0.0         0.0       0.0  \n",
       "3         0.0                      0.0         0.0       0.0  \n",
       "4         0.0                      0.0         0.0       1.0  \n",
       "\n",
       "[5 rows x 42 columns]"
      ]
     },
     "execution_count": 6,
     "metadata": {},
     "output_type": "execute_result"
    }
   ],
   "source": [
    "dummies = pd.get_dummies(business_df['top_level_category'])\n",
    "final_df = pd.concat([business_df, dummies], axis=1, join='inner')\n",
    "final_df.head()"
   ]
  },
  {
   "cell_type": "code",
   "execution_count": 7,
   "metadata": {
    "collapsed": false
   },
   "outputs": [
    {
     "data": {
      "text/html": [
       "<div>\n",
       "<table border=\"1\" class=\"dataframe\">\n",
       "  <thead>\n",
       "    <tr style=\"text-align: right;\">\n",
       "      <th></th>\n",
       "      <th>business_id</th>\n",
       "      <th>checkin_info</th>\n",
       "      <th>type</th>\n",
       "    </tr>\n",
       "  </thead>\n",
       "  <tbody>\n",
       "    <tr>\n",
       "      <th>0</th>\n",
       "      <td>cE27W9VPgO88Qxe4ol6y_g</td>\n",
       "      <td>{'14-6': 1, '18-4': 1, '13-0': 1, '13-3': 1, '...</td>\n",
       "      <td>checkin</td>\n",
       "    </tr>\n",
       "    <tr>\n",
       "      <th>1</th>\n",
       "      <td>mVHrayjG3uZ_RLHkLj-AMg</td>\n",
       "      <td>{'9-4': 3, '17-4': 1, '10-5': 1, '13-1': 1, '1...</td>\n",
       "      <td>checkin</td>\n",
       "    </tr>\n",
       "    <tr>\n",
       "      <th>2</th>\n",
       "      <td>KayYbHCt-RkbGcPdGOThNg</td>\n",
       "      <td>{'14-0': 1, '17-5': 1, '16-3': 1, '13-3': 2, '...</td>\n",
       "      <td>checkin</td>\n",
       "    </tr>\n",
       "    <tr>\n",
       "      <th>3</th>\n",
       "      <td>b12U9TFESStdy7CsTtcOeg</td>\n",
       "      <td>{'5-5': 2, '5-1': 2, '8-2': 1}</td>\n",
       "      <td>checkin</td>\n",
       "    </tr>\n",
       "    <tr>\n",
       "      <th>4</th>\n",
       "      <td>QoDa50dc7g62xciFygXB9w</td>\n",
       "      <td>{'12-1': 1, '9-3': 1, '15-1': 1, '16-0': 1, '1...</td>\n",
       "      <td>checkin</td>\n",
       "    </tr>\n",
       "  </tbody>\n",
       "</table>\n",
       "</div>"
      ],
      "text/plain": [
       "              business_id                                       checkin_info  \\\n",
       "0  cE27W9VPgO88Qxe4ol6y_g  {'14-6': 1, '18-4': 1, '13-0': 1, '13-3': 1, '...   \n",
       "1  mVHrayjG3uZ_RLHkLj-AMg  {'9-4': 3, '17-4': 1, '10-5': 1, '13-1': 1, '1...   \n",
       "2  KayYbHCt-RkbGcPdGOThNg  {'14-0': 1, '17-5': 1, '16-3': 1, '13-3': 2, '...   \n",
       "3  b12U9TFESStdy7CsTtcOeg                     {'5-5': 2, '5-1': 2, '8-2': 1}   \n",
       "4  QoDa50dc7g62xciFygXB9w  {'12-1': 1, '9-3': 1, '15-1': 1, '16-0': 1, '1...   \n",
       "\n",
       "      type  \n",
       "0  checkin  \n",
       "1  checkin  \n",
       "2  checkin  \n",
       "3  checkin  \n",
       "4  checkin  "
      ]
     },
     "execution_count": 7,
     "metadata": {},
     "output_type": "execute_result"
    }
   ],
   "source": [
    "with open('yelp_academic_dataset_checkin.json', 'rb') as f:\n",
    "    data = f.readlines()\n",
    "\n",
    "\n",
    "data = map(lambda x: x.rstrip().decode(\"utf-8\"), data)\n",
    "data_json_str = \"[\" + ','.join(data) + \"]\"\n",
    "\n",
    "# now, load it into pandas\n",
    "checkin_df = pd.read_json(data_json_str)\n",
    "checkin_df.head()"
   ]
  },
  {
   "cell_type": "code",
   "execution_count": 8,
   "metadata": {
    "collapsed": false
   },
   "outputs": [
    {
     "data": {
      "text/html": [
       "<div>\n",
       "<table border=\"1\" class=\"dataframe\">\n",
       "  <thead>\n",
       "    <tr style=\"text-align: right;\">\n",
       "      <th></th>\n",
       "      <th>attributes</th>\n",
       "      <th>business_id</th>\n",
       "      <th>categories</th>\n",
       "      <th>city</th>\n",
       "      <th>full_address</th>\n",
       "      <th>hours</th>\n",
       "      <th>latitude</th>\n",
       "      <th>longitude</th>\n",
       "      <th>name</th>\n",
       "      <th>neighborhoods</th>\n",
       "      <th>...</th>\n",
       "      <th>Nightlife</th>\n",
       "      <th>Pets</th>\n",
       "      <th>Professional Services</th>\n",
       "      <th>Public Services &amp; Government</th>\n",
       "      <th>Real Estate</th>\n",
       "      <th>Religious Organizations</th>\n",
       "      <th>Restaurants</th>\n",
       "      <th>Shopping</th>\n",
       "      <th>checkin_info</th>\n",
       "      <th>type_y</th>\n",
       "    </tr>\n",
       "  </thead>\n",
       "  <tbody>\n",
       "    <tr>\n",
       "      <th>0</th>\n",
       "      <td>{'Good for Kids': True}</td>\n",
       "      <td>cE27W9VPgO88Qxe4ol6y_g</td>\n",
       "      <td>[Active Life, Mini Golf, Golf]</td>\n",
       "      <td>Bethel Park</td>\n",
       "      <td>1530 Hamilton Rd\\nBethel Park, PA 15234</td>\n",
       "      <td>{}</td>\n",
       "      <td>40.354115</td>\n",
       "      <td>-80.014660</td>\n",
       "      <td>Cool Springs Golf Center</td>\n",
       "      <td>[]</td>\n",
       "      <td>...</td>\n",
       "      <td>0.0</td>\n",
       "      <td>0.0</td>\n",
       "      <td>0.0</td>\n",
       "      <td>0.0</td>\n",
       "      <td>0.0</td>\n",
       "      <td>0.0</td>\n",
       "      <td>0.0</td>\n",
       "      <td>0.0</td>\n",
       "      <td>{'14-6': 1, '18-4': 1, '13-0': 1, '13-3': 1, '...</td>\n",
       "      <td>checkin</td>\n",
       "    </tr>\n",
       "    <tr>\n",
       "      <th>1</th>\n",
       "      <td>{'Waiter Service': True, 'Accepts Credit Cards...</td>\n",
       "      <td>mVHrayjG3uZ_RLHkLj-AMg</td>\n",
       "      <td>[Bars, American (New), Nightlife, Lounges, Res...</td>\n",
       "      <td>rankin</td>\n",
       "      <td>414 Hawkins Ave\\nrankin, PA 15104</td>\n",
       "      <td>{'Friday': {'close': '20:00', 'open': '10:00'}...</td>\n",
       "      <td>40.413464</td>\n",
       "      <td>-79.880247</td>\n",
       "      <td>Emil's Lounge</td>\n",
       "      <td>[]</td>\n",
       "      <td>...</td>\n",
       "      <td>1.0</td>\n",
       "      <td>0.0</td>\n",
       "      <td>0.0</td>\n",
       "      <td>0.0</td>\n",
       "      <td>0.0</td>\n",
       "      <td>0.0</td>\n",
       "      <td>0.0</td>\n",
       "      <td>0.0</td>\n",
       "      <td>{'9-4': 3, '17-4': 1, '10-5': 1, '13-1': 1, '1...</td>\n",
       "      <td>checkin</td>\n",
       "    </tr>\n",
       "    <tr>\n",
       "      <th>2</th>\n",
       "      <td>{'Waiter Service': True, 'Accepts Credit Cards...</td>\n",
       "      <td>KayYbHCt-RkbGcPdGOThNg</td>\n",
       "      <td>[Bars, American (Traditional), Nightlife, Rest...</td>\n",
       "      <td>Carnegie</td>\n",
       "      <td>141 Hawthorne St\\nGreentree\\nCarnegie, PA 15106</td>\n",
       "      <td>{'Friday': {'close': '02:00', 'open': '11:00'}...</td>\n",
       "      <td>40.415517</td>\n",
       "      <td>-80.067534</td>\n",
       "      <td>Alexion's Bar &amp; Grill</td>\n",
       "      <td>[Greentree]</td>\n",
       "      <td>...</td>\n",
       "      <td>1.0</td>\n",
       "      <td>0.0</td>\n",
       "      <td>0.0</td>\n",
       "      <td>0.0</td>\n",
       "      <td>0.0</td>\n",
       "      <td>0.0</td>\n",
       "      <td>0.0</td>\n",
       "      <td>0.0</td>\n",
       "      <td>{'14-0': 1, '17-5': 1, '16-3': 1, '13-3': 2, '...</td>\n",
       "      <td>checkin</td>\n",
       "    </tr>\n",
       "    <tr>\n",
       "      <th>3</th>\n",
       "      <td>{}</td>\n",
       "      <td>b12U9TFESStdy7CsTtcOeg</td>\n",
       "      <td>[Auto Repair, Automotive, Tires]</td>\n",
       "      <td>Carnegie</td>\n",
       "      <td>718A Hope Hollow Rd\\nCarnegie, PA 15106</td>\n",
       "      <td>{'Friday': {'close': '19:00', 'open': '07:30'}...</td>\n",
       "      <td>40.394588</td>\n",
       "      <td>-80.084454</td>\n",
       "      <td>Flynn's Tire And Auto Service</td>\n",
       "      <td>[]</td>\n",
       "      <td>...</td>\n",
       "      <td>0.0</td>\n",
       "      <td>0.0</td>\n",
       "      <td>0.0</td>\n",
       "      <td>0.0</td>\n",
       "      <td>0.0</td>\n",
       "      <td>0.0</td>\n",
       "      <td>0.0</td>\n",
       "      <td>0.0</td>\n",
       "      <td>{'5-5': 2, '5-1': 2, '8-2': 1}</td>\n",
       "      <td>checkin</td>\n",
       "    </tr>\n",
       "    <tr>\n",
       "      <th>4</th>\n",
       "      <td>{}</td>\n",
       "      <td>QoDa50dc7g62xciFygXB9w</td>\n",
       "      <td>[Veterinarians, Pets]</td>\n",
       "      <td>Pittsburgh</td>\n",
       "      <td>2080 Greentree Rd\\nPittsburgh, PA 15220</td>\n",
       "      <td>{}</td>\n",
       "      <td>40.392207</td>\n",
       "      <td>-80.069134</td>\n",
       "      <td>Greentree Animal Clinic</td>\n",
       "      <td>[]</td>\n",
       "      <td>...</td>\n",
       "      <td>0.0</td>\n",
       "      <td>1.0</td>\n",
       "      <td>0.0</td>\n",
       "      <td>0.0</td>\n",
       "      <td>0.0</td>\n",
       "      <td>0.0</td>\n",
       "      <td>0.0</td>\n",
       "      <td>0.0</td>\n",
       "      <td>{'12-1': 1, '9-3': 1, '15-1': 1, '16-0': 1, '1...</td>\n",
       "      <td>checkin</td>\n",
       "    </tr>\n",
       "  </tbody>\n",
       "</table>\n",
       "<p>5 rows × 44 columns</p>\n",
       "</div>"
      ],
      "text/plain": [
       "                                          attributes             business_id  \\\n",
       "0                            {'Good for Kids': True}  cE27W9VPgO88Qxe4ol6y_g   \n",
       "1  {'Waiter Service': True, 'Accepts Credit Cards...  mVHrayjG3uZ_RLHkLj-AMg   \n",
       "2  {'Waiter Service': True, 'Accepts Credit Cards...  KayYbHCt-RkbGcPdGOThNg   \n",
       "3                                                 {}  b12U9TFESStdy7CsTtcOeg   \n",
       "4                                                 {}  QoDa50dc7g62xciFygXB9w   \n",
       "\n",
       "                                          categories         city  \\\n",
       "0                     [Active Life, Mini Golf, Golf]  Bethel Park   \n",
       "1  [Bars, American (New), Nightlife, Lounges, Res...       rankin   \n",
       "2  [Bars, American (Traditional), Nightlife, Rest...     Carnegie   \n",
       "3                   [Auto Repair, Automotive, Tires]     Carnegie   \n",
       "4                              [Veterinarians, Pets]   Pittsburgh   \n",
       "\n",
       "                                      full_address  \\\n",
       "0          1530 Hamilton Rd\\nBethel Park, PA 15234   \n",
       "1                414 Hawkins Ave\\nrankin, PA 15104   \n",
       "2  141 Hawthorne St\\nGreentree\\nCarnegie, PA 15106   \n",
       "3          718A Hope Hollow Rd\\nCarnegie, PA 15106   \n",
       "4          2080 Greentree Rd\\nPittsburgh, PA 15220   \n",
       "\n",
       "                                               hours   latitude  longitude  \\\n",
       "0                                                 {}  40.354115 -80.014660   \n",
       "1  {'Friday': {'close': '20:00', 'open': '10:00'}...  40.413464 -79.880247   \n",
       "2  {'Friday': {'close': '02:00', 'open': '11:00'}...  40.415517 -80.067534   \n",
       "3  {'Friday': {'close': '19:00', 'open': '07:30'}...  40.394588 -80.084454   \n",
       "4                                                 {}  40.392207 -80.069134   \n",
       "\n",
       "                            name neighborhoods   ...    Nightlife  Pets  \\\n",
       "0       Cool Springs Golf Center            []   ...          0.0   0.0   \n",
       "1                  Emil's Lounge            []   ...          1.0   0.0   \n",
       "2          Alexion's Bar & Grill   [Greentree]   ...          1.0   0.0   \n",
       "3  Flynn's Tire And Auto Service            []   ...          0.0   0.0   \n",
       "4        Greentree Animal Clinic            []   ...          0.0   1.0   \n",
       "\n",
       "   Professional Services Public Services & Government Real Estate  \\\n",
       "0                    0.0                          0.0         0.0   \n",
       "1                    0.0                          0.0         0.0   \n",
       "2                    0.0                          0.0         0.0   \n",
       "3                    0.0                          0.0         0.0   \n",
       "4                    0.0                          0.0         0.0   \n",
       "\n",
       "   Religious Organizations Restaurants  Shopping  \\\n",
       "0                      0.0         0.0       0.0   \n",
       "1                      0.0         0.0       0.0   \n",
       "2                      0.0         0.0       0.0   \n",
       "3                      0.0         0.0       0.0   \n",
       "4                      0.0         0.0       0.0   \n",
       "\n",
       "                                        checkin_info   type_y  \n",
       "0  {'14-6': 1, '18-4': 1, '13-0': 1, '13-3': 1, '...  checkin  \n",
       "1  {'9-4': 3, '17-4': 1, '10-5': 1, '13-1': 1, '1...  checkin  \n",
       "2  {'14-0': 1, '17-5': 1, '16-3': 1, '13-3': 2, '...  checkin  \n",
       "3                     {'5-5': 2, '5-1': 2, '8-2': 1}  checkin  \n",
       "4  {'12-1': 1, '9-3': 1, '15-1': 1, '16-0': 1, '1...  checkin  \n",
       "\n",
       "[5 rows x 44 columns]"
      ]
     },
     "execution_count": 8,
     "metadata": {},
     "output_type": "execute_result"
    }
   ],
   "source": [
    "final_df = pd.merge(final_df,checkin_df,on=\"business_id\")\n",
    "final_df.head()"
   ]
  },
  {
   "cell_type": "code",
   "execution_count": 9,
   "metadata": {
    "collapsed": false
   },
   "outputs": [
    {
     "data": {
      "text/html": [
       "<div>\n",
       "<table border=\"1\" class=\"dataframe\">\n",
       "  <thead>\n",
       "    <tr style=\"text-align: right;\">\n",
       "      <th></th>\n",
       "      <th>attributes</th>\n",
       "      <th>business_id</th>\n",
       "      <th>categories</th>\n",
       "      <th>city</th>\n",
       "      <th>full_address</th>\n",
       "      <th>hours</th>\n",
       "      <th>latitude</th>\n",
       "      <th>longitude</th>\n",
       "      <th>name</th>\n",
       "      <th>neighborhoods</th>\n",
       "      <th>...</th>\n",
       "      <th>Real Estate</th>\n",
       "      <th>Religious Organizations</th>\n",
       "      <th>Restaurants</th>\n",
       "      <th>Shopping</th>\n",
       "      <th>checkin_info</th>\n",
       "      <th>type_y</th>\n",
       "      <th>0-6_checkins</th>\n",
       "      <th>6-12_checkins</th>\n",
       "      <th>12-18_checkins</th>\n",
       "      <th>18-24_checkins</th>\n",
       "    </tr>\n",
       "  </thead>\n",
       "  <tbody>\n",
       "    <tr>\n",
       "      <th>0</th>\n",
       "      <td>{'Good for Kids': True}</td>\n",
       "      <td>cE27W9VPgO88Qxe4ol6y_g</td>\n",
       "      <td>[Active Life, Mini Golf, Golf]</td>\n",
       "      <td>Bethel Park</td>\n",
       "      <td>1530 Hamilton Rd\\nBethel Park, PA 15234</td>\n",
       "      <td>{}</td>\n",
       "      <td>40.354115</td>\n",
       "      <td>-80.014660</td>\n",
       "      <td>Cool Springs Golf Center</td>\n",
       "      <td>[]</td>\n",
       "      <td>...</td>\n",
       "      <td>0.0</td>\n",
       "      <td>0.0</td>\n",
       "      <td>0.0</td>\n",
       "      <td>0.0</td>\n",
       "      <td>{'14-6': 1, '18-4': 1, '13-0': 1, '13-3': 1, '...</td>\n",
       "      <td>checkin</td>\n",
       "      <td>0</td>\n",
       "      <td>3</td>\n",
       "      <td>5</td>\n",
       "      <td>1</td>\n",
       "    </tr>\n",
       "    <tr>\n",
       "      <th>1</th>\n",
       "      <td>{'Waiter Service': True, 'Accepts Credit Cards...</td>\n",
       "      <td>mVHrayjG3uZ_RLHkLj-AMg</td>\n",
       "      <td>[Bars, American (New), Nightlife, Lounges, Res...</td>\n",
       "      <td>rankin</td>\n",
       "      <td>414 Hawkins Ave\\nrankin, PA 15104</td>\n",
       "      <td>{'Friday': {'close': '20:00', 'open': '10:00'}...</td>\n",
       "      <td>40.413464</td>\n",
       "      <td>-79.880247</td>\n",
       "      <td>Emil's Lounge</td>\n",
       "      <td>[]</td>\n",
       "      <td>...</td>\n",
       "      <td>0.0</td>\n",
       "      <td>0.0</td>\n",
       "      <td>0.0</td>\n",
       "      <td>0.0</td>\n",
       "      <td>{'9-4': 3, '17-4': 1, '10-5': 1, '13-1': 1, '1...</td>\n",
       "      <td>checkin</td>\n",
       "      <td>0</td>\n",
       "      <td>9</td>\n",
       "      <td>12</td>\n",
       "      <td>2</td>\n",
       "    </tr>\n",
       "    <tr>\n",
       "      <th>2</th>\n",
       "      <td>{'Waiter Service': True, 'Accepts Credit Cards...</td>\n",
       "      <td>KayYbHCt-RkbGcPdGOThNg</td>\n",
       "      <td>[Bars, American (Traditional), Nightlife, Rest...</td>\n",
       "      <td>Carnegie</td>\n",
       "      <td>141 Hawthorne St\\nGreentree\\nCarnegie, PA 15106</td>\n",
       "      <td>{'Friday': {'close': '02:00', 'open': '11:00'}...</td>\n",
       "      <td>40.415517</td>\n",
       "      <td>-80.067534</td>\n",
       "      <td>Alexion's Bar &amp; Grill</td>\n",
       "      <td>[Greentree]</td>\n",
       "      <td>...</td>\n",
       "      <td>0.0</td>\n",
       "      <td>0.0</td>\n",
       "      <td>0.0</td>\n",
       "      <td>0.0</td>\n",
       "      <td>{'14-0': 1, '17-5': 1, '16-3': 1, '13-3': 2, '...</td>\n",
       "      <td>checkin</td>\n",
       "      <td>0</td>\n",
       "      <td>17</td>\n",
       "      <td>29</td>\n",
       "      <td>9</td>\n",
       "    </tr>\n",
       "    <tr>\n",
       "      <th>3</th>\n",
       "      <td>{}</td>\n",
       "      <td>b12U9TFESStdy7CsTtcOeg</td>\n",
       "      <td>[Auto Repair, Automotive, Tires]</td>\n",
       "      <td>Carnegie</td>\n",
       "      <td>718A Hope Hollow Rd\\nCarnegie, PA 15106</td>\n",
       "      <td>{'Friday': {'close': '19:00', 'open': '07:30'}...</td>\n",
       "      <td>40.394588</td>\n",
       "      <td>-80.084454</td>\n",
       "      <td>Flynn's Tire And Auto Service</td>\n",
       "      <td>[]</td>\n",
       "      <td>...</td>\n",
       "      <td>0.0</td>\n",
       "      <td>0.0</td>\n",
       "      <td>0.0</td>\n",
       "      <td>0.0</td>\n",
       "      <td>{'5-5': 2, '5-1': 2, '8-2': 1}</td>\n",
       "      <td>checkin</td>\n",
       "      <td>4</td>\n",
       "      <td>1</td>\n",
       "      <td>0</td>\n",
       "      <td>0</td>\n",
       "    </tr>\n",
       "    <tr>\n",
       "      <th>4</th>\n",
       "      <td>{}</td>\n",
       "      <td>QoDa50dc7g62xciFygXB9w</td>\n",
       "      <td>[Veterinarians, Pets]</td>\n",
       "      <td>Pittsburgh</td>\n",
       "      <td>2080 Greentree Rd\\nPittsburgh, PA 15220</td>\n",
       "      <td>{}</td>\n",
       "      <td>40.392207</td>\n",
       "      <td>-80.069134</td>\n",
       "      <td>Greentree Animal Clinic</td>\n",
       "      <td>[]</td>\n",
       "      <td>...</td>\n",
       "      <td>0.0</td>\n",
       "      <td>0.0</td>\n",
       "      <td>0.0</td>\n",
       "      <td>0.0</td>\n",
       "      <td>{'12-1': 1, '9-3': 1, '15-1': 1, '16-0': 1, '1...</td>\n",
       "      <td>checkin</td>\n",
       "      <td>0</td>\n",
       "      <td>1</td>\n",
       "      <td>4</td>\n",
       "      <td>0</td>\n",
       "    </tr>\n",
       "  </tbody>\n",
       "</table>\n",
       "<p>5 rows × 48 columns</p>\n",
       "</div>"
      ],
      "text/plain": [
       "                                          attributes             business_id  \\\n",
       "0                            {'Good for Kids': True}  cE27W9VPgO88Qxe4ol6y_g   \n",
       "1  {'Waiter Service': True, 'Accepts Credit Cards...  mVHrayjG3uZ_RLHkLj-AMg   \n",
       "2  {'Waiter Service': True, 'Accepts Credit Cards...  KayYbHCt-RkbGcPdGOThNg   \n",
       "3                                                 {}  b12U9TFESStdy7CsTtcOeg   \n",
       "4                                                 {}  QoDa50dc7g62xciFygXB9w   \n",
       "\n",
       "                                          categories         city  \\\n",
       "0                     [Active Life, Mini Golf, Golf]  Bethel Park   \n",
       "1  [Bars, American (New), Nightlife, Lounges, Res...       rankin   \n",
       "2  [Bars, American (Traditional), Nightlife, Rest...     Carnegie   \n",
       "3                   [Auto Repair, Automotive, Tires]     Carnegie   \n",
       "4                              [Veterinarians, Pets]   Pittsburgh   \n",
       "\n",
       "                                      full_address  \\\n",
       "0          1530 Hamilton Rd\\nBethel Park, PA 15234   \n",
       "1                414 Hawkins Ave\\nrankin, PA 15104   \n",
       "2  141 Hawthorne St\\nGreentree\\nCarnegie, PA 15106   \n",
       "3          718A Hope Hollow Rd\\nCarnegie, PA 15106   \n",
       "4          2080 Greentree Rd\\nPittsburgh, PA 15220   \n",
       "\n",
       "                                               hours   latitude  longitude  \\\n",
       "0                                                 {}  40.354115 -80.014660   \n",
       "1  {'Friday': {'close': '20:00', 'open': '10:00'}...  40.413464 -79.880247   \n",
       "2  {'Friday': {'close': '02:00', 'open': '11:00'}...  40.415517 -80.067534   \n",
       "3  {'Friday': {'close': '19:00', 'open': '07:30'}...  40.394588 -80.084454   \n",
       "4                                                 {}  40.392207 -80.069134   \n",
       "\n",
       "                            name neighborhoods       ...       Real Estate  \\\n",
       "0       Cool Springs Golf Center            []       ...               0.0   \n",
       "1                  Emil's Lounge            []       ...               0.0   \n",
       "2          Alexion's Bar & Grill   [Greentree]       ...               0.0   \n",
       "3  Flynn's Tire And Auto Service            []       ...               0.0   \n",
       "4        Greentree Animal Clinic            []       ...               0.0   \n",
       "\n",
       "   Religious Organizations  Restaurants Shopping  \\\n",
       "0                      0.0          0.0      0.0   \n",
       "1                      0.0          0.0      0.0   \n",
       "2                      0.0          0.0      0.0   \n",
       "3                      0.0          0.0      0.0   \n",
       "4                      0.0          0.0      0.0   \n",
       "\n",
       "                                        checkin_info   type_y 0-6_checkins  \\\n",
       "0  {'14-6': 1, '18-4': 1, '13-0': 1, '13-3': 1, '...  checkin            0   \n",
       "1  {'9-4': 3, '17-4': 1, '10-5': 1, '13-1': 1, '1...  checkin            0   \n",
       "2  {'14-0': 1, '17-5': 1, '16-3': 1, '13-3': 2, '...  checkin            0   \n",
       "3                     {'5-5': 2, '5-1': 2, '8-2': 1}  checkin            4   \n",
       "4  {'12-1': 1, '9-3': 1, '15-1': 1, '16-0': 1, '1...  checkin            0   \n",
       "\n",
       "   6-12_checkins 12-18_checkins  18-24_checkins  \n",
       "0              3              5               1  \n",
       "1              9             12               2  \n",
       "2             17             29               9  \n",
       "3              1              0               0  \n",
       "4              1              4               0  \n",
       "\n",
       "[5 rows x 48 columns]"
      ]
     },
     "execution_count": 9,
     "metadata": {},
     "output_type": "execute_result"
    }
   ],
   "source": [
    "def get_multihour_pop(row, startHr,endHr):\n",
    "    checkins = row['checkin_info']\n",
    "    freq = 0\n",
    "    for x in range(startHr, endHr):\n",
    "        for k,v in checkins.items():\n",
    "            hr = int(k.split('-')[0])\n",
    "            if hr == x:\n",
    "                freq += v\n",
    "    return freq\n",
    "\n",
    "final_df['0-6_checkins'] = final_df.apply (lambda row: get_multihour_pop(row, 0, 6),axis=1)\n",
    "final_df['6-12_checkins'] = final_df.apply (lambda row: get_multihour_pop(row, 6, 12),axis=1)\n",
    "final_df['12-18_checkins'] = final_df.apply (lambda row: get_multihour_pop(row, 12, 18),axis=1)\n",
    "final_df['18-24_checkins'] = final_df.apply (lambda row: get_multihour_pop(row, 18, 24),axis=1)\n",
    "final_df.head()"
   ]
  },
  {
   "cell_type": "code",
   "execution_count": 10,
   "metadata": {
    "collapsed": false
   },
   "outputs": [
    {
     "name": "stdout",
     "output_type": "stream",
     "text": [
      "[ 0.5056062   0.21033566  0.11436198]\n"
     ]
    },
    {
     "data": {
      "text/html": [
       "<div>\n",
       "<table border=\"1\" class=\"dataframe\">\n",
       "  <thead>\n",
       "    <tr style=\"text-align: right;\">\n",
       "      <th></th>\n",
       "      <th>PC-1</th>\n",
       "      <th>PC-2</th>\n",
       "      <th>PC-3</th>\n",
       "    </tr>\n",
       "  </thead>\n",
       "  <tbody>\n",
       "    <tr>\n",
       "      <th>latitude</th>\n",
       "      <td>-0.045969</td>\n",
       "      <td>0.692523</td>\n",
       "      <td>-0.110107</td>\n",
       "    </tr>\n",
       "    <tr>\n",
       "      <th>longitude</th>\n",
       "      <td>-0.057518</td>\n",
       "      <td>0.691534</td>\n",
       "      <td>-0.112912</td>\n",
       "    </tr>\n",
       "    <tr>\n",
       "      <th>0-6_checkins</th>\n",
       "      <td>0.343857</td>\n",
       "      <td>0.051551</td>\n",
       "      <td>-0.243672</td>\n",
       "    </tr>\n",
       "    <tr>\n",
       "      <th>6-12_checkins</th>\n",
       "      <td>0.381122</td>\n",
       "      <td>0.028725</td>\n",
       "      <td>-0.256128</td>\n",
       "    </tr>\n",
       "    <tr>\n",
       "      <th>12-18_checkins</th>\n",
       "      <td>0.439383</td>\n",
       "      <td>0.012504</td>\n",
       "      <td>-0.112496</td>\n",
       "    </tr>\n",
       "    <tr>\n",
       "      <th>18-24_checkins</th>\n",
       "      <td>0.436820</td>\n",
       "      <td>0.011927</td>\n",
       "      <td>-0.022166</td>\n",
       "    </tr>\n",
       "    <tr>\n",
       "      <th>review_count</th>\n",
       "      <td>0.374172</td>\n",
       "      <td>0.022243</td>\n",
       "      <td>0.271533</td>\n",
       "    </tr>\n",
       "    <tr>\n",
       "      <th>tip_count</th>\n",
       "      <td>0.443929</td>\n",
       "      <td>0.009744</td>\n",
       "      <td>0.089767</td>\n",
       "    </tr>\n",
       "    <tr>\n",
       "      <th>attribute_count</th>\n",
       "      <td>0.100698</td>\n",
       "      <td>0.194481</td>\n",
       "      <td>0.869031</td>\n",
       "    </tr>\n",
       "  </tbody>\n",
       "</table>\n",
       "</div>"
      ],
      "text/plain": [
       "                     PC-1      PC-2      PC-3\n",
       "latitude        -0.045969  0.692523 -0.110107\n",
       "longitude       -0.057518  0.691534 -0.112912\n",
       "0-6_checkins     0.343857  0.051551 -0.243672\n",
       "6-12_checkins    0.381122  0.028725 -0.256128\n",
       "12-18_checkins   0.439383  0.012504 -0.112496\n",
       "18-24_checkins   0.436820  0.011927 -0.022166\n",
       "review_count     0.374172  0.022243  0.271533\n",
       "tip_count        0.443929  0.009744  0.089767\n",
       "attribute_count  0.100698  0.194481  0.869031"
      ]
     },
     "execution_count": 10,
     "metadata": {},
     "output_type": "execute_result"
    }
   ],
   "source": [
    "from sklearn.decomposition import PCA\n",
    "import numpy as np\n",
    "\n",
    "X = final_df[['latitude','longitude','0-6_checkins','6-12_checkins','12-18_checkins','18-24_checkins','review_count','tip_count','attribute_count']]\n",
    "\n",
    "X_norm = (X - X.mean()) / X.std()\n",
    "pca = PCA(n_components=3)\n",
    "pca.fit(X_norm)\n",
    "print(pca.explained_variance_ratio_)\n",
    "i = np.identity(X_norm.shape[1])\n",
    "coef = pca.transform(i)\n",
    "pd.DataFrame(coef, columns=['PC-1', 'PC-2', 'PC-3'], index=X.columns)"
   ]
  },
  {
   "cell_type": "code",
   "execution_count": 11,
   "metadata": {
    "collapsed": false
   },
   "outputs": [
    {
     "data": {
      "text/plain": [
       "0.06679762508843845"
      ]
     },
     "execution_count": 11,
     "metadata": {},
     "output_type": "execute_result"
    }
   ],
   "source": [
    "from sklearn.cross_validation import train_test_split\n",
    "from sklearn.linear_model import LassoCV\n",
    "\n",
    "X = final_df[['latitude','longitude','0-6_checkins','6-12_checkins','12-18_checkins','18-24_checkins','review_count','tip_count','attribute_count','Active Life',\n",
    "       'Arts & Entertainment', 'Automotive', 'Beauty & Spas', 'Education',\n",
    "       'Event Planning & Services', 'Financial Services', 'Food',\n",
    "       'Health & Medical', 'Home Services', 'Hotels & Travel', 'Local Flavor',\n",
    "       'Local Services', 'Mass Media', 'N/A', 'Nightlife', 'Pets',\n",
    "       'Professional Services', 'Public Services & Government', 'Real Estate',\n",
    "       'Religious Organizations', 'Restaurants', 'Shopping']]\n",
    "y = final_df['stars']\n",
    "\n",
    "X_train, X_test, y_train, y_test = train_test_split(X, y, test_size=0.33, random_state=42)\n",
    "\n",
    "clf = LassoCV()\n",
    "clf.fit(X_train,y_train)\n",
    "\n",
    "clf.score(X_test,y_test)"
   ]
  },
  {
   "cell_type": "code",
   "execution_count": 12,
   "metadata": {
    "collapsed": true
   },
   "outputs": [],
   "source": [
    "def get_bin_stars(row):\n",
    "    if row['stars'] > 2.5:\n",
    "        return 1\n",
    "    else:\n",
    "        return 0\n",
    "\n",
    "def get_rounded_stars(row):\n",
    "    if row['stars'] < 1.5:\n",
    "        return 1\n",
    "    elif row['stars'] < 2.5:\n",
    "        return 2\n",
    "    elif row['stars'] < 3.5:\n",
    "        return 3\n",
    "    elif row['stars'] < 4.5:\n",
    "        return 4\n",
    "    else:\n",
    "        return 5\n",
    "    \n",
    "final_df['stars_01'] = final_df.apply (lambda row: get_bin_stars(row),axis=1)\n",
    "final_df['stars_rounded'] = final_df.apply (lambda row: get_rounded_stars(row),axis=1)\n",
    "final_df['stars_clean_ints'] = (final_df['stars']*2) - 1"
   ]
  },
  {
   "cell_type": "code",
   "execution_count": 13,
   "metadata": {
    "collapsed": false
   },
   "outputs": [
    {
     "data": {
      "text/plain": [
       "stars_clean_ints\n",
       "1.0      206\n",
       "2.0      970\n",
       "3.0     2319\n",
       "4.0     4799\n",
       "5.0     8187\n",
       "6.0    12260\n",
       "7.0    13042\n",
       "8.0     9164\n",
       "9.0     4622\n",
       "dtype: int64"
      ]
     },
     "execution_count": 13,
     "metadata": {},
     "output_type": "execute_result"
    }
   ],
   "source": [
    "final_df.groupby('stars_clean_ints').size()"
   ]
  },
  {
   "cell_type": "code",
   "execution_count": 14,
   "metadata": {
    "collapsed": false
   },
   "outputs": [
    {
     "name": "stdout",
     "output_type": "stream",
     "text": [
      "Binary Good Bad (>2.5=good) Score:  0.843548914822\n"
     ]
    },
    {
     "name": "stderr",
     "output_type": "stream",
     "text": [
      "/usr/local/lib/python3.4/dist-packages/numpy/core/fromnumeric.py:2652: VisibleDeprecationWarning: `rank` is deprecated; use the `ndim` attribute or function instead. To find the rank of a matrix see `numpy.linalg.matrix_rank`.\n",
      "  VisibleDeprecationWarning)\n"
     ]
    },
    {
     "data": {
      "text/plain": [
       "array([[   15,  2757],\n",
       "       [  112, 15454]])"
      ]
     },
     "execution_count": 14,
     "metadata": {},
     "output_type": "execute_result"
    }
   ],
   "source": [
    "from sklearn.linear_model import SGDClassifier\n",
    "from sklearn.metrics import confusion_matrix\n",
    "\n",
    "\n",
    "y = final_df['stars_01']\n",
    "X_train, X_test, y_train, y_test = train_test_split(X, y, test_size=0.33, random_state=42)\n",
    "clf = SGDClassifier(loss=\"hinge\", penalty=\"l2\")\n",
    "clf.fit(X_train, y_train)\n",
    "score = clf.score(X_test, y_test)\n",
    "y_pred = clf.predict(X_test)\n",
    "print(\"Binary Good Bad (>2.5=good) Score: \", score)\n",
    "confusion_matrix(y_test, y_pred)"
   ]
  },
  {
   "cell_type": "code",
   "execution_count": 15,
   "metadata": {
    "collapsed": false
   },
   "outputs": [
    {
     "name": "stdout",
     "output_type": "stream",
     "text": [
      "Rounded Stars Score:  0.35145599302\n"
     ]
    },
    {
     "name": "stderr",
     "output_type": "stream",
     "text": [
      "/usr/local/lib/python3.4/dist-packages/numpy/core/fromnumeric.py:2652: VisibleDeprecationWarning: `rank` is deprecated; use the `ndim` attribute or function instead. To find the rank of a matrix see `numpy.linalg.matrix_rank`.\n",
      "  VisibleDeprecationWarning)\n"
     ]
    },
    {
     "data": {
      "text/plain": [
       "array([[   0,    0,    0,   47,   15],\n",
       "       [   4,    0,    0,  729,  328],\n",
       "       [  41,    0,    0, 2590, 1694],\n",
       "       [ 117,    0,    1, 3924, 4297],\n",
       "       [  40,    0,    1, 1989, 2521]])"
      ]
     },
     "execution_count": 15,
     "metadata": {},
     "output_type": "execute_result"
    }
   ],
   "source": [
    "y = final_df['stars_rounded']\n",
    "X_train, X_test, y_train, y_test = train_test_split(X, y, test_size=0.33, random_state=42)\n",
    "clf = SGDClassifier(loss=\"hinge\", penalty=\"l2\")\n",
    "clf.fit(X_train, y_train)\n",
    "score = clf.score(X_test, y_test)\n",
    "y_pred = clf.predict(X_test)\n",
    "print(\"Rounded Stars Score: \", score)\n",
    "confusion_matrix(y_test, y_pred)"
   ]
  },
  {
   "cell_type": "code",
   "execution_count": 16,
   "metadata": {
    "collapsed": false
   },
   "outputs": [
    {
     "name": "stdout",
     "output_type": "stream",
     "text": [
      "Rounded Stars Score:  0.144454138946\n"
     ]
    },
    {
     "name": "stderr",
     "output_type": "stream",
     "text": [
      "/usr/local/lib/python3.4/dist-packages/numpy/core/fromnumeric.py:2652: VisibleDeprecationWarning: `rank` is deprecated; use the `ndim` attribute or function instead. To find the rank of a matrix see `numpy.linalg.matrix_rank`.\n",
      "  VisibleDeprecationWarning)\n"
     ]
    },
    {
     "data": {
      "text/plain": [
       "array([[   0,    0,    0,    3,    5,   52,    2,    0,    0],\n",
       "       [   0,    0,    0,   56,   35,  211,   11,    5,    0],\n",
       "       [   0,    0,    4,  187,  133,  376,   33,   10,    0],\n",
       "       [   0,    0,    1,  434,  348,  746,   73,   46,    1],\n",
       "       [   0,    0,    9,  878,  692,  865,  113,  115,    4],\n",
       "       [   0,    0,    4, 1396, 1081, 1149,  194,  222,   11],\n",
       "       [   0,    0,   11, 1524,  982, 1246,  207,  292,   20],\n",
       "       [   0,    2,    5, 1130,  468, 1124,  159,  158,    8],\n",
       "       [   0,    0,    7,  387,  113,  881,   84,   20,    5]])"
      ]
     },
     "execution_count": 16,
     "metadata": {},
     "output_type": "execute_result"
    }
   ],
   "source": [
    "y = final_df['stars_clean_ints']\n",
    "X_train, X_test, y_train, y_test = train_test_split(X, y, test_size=0.33, random_state=42)\n",
    "clf = SGDClassifier(loss=\"hinge\", penalty=\"l2\")\n",
    "clf.fit(X_train, y_train)\n",
    "score = clf.score(X_test, y_test)\n",
    "y_pred = clf.predict(X_test)\n",
    "print(\"Rounded Stars Score: \", score)\n",
    "confusion_matrix(y_test, y_pred)"
   ]
  },
  {
   "cell_type": "code",
   "execution_count": 17,
   "metadata": {
    "collapsed": false
   },
   "outputs": [
    {
     "data": {
      "text/plain": [
       "7.0    4282\n",
       "6.0    4057\n",
       "8.0    3054\n",
       "5.0    2676\n",
       "4.0    1649\n",
       "9.0    1497\n",
       "3.0     743\n",
       "2.0     318\n",
       "1.0      62\n",
       "Name: stars_clean_ints, dtype: int64"
      ]
     },
     "execution_count": 17,
     "metadata": {},
     "output_type": "execute_result"
    }
   ],
   "source": [
    "y_test.value_counts()"
   ]
  },
  {
   "cell_type": "markdown",
   "metadata": {},
   "source": [
    "## Now to just look at Phoenix"
   ]
  },
  {
   "cell_type": "code",
   "execution_count": 18,
   "metadata": {
    "collapsed": false
   },
   "outputs": [
    {
     "data": {
      "text/html": [
       "<div>\n",
       "<table border=\"1\" class=\"dataframe\">\n",
       "  <thead>\n",
       "    <tr style=\"text-align: right;\">\n",
       "      <th></th>\n",
       "      <th>attributes</th>\n",
       "      <th>business_id</th>\n",
       "      <th>categories</th>\n",
       "      <th>city</th>\n",
       "      <th>full_address</th>\n",
       "      <th>hours</th>\n",
       "      <th>latitude</th>\n",
       "      <th>longitude</th>\n",
       "      <th>name</th>\n",
       "      <th>neighborhoods</th>\n",
       "      <th>...</th>\n",
       "      <th>Shopping</th>\n",
       "      <th>checkin_info</th>\n",
       "      <th>type_y</th>\n",
       "      <th>0-6_checkins</th>\n",
       "      <th>6-12_checkins</th>\n",
       "      <th>12-18_checkins</th>\n",
       "      <th>18-24_checkins</th>\n",
       "      <th>stars_01</th>\n",
       "      <th>stars_rounded</th>\n",
       "      <th>stars_clean_ints</th>\n",
       "    </tr>\n",
       "  </thead>\n",
       "  <tbody>\n",
       "    <tr>\n",
       "      <th>1577</th>\n",
       "      <td>{'Accepts Credit Cards': True, 'Price Range': ...</td>\n",
       "      <td>KyXO7gXGVdpPJ1enxIf3Ig</td>\n",
       "      <td>[Hotels &amp; Travel, Event Planning &amp; Services, H...</td>\n",
       "      <td>Glendale</td>\n",
       "      <td>14071 E Iliff Ave\\nGlendale, AZ 85308</td>\n",
       "      <td>{'Friday': {'close': '00:00', 'open': '00:00'}...</td>\n",
       "      <td>33.638630</td>\n",
       "      <td>-112.179234</td>\n",
       "      <td>Comfort Inn Denver Southeast Area</td>\n",
       "      <td>[]</td>\n",
       "      <td>...</td>\n",
       "      <td>0.0</td>\n",
       "      <td>{'17-2': 1, '10-2': 1, '20-1': 1, '21-6': 1, '...</td>\n",
       "      <td>checkin</td>\n",
       "      <td>0</td>\n",
       "      <td>1</td>\n",
       "      <td>2</td>\n",
       "      <td>3</td>\n",
       "      <td>0</td>\n",
       "      <td>2</td>\n",
       "      <td>3.0</td>\n",
       "    </tr>\n",
       "    <tr>\n",
       "      <th>1578</th>\n",
       "      <td>{'Noise Level': 'loud', 'Has TV': False, 'Outd...</td>\n",
       "      <td>x5Mv61CnZLohZWxfCVCPTQ</td>\n",
       "      <td>[Sandwiches, Pizza, Chicken Wings, Restaurants]</td>\n",
       "      <td>Phoenix</td>\n",
       "      <td>2819 N Central Ave\\nPhoenix, AZ 85004</td>\n",
       "      <td>{'Friday': {'close': '02:00', 'open': '10:00'}...</td>\n",
       "      <td>33.479482</td>\n",
       "      <td>-112.073681</td>\n",
       "      <td>Domino's Pizza</td>\n",
       "      <td>[]</td>\n",
       "      <td>...</td>\n",
       "      <td>0.0</td>\n",
       "      <td>{'12-6': 1, '22-5': 1, '23-6': 1, '18-6': 2, '...</td>\n",
       "      <td>checkin</td>\n",
       "      <td>0</td>\n",
       "      <td>1</td>\n",
       "      <td>4</td>\n",
       "      <td>8</td>\n",
       "      <td>0</td>\n",
       "      <td>3</td>\n",
       "      <td>4.0</td>\n",
       "    </tr>\n",
       "    <tr>\n",
       "      <th>1579</th>\n",
       "      <td>{'Noise Level': 'quiet', 'Take-out': True, 'Ta...</td>\n",
       "      <td>2ZnCITVa0abGce4gZ6RhIw</td>\n",
       "      <td>[American (New), Sandwiches, Restaurants]</td>\n",
       "      <td>Phoenix</td>\n",
       "      <td>1850 N Central Ave\\nPhoenix, AZ 85004</td>\n",
       "      <td>{}</td>\n",
       "      <td>33.468547</td>\n",
       "      <td>-112.075085</td>\n",
       "      <td>Viad Tower Restaurants</td>\n",
       "      <td>[]</td>\n",
       "      <td>...</td>\n",
       "      <td>0.0</td>\n",
       "      <td>{'12-6': 1, '12-1': 6, '9-4': 1, '11-4': 3, '1...</td>\n",
       "      <td>checkin</td>\n",
       "      <td>0</td>\n",
       "      <td>9</td>\n",
       "      <td>106</td>\n",
       "      <td>1</td>\n",
       "      <td>1</td>\n",
       "      <td>4</td>\n",
       "      <td>6.0</td>\n",
       "    </tr>\n",
       "    <tr>\n",
       "      <th>1580</th>\n",
       "      <td>{'Waiter Service': False, 'Accepts Credit Card...</td>\n",
       "      <td>EmzaQR5hQlF0WIl24NxAZA</td>\n",
       "      <td>[American (New), Nightlife, Dance Clubs, Resta...</td>\n",
       "      <td>Phoenix</td>\n",
       "      <td>132 E Washington St\\nPhoenix, AZ 85004</td>\n",
       "      <td>{'Sunday': {'close': '03:00', 'open': '09:00'}...</td>\n",
       "      <td>33.448399</td>\n",
       "      <td>-112.071702</td>\n",
       "      <td>Sky Lounge</td>\n",
       "      <td>[]</td>\n",
       "      <td>...</td>\n",
       "      <td>0.0</td>\n",
       "      <td>{'20-4': 2, '22-5': 4, '1-6': 5, '14-5': 1, '2...</td>\n",
       "      <td>checkin</td>\n",
       "      <td>15</td>\n",
       "      <td>0</td>\n",
       "      <td>6</td>\n",
       "      <td>35</td>\n",
       "      <td>0</td>\n",
       "      <td>3</td>\n",
       "      <td>4.0</td>\n",
       "    </tr>\n",
       "    <tr>\n",
       "      <th>1581</th>\n",
       "      <td>{'Noise Level': 'very_loud', 'Accepts Credit C...</td>\n",
       "      <td>SiwN7f0N4bs4ZtPc4yPgiA</td>\n",
       "      <td>[Bars, Nightlife, Dance Clubs]</td>\n",
       "      <td>Phoenix</td>\n",
       "      <td>710 N Central Ave\\nPhoenix, AZ 85004</td>\n",
       "      <td>{}</td>\n",
       "      <td>33.455885</td>\n",
       "      <td>-112.074177</td>\n",
       "      <td>Palazzo</td>\n",
       "      <td>[]</td>\n",
       "      <td>...</td>\n",
       "      <td>0.0</td>\n",
       "      <td>{'20-4': 1, '18-3': 1, '22-5': 1, '21-5': 1, '...</td>\n",
       "      <td>checkin</td>\n",
       "      <td>8</td>\n",
       "      <td>1</td>\n",
       "      <td>0</td>\n",
       "      <td>42</td>\n",
       "      <td>1</td>\n",
       "      <td>3</td>\n",
       "      <td>5.0</td>\n",
       "    </tr>\n",
       "  </tbody>\n",
       "</table>\n",
       "<p>5 rows × 51 columns</p>\n",
       "</div>"
      ],
      "text/plain": [
       "                                             attributes  \\\n",
       "1577  {'Accepts Credit Cards': True, 'Price Range': ...   \n",
       "1578  {'Noise Level': 'loud', 'Has TV': False, 'Outd...   \n",
       "1579  {'Noise Level': 'quiet', 'Take-out': True, 'Ta...   \n",
       "1580  {'Waiter Service': False, 'Accepts Credit Card...   \n",
       "1581  {'Noise Level': 'very_loud', 'Accepts Credit C...   \n",
       "\n",
       "                 business_id  \\\n",
       "1577  KyXO7gXGVdpPJ1enxIf3Ig   \n",
       "1578  x5Mv61CnZLohZWxfCVCPTQ   \n",
       "1579  2ZnCITVa0abGce4gZ6RhIw   \n",
       "1580  EmzaQR5hQlF0WIl24NxAZA   \n",
       "1581  SiwN7f0N4bs4ZtPc4yPgiA   \n",
       "\n",
       "                                             categories      city  \\\n",
       "1577  [Hotels & Travel, Event Planning & Services, H...  Glendale   \n",
       "1578    [Sandwiches, Pizza, Chicken Wings, Restaurants]   Phoenix   \n",
       "1579          [American (New), Sandwiches, Restaurants]   Phoenix   \n",
       "1580  [American (New), Nightlife, Dance Clubs, Resta...   Phoenix   \n",
       "1581                     [Bars, Nightlife, Dance Clubs]   Phoenix   \n",
       "\n",
       "                                full_address  \\\n",
       "1577   14071 E Iliff Ave\\nGlendale, AZ 85308   \n",
       "1578   2819 N Central Ave\\nPhoenix, AZ 85004   \n",
       "1579   1850 N Central Ave\\nPhoenix, AZ 85004   \n",
       "1580  132 E Washington St\\nPhoenix, AZ 85004   \n",
       "1581    710 N Central Ave\\nPhoenix, AZ 85004   \n",
       "\n",
       "                                                  hours   latitude  \\\n",
       "1577  {'Friday': {'close': '00:00', 'open': '00:00'}...  33.638630   \n",
       "1578  {'Friday': {'close': '02:00', 'open': '10:00'}...  33.479482   \n",
       "1579                                                 {}  33.468547   \n",
       "1580  {'Sunday': {'close': '03:00', 'open': '09:00'}...  33.448399   \n",
       "1581                                                 {}  33.455885   \n",
       "\n",
       "       longitude                               name neighborhoods  \\\n",
       "1577 -112.179234  Comfort Inn Denver Southeast Area            []   \n",
       "1578 -112.073681                     Domino's Pizza            []   \n",
       "1579 -112.075085             Viad Tower Restaurants            []   \n",
       "1580 -112.071702                         Sky Lounge            []   \n",
       "1581 -112.074177                            Palazzo            []   \n",
       "\n",
       "            ...        Shopping  \\\n",
       "1577        ...             0.0   \n",
       "1578        ...             0.0   \n",
       "1579        ...             0.0   \n",
       "1580        ...             0.0   \n",
       "1581        ...             0.0   \n",
       "\n",
       "                                           checkin_info   type_y 0-6_checkins  \\\n",
       "1577  {'17-2': 1, '10-2': 1, '20-1': 1, '21-6': 1, '...  checkin            0   \n",
       "1578  {'12-6': 1, '22-5': 1, '23-6': 1, '18-6': 2, '...  checkin            0   \n",
       "1579  {'12-6': 1, '12-1': 6, '9-4': 1, '11-4': 3, '1...  checkin            0   \n",
       "1580  {'20-4': 2, '22-5': 4, '1-6': 5, '14-5': 1, '2...  checkin           15   \n",
       "1581  {'20-4': 1, '18-3': 1, '22-5': 1, '21-5': 1, '...  checkin            8   \n",
       "\n",
       "     6-12_checkins  12-18_checkins 18-24_checkins  stars_01 stars_rounded  \\\n",
       "1577             1               2              3         0             2   \n",
       "1578             1               4              8         0             3   \n",
       "1579             9             106              1         1             4   \n",
       "1580             0               6             35         0             3   \n",
       "1581             1               0             42         1             3   \n",
       "\n",
       "      stars_clean_ints  \n",
       "1577               3.0  \n",
       "1578               4.0  \n",
       "1579               6.0  \n",
       "1580               4.0  \n",
       "1581               5.0  \n",
       "\n",
       "[5 rows x 51 columns]"
      ]
     },
     "execution_count": 18,
     "metadata": {},
     "output_type": "execute_result"
    }
   ],
   "source": [
    "phoenix = final_df[final_df['clean_city'] == 'Phoenix']\n",
    "phoenix.head()"
   ]
  },
  {
   "cell_type": "code",
   "execution_count": 106,
   "metadata": {
    "collapsed": false
   },
   "outputs": [
    {
     "name": "stdout",
     "output_type": "stream",
     "text": [
      "Binary Good Bad (>2.5=good) Score:  0.817525083612\n",
      "[[  49 1208]\n",
      " [ 156 6062]]\n",
      "Per-class Acc: 0.506946624794\n"
     ]
    },
    {
     "name": "stderr",
     "output_type": "stream",
     "text": [
      "/usr/local/lib/python3.4/dist-packages/numpy/core/fromnumeric.py:2652: VisibleDeprecationWarning: `rank` is deprecated; use the `ndim` attribute or function instead. To find the rank of a matrix see `numpy.linalg.matrix_rank`.\n",
      "  VisibleDeprecationWarning)\n"
     ]
    }
   ],
   "source": [
    "from sklearn.linear_model import SGDClassifier\n",
    "\n",
    "\n",
    "def per_class_accuracy(arr):\n",
    "    class_accs = []\n",
    "    for i in range(arr.shape[0]):\n",
    "        true = arr[i][i]\n",
    "        row_sum = sum(arr[i])\n",
    "        class_accs.append(true/row_sum)\n",
    "    return sum(class_accs)/len(class_accs)\n",
    "\n",
    "X = phoenix[['0-6_checkins','6-12_checkins','12-18_checkins','18-24_checkins','review_count','tip_count','attribute_count']]\n",
    "y = phoenix['stars_01']\n",
    "X_train, X_test, y_train, y_test = train_test_split(X, y, test_size=0.33, random_state=42)\n",
    "clf = SGDClassifier(loss=\"hinge\", penalty=\"l2\", n_iter=10)\n",
    "clf.fit(X_train, y_train)\n",
    "score = clf.score(X_test, y_test)\n",
    "y_pred = clf.predict(X_test)\n",
    "print(\"Binary Good Bad (>2.5=good) Score: \", score)\n",
    "conf = confusion_matrix(y_test, y_pred)\n",
    "print(conf)\n",
    "print(\"Per-class Acc:\",per_class_accuracy(conf))"
   ]
  },
  {
   "cell_type": "code",
   "execution_count": 70,
   "metadata": {
    "collapsed": false
   },
   "outputs": [
    {
     "name": "stderr",
     "output_type": "stream",
     "text": [
      "/usr/local/lib/python3.4/dist-packages/numpy/core/fromnumeric.py:2652: VisibleDeprecationWarning: `rank` is deprecated; use the `ndim` attribute or function instead. To find the rank of a matrix see `numpy.linalg.matrix_rank`.\n",
      "  VisibleDeprecationWarning)\n"
     ]
    },
    {
     "data": {
      "image/png": "[encoded data removed]",
      "text/plain": [
       "<matplotlib.figure.Figure at 0x7f570f832198>"
      ]
     },
     "metadata": {},
     "output_type": "display_data"
    }
   ],
   "source": [
    "import matplotlib.pyplot as plt\n",
    "%matplotlib inline\n",
    "\n",
    "def plot_confusion_matrix(cm, cls, title='Normalized confusion matrix', cmap=plt.cm.Blues):\n",
    "    plt.imshow(cm, interpolation='nearest', cmap=cmap)\n",
    "    plt.title(title)\n",
    "    plt.colorbar()\n",
    "    tick_marks = np.arange(2)\n",
    "    plt.xticks(tick_marks, cls, rotation=0)\n",
    "    plt.yticks(tick_marks, cls)\n",
    "    plt.tight_layout()\n",
    "    plt.ylabel('True Rating')\n",
    "    plt.xlabel('Predicted Rating')\n",
    "\n",
    "#classes = [1,2,3,4,5]\n",
    "classes = ['bad','good']\n",
    "cm = confusion_matrix(y_test,y_pred)\n",
    "cm_normalized = cm.astype('float') / cm.sum(axis=1)[:, np.newaxis]\n",
    "\n",
    "plt.figure()\n",
    "plot_confusion_matrix(cm_normalized, classes, title='Star Rating Confusion Matrix')\n",
    "\n",
    "plt.show()"
   ]
  },
  {
   "cell_type": "code",
   "execution_count": 59,
   "metadata": {
    "collapsed": false
   },
   "outputs": [
    {
     "name": "stdout",
     "output_type": "stream",
     "text": [
      "Binary Good Bad (>2.5=good) Score SVC:  0.831170568562\n",
      "[[  10 1247]\n",
      " [  15 6203]]\n",
      "Per-class Acc: 0.502771549122\n"
     ]
    },
    {
     "name": "stderr",
     "output_type": "stream",
     "text": [
      "/usr/local/lib/python3.4/dist-packages/numpy/core/fromnumeric.py:2652: VisibleDeprecationWarning: `rank` is deprecated; use the `ndim` attribute or function instead. To find the rank of a matrix see `numpy.linalg.matrix_rank`.\n",
      "  VisibleDeprecationWarning)\n"
     ]
    }
   ],
   "source": [
    "clf = SVC()\n",
    "clf.fit(X_train, y_train)\n",
    "score = clf.score(X_test, y_test)\n",
    "y_pred = clf.predict(X_test)\n",
    "print(\"Binary Good Bad (>2.5=good) Score SVC: \", score)\n",
    "conf = confusion_matrix(y_test, y_pred)\n",
    "print(conf)\n",
    "print(\"Per-class Acc:\",per_class_accuracy(conf))"
   ]
  },
  {
   "cell_type": "code",
   "execution_count": 71,
   "metadata": {
    "collapsed": false
   },
   "outputs": [
    {
     "name": "stdout",
     "output_type": "stream",
     "text": [
      "Binary Good Bad (>2.5=good) Score LogisticReg:  0.83143812709\n",
      "[[   0 1257]\n",
      " [   3 6215]]\n",
      "Per-class Acc: 0.499758764876\n"
     ]
    },
    {
     "name": "stderr",
     "output_type": "stream",
     "text": [
      "/usr/local/lib/python3.4/dist-packages/numpy/core/fromnumeric.py:2652: VisibleDeprecationWarning: `rank` is deprecated; use the `ndim` attribute or function instead. To find the rank of a matrix see `numpy.linalg.matrix_rank`.\n",
      "  VisibleDeprecationWarning)\n"
     ]
    }
   ],
   "source": [
    "from sklearn.linear_model import LogisticRegression\n",
    "\n",
    "clf = LogisticRegression(penalty='l2')\n",
    "clf.fit(X_train, y_train)\n",
    "score = clf.score(X_test, y_test)\n",
    "y_pred = clf.predict(X_test)\n",
    "print(\"Binary Good Bad (>2.5=good) Score LogisticReg: \", score)\n",
    "conf = confusion_matrix(y_test, y_pred)\n",
    "print(conf)\n",
    "print(\"Per-class Acc:\",per_class_accuracy(conf))"
   ]
  },
  {
   "cell_type": "code",
   "execution_count": 72,
   "metadata": {
    "collapsed": false
   },
   "outputs": [
    {
     "name": "stderr",
     "output_type": "stream",
     "text": [
      "/usr/local/lib/python3.4/dist-packages/numpy/core/fromnumeric.py:2652: VisibleDeprecationWarning: `rank` is deprecated; use the `ndim` attribute or function instead. To find the rank of a matrix see `numpy.linalg.matrix_rank`.\n",
      "  VisibleDeprecationWarning)\n"
     ]
    },
    {
     "data": {
      "image/png": "[encoded data removed]",
      "text/plain": [
       "<matplotlib.figure.Figure at 0x7f570e8823c8>"
      ]
     },
     "metadata": {},
     "output_type": "display_data"
    }
   ],
   "source": [
    "import matplotlib.pyplot as plt\n",
    "%matplotlib inline\n",
    "\n",
    "def plot_confusion_matrix(cm, cls, title='Normalized confusion matrix', cmap=plt.cm.Blues):\n",
    "    plt.imshow(cm, interpolation='nearest', cmap=cmap)\n",
    "    plt.title(title)\n",
    "    plt.colorbar()\n",
    "    tick_marks = np.arange(2)\n",
    "    plt.xticks(tick_marks, cls, rotation=0)\n",
    "    plt.yticks(tick_marks, cls)\n",
    "    plt.tight_layout()\n",
    "    plt.ylabel('True Rating')\n",
    "    plt.xlabel('Predicted Rating')\n",
    "\n",
    "#classes = [1,2,3,4,5]\n",
    "classes = ['bad','good']\n",
    "cm = confusion_matrix(y_test,y_pred)\n",
    "cm_normalized = cm.astype('float') / cm.sum(axis=1)[:, np.newaxis]\n",
    "\n",
    "plt.figure()\n",
    "plot_confusion_matrix(cm_normalized, classes, title='Star Rating Confusion Matrix')\n",
    "\n",
    "plt.show()"
   ]
  },
  {
   "cell_type": "code",
   "execution_count": 68,
   "metadata": {
    "collapsed": false
   },
   "outputs": [
    {
     "name": "stdout",
     "output_type": "stream",
     "text": [
      "Binary Good Bad (>2.5=good) Score DecisionTree:  0.730568561873\n",
      "[[ 338  919]\n",
      " [1095 5123]]\n",
      "Per-class Acc: 0.546396276062\n"
     ]
    },
    {
     "name": "stderr",
     "output_type": "stream",
     "text": [
      "/usr/local/lib/python3.4/dist-packages/numpy/core/fromnumeric.py:2652: VisibleDeprecationWarning: `rank` is deprecated; use the `ndim` attribute or function instead. To find the rank of a matrix see `numpy.linalg.matrix_rank`.\n",
      "  VisibleDeprecationWarning)\n"
     ]
    }
   ],
   "source": [
    "from sklearn.tree import DecisionTreeClassifier\n",
    "\n",
    "clf = DecisionTreeClassifier(random_state=0)\n",
    "clf.fit(X_train, y_train)\n",
    "score = clf.score(X_test, y_test)\n",
    "y_pred = clf.predict(X_test)\n",
    "print(\"Binary Good Bad (>2.5=good) Score DecisionTree: \", score)\n",
    "conf = confusion_matrix(y_test, y_pred)\n",
    "print(conf)\n",
    "print(\"Per-class Acc:\",per_class_accuracy(conf))"
   ]
  },
  {
   "cell_type": "code",
   "execution_count": null,
   "metadata": {
    "collapsed": false
   },
   "outputs": [],
   "source": []
  },
  {
   "cell_type": "code",
   "execution_count": 23,
   "metadata": {
    "collapsed": false
   },
   "outputs": [
    {
     "name": "stderr",
     "output_type": "stream",
     "text": [
      "/usr/local/lib/python3.4/dist-packages/numpy/core/fromnumeric.py:2652: VisibleDeprecationWarning: `rank` is deprecated; use the `ndim` attribute or function instead. To find the rank of a matrix see `numpy.linalg.matrix_rank`.\n",
      "  VisibleDeprecationWarning)\n"
     ]
    },
    {
     "data": {
      "image/png": "[encoded data removed]",
      "text/plain": [
       "<matplotlib.figure.Figure at 0x7f5735337630>"
      ]
     },
     "metadata": {},
     "output_type": "display_data"
    }
   ],
   "source": [
    "import matplotlib.pyplot as plt\n",
    "%matplotlib inline\n",
    "\n",
    "def plot_confusion_matrix(cm, cls, title='Normalized confusion matrix', cmap=plt.cm.Blues):\n",
    "    plt.imshow(cm, interpolation='nearest', cmap=cmap)\n",
    "    plt.title(title)\n",
    "    plt.colorbar()\n",
    "    tick_marks = np.arange(2)\n",
    "    plt.xticks(tick_marks, cls, rotation=0)\n",
    "    plt.yticks(tick_marks, cls)\n",
    "    plt.tight_layout()\n",
    "    plt.ylabel('True Rating')\n",
    "    plt.xlabel('Predicted Rating')\n",
    "\n",
    "#classes = [1,2,3,4,5]\n",
    "classes = ['bad','good']\n",
    "cm = confusion_matrix(y_test,y_pred)\n",
    "cm_normalized = cm.astype('float') / cm.sum(axis=1)[:, np.newaxis]\n",
    "\n",
    "plt.figure()\n",
    "plot_confusion_matrix(cm_normalized, classes, title='Star Rating Confusion Matrix')\n",
    "\n",
    "plt.show()"
   ]
  },
  {
   "cell_type": "code",
   "execution_count": 24,
   "metadata": {
    "collapsed": false
   },
   "outputs": [
    {
     "name": "stdout",
     "output_type": "stream",
     "text": [
      "Binary Good Bad (>2.5=good) Score SVC:  0.831170568562\n"
     ]
    },
    {
     "name": "stderr",
     "output_type": "stream",
     "text": [
      "/usr/local/lib/python3.4/dist-packages/numpy/core/fromnumeric.py:2652: VisibleDeprecationWarning: `rank` is deprecated; use the `ndim` attribute or function instead. To find the rank of a matrix see `numpy.linalg.matrix_rank`.\n",
      "  VisibleDeprecationWarning)\n"
     ]
    },
    {
     "data": {
      "text/plain": [
       "array([[  10, 1247],\n",
       "       [  15, 6203]])"
      ]
     },
     "execution_count": 24,
     "metadata": {},
     "output_type": "execute_result"
    }
   ],
   "source": [
    "from sklearn.svm import SVC\n",
    "\n",
    "clf = SVC()\n",
    "clf.fit(X_train, y_train)\n",
    "score = clf.score(X_test, y_test)\n",
    "y_pred = clf.predict(X_test)\n",
    "print(\"Binary Good Bad (>2.5=good) Score SVC: \", score)\n",
    "confusion_matrix(y_test, y_pred)"
   ]
  },
  {
   "cell_type": "code",
   "execution_count": 83,
   "metadata": {
    "collapsed": false
   },
   "outputs": [
    {
     "name": "stdout",
     "output_type": "stream",
     "text": [
      "Rounded Stars Score:  0.400936454849\n",
      "[[   0    0   14    0   19]\n",
      " [   2    0  187   47  295]\n",
      " [   2    0  500  407  860]\n",
      " [   7    0  540 1089 1569]\n",
      " [   7    0  310  212 1408]]\n",
      "Per-class Acc: 0.269864883508\n"
     ]
    },
    {
     "name": "stderr",
     "output_type": "stream",
     "text": [
      "/usr/local/lib/python3.4/dist-packages/numpy/core/fromnumeric.py:2652: VisibleDeprecationWarning: `rank` is deprecated; use the `ndim` attribute or function instead. To find the rank of a matrix see `numpy.linalg.matrix_rank`.\n",
      "  VisibleDeprecationWarning)\n"
     ]
    }
   ],
   "source": [
    "y = phoenix['stars_rounded']\n",
    "X_train, X_test, y_train, y_test = train_test_split(X, y, test_size=0.33, random_state=42)\n",
    "clf = SGDClassifier(loss=\"hinge\", penalty=\"l2\", n_iter=10)\n",
    "clf.fit(X_train, y_train)\n",
    "score = clf.score(X_test, y_test)\n",
    "y_pred = clf.predict(X_test)\n",
    "print(\"Rounded Stars Score: \", score)\n",
    "conf = confusion_matrix(y_test, y_pred)\n",
    "print(conf)\n",
    "print(\"Per-class Acc:\",per_class_accuracy(conf))"
   ]
  },
  {
   "cell_type": "code",
   "execution_count": 84,
   "metadata": {
    "collapsed": false
   },
   "outputs": [
    {
     "name": "stdout",
     "output_type": "stream",
     "text": [
      "[[   0    0   14    0   19]\n",
      " [   2    0  187   47  295]\n",
      " [   2    0  500  407  860]\n",
      " [   7    0  540 1089 1569]\n",
      " [   7    0  310  212 1408]]\n"
     ]
    },
    {
     "name": "stderr",
     "output_type": "stream",
     "text": [
      "/usr/local/lib/python3.4/dist-packages/numpy/core/fromnumeric.py:2652: VisibleDeprecationWarning: `rank` is deprecated; use the `ndim` attribute or function instead. To find the rank of a matrix see `numpy.linalg.matrix_rank`.\n",
      "  VisibleDeprecationWarning)\n"
     ]
    },
    {
     "data": {
      "image/png": "[encoded data removed]",
      "text/plain": [
       "<matplotlib.figure.Figure at 0x7f570cb2f320>"
      ]
     },
     "metadata": {},
     "output_type": "display_data"
    }
   ],
   "source": [
    "def plot_confusion_matrix(cm, cls, title='Normalized confusion matrix', cmap=plt.cm.Blues):\n",
    "    plt.imshow(cm, interpolation='nearest', cmap=cmap)\n",
    "    plt.title(title)\n",
    "    plt.colorbar()\n",
    "    tick_marks = np.arange(5)\n",
    "    plt.xticks(tick_marks, cls, rotation=0)\n",
    "    plt.yticks(tick_marks, cls)\n",
    "    plt.tight_layout()\n",
    "    plt.ylabel('True Rating')\n",
    "    plt.xlabel('Predicted Rating')\n",
    "\n",
    "classes = [1,2,3,4,5]\n",
    "#classes = ['bad','good']\n",
    "cm = confusion_matrix(y_test,y_pred)\n",
    "cm_normalized = cm.astype('float') / cm.sum(axis=1)[:, np.newaxis]\n",
    "#print(cm_normalized)\n",
    "print(cm)\n",
    "\n",
    "plt.figure()\n",
    "plot_confusion_matrix(cm_normalized, classes, title='Star Rating Confusion Matrix')\n",
    "\n",
    "plt.show()"
   ]
  },
  {
   "cell_type": "code",
   "execution_count": 74,
   "metadata": {
    "collapsed": false
   },
   "outputs": [
    {
     "name": "stderr",
     "output_type": "stream",
     "text": [
      "/usr/local/lib/python3.4/dist-packages/numpy/core/fromnumeric.py:2652: VisibleDeprecationWarning: `rank` is deprecated; use the `ndim` attribute or function instead. To find the rank of a matrix see `numpy.linalg.matrix_rank`.\n",
      "  VisibleDeprecationWarning)\n"
     ]
    },
    {
     "name": "stdout",
     "output_type": "stream",
     "text": [
      "Rounded Stars Score LogisticReg:  0.446421404682\n",
      "[[   0    0    0   25    8]\n",
      " [   0    0    0  401  130]\n",
      " [   0    0    1 1500  268]\n",
      " [   0    1    9 2788  407]\n",
      " [   0    1    1 1387  548]]\n",
      "Per-class Acc: 0.230673561182\n"
     ]
    }
   ],
   "source": [
    "from sklearn.linear_model import LogisticRegression\n",
    "\n",
    "clf = LogisticRegression(penalty='l2', multi_class='multinomial', solver='lbfgs')\n",
    "clf.fit(X_train, y_train)\n",
    "score = clf.score(X_test, y_test)\n",
    "y_pred = clf.predict(X_test)\n",
    "print(\"Rounded Stars Score LogisticReg: \", score)\n",
    "conf = confusion_matrix(y_test, y_pred)\n",
    "print(conf)\n",
    "print(\"Per-class Acc:\",per_class_accuracy(conf))"
   ]
  },
  {
   "cell_type": "code",
   "execution_count": 27,
   "metadata": {
    "collapsed": false
   },
   "outputs": [
    {
     "name": "stdout",
     "output_type": "stream",
     "text": [
      "Rounded Stars Score KMeans:  -1104934646.63\n"
     ]
    },
    {
     "name": "stderr",
     "output_type": "stream",
     "text": [
      "/usr/local/lib/python3.4/dist-packages/numpy/core/fromnumeric.py:2652: VisibleDeprecationWarning: `rank` is deprecated; use the `ndim` attribute or function instead. To find the rank of a matrix see `numpy.linalg.matrix_rank`.\n",
      "  VisibleDeprecationWarning)\n"
     ]
    },
    {
     "data": {
      "text/plain": [
       "array([[  0,   0,   0, ...,   0,   0,   0],\n",
       "       [ 31,   0,   0, ...,   0,   0,   0],\n",
       "       [409,   0,   0, ...,   0,   3,   0],\n",
       "       ..., \n",
       "       [  0,   0,   0, ...,   0,   0,   0],\n",
       "       [  0,   0,   0, ...,   0,   0,   0],\n",
       "       [  0,   0,   0, ...,   0,   0,   0]])"
      ]
     },
     "execution_count": 27,
     "metadata": {},
     "output_type": "execute_result"
    }
   ],
   "source": [
    "from sklearn.cluster import KMeans\n",
    "\n",
    "clf = KMeans(n_clusters=40)\n",
    "clf.fit(X_train, y_train)\n",
    "score = clf.score(X_test, y_test)\n",
    "y_pred = clf.predict(X_test)\n",
    "print(\"Rounded Stars Score KMeans: \", score)\n",
    "confusion_matrix(y_test, y_pred)"
   ]
  },
  {
   "cell_type": "code",
   "execution_count": 75,
   "metadata": {
    "collapsed": false
   },
   "outputs": [
    {
     "name": "stdout",
     "output_type": "stream",
     "text": [
      "Rounded Stars Score DecisionTree:  0.385685618729\n",
      "[[   0    9    7   12    5]\n",
      " [   5   71  158  164  133]\n",
      " [   7  140  552  725  345]\n",
      " [  11  193  739 1569  693]\n",
      " [   8  135  375  728  691]]\n",
      "Per-class Acc: 0.258407097308\n"
     ]
    },
    {
     "name": "stderr",
     "output_type": "stream",
     "text": [
      "/usr/local/lib/python3.4/dist-packages/numpy/core/fromnumeric.py:2652: VisibleDeprecationWarning: `rank` is deprecated; use the `ndim` attribute or function instead. To find the rank of a matrix see `numpy.linalg.matrix_rank`.\n",
      "  VisibleDeprecationWarning)\n"
     ]
    }
   ],
   "source": [
    "from sklearn.tree import DecisionTreeClassifier\n",
    "\n",
    "clf = DecisionTreeClassifier(random_state=0)\n",
    "clf.fit(X_train, y_train)\n",
    "score = clf.score(X_test, y_test)\n",
    "y_pred = clf.predict(X_test)\n",
    "print(\"Rounded Stars Score DecisionTree: \", score)\n",
    "conf = confusion_matrix(y_test, y_pred)\n",
    "print(conf)\n",
    "print(\"Per-class Acc:\",per_class_accuracy(conf))"
   ]
  },
  {
   "cell_type": "code",
   "execution_count": 29,
   "metadata": {
    "collapsed": false
   },
   "outputs": [
    {
     "name": "stdout",
     "output_type": "stream",
     "text": [
      "[[   0    9    7   12    5]\n",
      " [   5   71  158  164  133]\n",
      " [   7  140  552  725  345]\n",
      " [  11  193  739 1569  693]\n",
      " [   8  135  375  728  691]]\n"
     ]
    },
    {
     "name": "stderr",
     "output_type": "stream",
     "text": [
      "/usr/local/lib/python3.4/dist-packages/numpy/core/fromnumeric.py:2652: VisibleDeprecationWarning: `rank` is deprecated; use the `ndim` attribute or function instead. To find the rank of a matrix see `numpy.linalg.matrix_rank`.\n",
      "  VisibleDeprecationWarning)\n"
     ]
    },
    {
     "data": {
      "image/png": "[encoded data removed]",
      "text/plain": [
       "<matplotlib.figure.Figure at 0x7f570f82d7b8>"
      ]
     },
     "metadata": {},
     "output_type": "display_data"
    }
   ],
   "source": [
    "def plot_confusion_matrix(cm, cls, title='Normalized confusion matrix', cmap=plt.cm.Blues):\n",
    "    plt.imshow(cm, interpolation='nearest', cmap=cmap)\n",
    "    plt.title(title)\n",
    "    plt.colorbar()\n",
    "    tick_marks = np.arange(5)\n",
    "    plt.xticks(tick_marks, cls, rotation=0)\n",
    "    plt.yticks(tick_marks, cls)\n",
    "    plt.tight_layout()\n",
    "    plt.ylabel('True Rating')\n",
    "    plt.xlabel('Predicted Rating')\n",
    "\n",
    "classes = [1,2,3,4,5]\n",
    "#classes = ['bad','good']\n",
    "cm = confusion_matrix(y_test,y_pred)\n",
    "cm_normalized = cm.astype('float') / cm.sum(axis=1)[:, np.newaxis]\n",
    "#print(cm_normalized)\n",
    "print(cm)\n",
    "\n",
    "plt.figure()\n",
    "plot_confusion_matrix(cm_normalized, classes, title='Star Rating Confusion Matrix')\n",
    "\n",
    "plt.show()"
   ]
  },
  {
   "cell_type": "code",
   "execution_count": 85,
   "metadata": {
    "collapsed": false
   },
   "outputs": [
    {
     "name": "stdout",
     "output_type": "stream",
     "text": [
      "Rounded Stars Score SVC:  0.448695652174\n",
      "[[   0    0    2   22    9]\n",
      " [   0    5   44  381  101]\n",
      " [   0    4   98 1416  251]\n",
      " [   0    2  119 2699  385]\n",
      " [   0    4   52 1329  552]]\n",
      "Per-class Acc: 0.238382635833\n"
     ]
    },
    {
     "name": "stderr",
     "output_type": "stream",
     "text": [
      "/usr/local/lib/python3.4/dist-packages/numpy/core/fromnumeric.py:2652: VisibleDeprecationWarning: `rank` is deprecated; use the `ndim` attribute or function instead. To find the rank of a matrix see `numpy.linalg.matrix_rank`.\n",
      "  VisibleDeprecationWarning)\n"
     ]
    }
   ],
   "source": [
    "clf = SVC()\n",
    "clf.fit(X_train, y_train)\n",
    "score = clf.score(X_test, y_test)\n",
    "y_pred = clf.predict(X_test)\n",
    "print(\"Rounded Stars Score SVC: \", score)\n",
    "conf = confusion_matrix(y_test, y_pred)\n",
    "print(conf)\n",
    "print(\"Per-class Acc:\",per_class_accuracy(conf))"
   ]
  },
  {
   "cell_type": "code",
   "execution_count": 86,
   "metadata": {
    "collapsed": false
   },
   "outputs": [
    {
     "name": "stdout",
     "output_type": "stream",
     "text": [
      "[[   0    0    2   22    9]\n",
      " [   0    5   44  381  101]\n",
      " [   0    4   98 1416  251]\n",
      " [   0    2  119 2699  385]\n",
      " [   0    4   52 1329  552]]\n"
     ]
    },
    {
     "name": "stderr",
     "output_type": "stream",
     "text": [
      "/usr/local/lib/python3.4/dist-packages/numpy/core/fromnumeric.py:2652: VisibleDeprecationWarning: `rank` is deprecated; use the `ndim` attribute or function instead. To find the rank of a matrix see `numpy.linalg.matrix_rank`.\n",
      "  VisibleDeprecationWarning)\n"
     ]
    },
    {
     "data": {
      "image/png": "[encoded data removed]",
      "text/plain": [
       "<matplotlib.figure.Figure at 0x7f570b3cd940>"
      ]
     },
     "metadata": {},
     "output_type": "display_data"
    }
   ],
   "source": [
    "def plot_confusion_matrix(cm, cls, title='Normalized confusion matrix', cmap=plt.cm.Blues):\n",
    "    plt.imshow(cm, interpolation='nearest', cmap=cmap)\n",
    "    plt.title(title)\n",
    "    plt.colorbar()\n",
    "    tick_marks = np.arange(9)\n",
    "    plt.xticks(tick_marks, cls, rotation=0)\n",
    "    plt.yticks(tick_marks, cls)\n",
    "    plt.tight_layout()\n",
    "    plt.ylabel('True Rating')\n",
    "    plt.xlabel('Predicted Rating')\n",
    "\n",
    "classes = [1,2,3,4,5]\n",
    "#classes = ['bad','good']\n",
    "cm = confusion_matrix(y_test,y_pred)\n",
    "cm_normalized = cm.astype('float') / cm.sum(axis=1)[:, np.newaxis]\n",
    "#print(cm_normalized)\n",
    "print(cm)\n",
    "\n",
    "plt.figure()\n",
    "plot_confusion_matrix(cm_normalized, classes, title='Star Rating Confusion Matrix')\n",
    "\n",
    "plt.show()"
   ]
  },
  {
   "cell_type": "code",
   "execution_count": 31,
   "metadata": {
    "collapsed": false
   },
   "outputs": [
    {
     "name": "stdout",
     "output_type": "stream",
     "text": [
      "[[   0    0    2   22    9]\n",
      " [   0    5   44  381  101]\n",
      " [   0    4   98 1416  251]\n",
      " [   0    2  119 2699  385]\n",
      " [   0    4   52 1329  552]]\n"
     ]
    },
    {
     "name": "stderr",
     "output_type": "stream",
     "text": [
      "/usr/local/lib/python3.4/dist-packages/numpy/core/fromnumeric.py:2652: VisibleDeprecationWarning: `rank` is deprecated; use the `ndim` attribute or function instead. To find the rank of a matrix see `numpy.linalg.matrix_rank`.\n",
      "  VisibleDeprecationWarning)\n"
     ]
    },
    {
     "data": {
      "image/png": "[encoded data removed]",
      "text/plain": [
       "<matplotlib.figure.Figure at 0x7f5748522c50>"
      ]
     },
     "metadata": {},
     "output_type": "display_data"
    }
   ],
   "source": [
    "classes = [1,2,3,4,5]\n",
    "#classes = ['bad','good']\n",
    "cm = confusion_matrix(y_test,y_pred)\n",
    "cm_normalized = cm.astype('float') / cm.sum(axis=1)[:, np.newaxis]\n",
    "#print(cm_normalized)\n",
    "print(cm)\n",
    "\n",
    "plt.figure()\n",
    "plot_confusion_matrix(cm_normalized, classes, title='Star Rating Confusion Matrix')\n",
    "\n",
    "plt.show()"
   ]
  },
  {
   "cell_type": "code",
   "execution_count": 103,
   "metadata": {
    "collapsed": false
   },
   "outputs": [
    {
     "name": "stdout",
     "output_type": "stream",
     "text": [
      "Real Stars Score:  0.224214046823\n",
      "[[  0   2   4   1   8   4   1   8   5]\n",
      " [  6   1  23   2  26  21  28  46  19]\n",
      " [  1   4  32   1  50  52  87 115  17]\n",
      " [  2   8  74  10  80 133 188 174  24]\n",
      " [  2   5  68   3 105 190 352 320  31]\n",
      " [  5   3 101   9 103 303 587 391  30]\n",
      " [ 13   6  86   8 116 215 722 475  32]\n",
      " [ 11  15  64  11  84 108 440 464  24]\n",
      " [ 16   4  88   7  67  30 152 313  39]]\n",
      "Per-class Acc: 0.14119894507\n"
     ]
    },
    {
     "name": "stderr",
     "output_type": "stream",
     "text": [
      "/usr/local/lib/python3.4/dist-packages/numpy/core/fromnumeric.py:2652: VisibleDeprecationWarning: `rank` is deprecated; use the `ndim` attribute or function instead. To find the rank of a matrix see `numpy.linalg.matrix_rank`.\n",
      "  VisibleDeprecationWarning)\n"
     ]
    }
   ],
   "source": [
    "y = phoenix['stars_clean_ints']\n",
    "X_train, X_test, y_train, y_test = train_test_split(X, y, test_size=0.33, random_state=42)\n",
    "clf = SGDClassifier(loss=\"hinge\", penalty=\"l2\")\n",
    "clf.fit(X_train, y_train)\n",
    "score = clf.score(X_test, y_test)\n",
    "y_pred = clf.predict(X_test)\n",
    "print(\"Real Stars Score: \", score)\n",
    "conf = confusion_matrix(y_test, y_pred)\n",
    "print(conf)\n",
    "print(\"Per-class Acc:\",per_class_accuracy(conf))"
   ]
  },
  {
   "cell_type": "code",
   "execution_count": 104,
   "metadata": {
    "collapsed": false
   },
   "outputs": [
    {
     "name": "stdout",
     "output_type": "stream",
     "text": [
      "[[  0   2   4   1   8   4   1   8   5]\n",
      " [  6   1  23   2  26  21  28  46  19]\n",
      " [  1   4  32   1  50  52  87 115  17]\n",
      " [  2   8  74  10  80 133 188 174  24]\n",
      " [  2   5  68   3 105 190 352 320  31]\n",
      " [  5   3 101   9 103 303 587 391  30]\n",
      " [ 13   6  86   8 116 215 722 475  32]\n",
      " [ 11  15  64  11  84 108 440 464  24]\n",
      " [ 16   4  88   7  67  30 152 313  39]]\n"
     ]
    },
    {
     "name": "stderr",
     "output_type": "stream",
     "text": [
      "/usr/local/lib/python3.4/dist-packages/numpy/core/fromnumeric.py:2652: VisibleDeprecationWarning: `rank` is deprecated; use the `ndim` attribute or function instead. To find the rank of a matrix see `numpy.linalg.matrix_rank`.\n",
      "  VisibleDeprecationWarning)\n"
     ]
    },
    {
     "data": {
      "image/png": "[encoded data removed]",
      "text/plain": [
       "<matplotlib.figure.Figure at 0x7f570d5a55c0>"
      ]
     },
     "metadata": {},
     "output_type": "display_data"
    }
   ],
   "source": [
    "def plot_confusion_matrix(cm, cls, title='Normalized confusion matrix', cmap=plt.cm.Blues):\n",
    "    plt.imshow(cm, interpolation='nearest', cmap=cmap)\n",
    "    plt.title(title)\n",
    "    plt.colorbar()\n",
    "    tick_marks = np.arange(9)\n",
    "    plt.xticks(tick_marks, cls, rotation=0)\n",
    "    plt.yticks(tick_marks, cls)\n",
    "    plt.tight_layout()\n",
    "    plt.ylabel('True Rating')\n",
    "    plt.xlabel('Predicted Rating')\n",
    "\n",
    "\n",
    "classes = [1,1.5,2,2.5,3,3.5,4,4.5,5]\n",
    "#classes = ['bad','good']\n",
    "cm = confusion_matrix(y_test,y_pred)\n",
    "cm_normalized = cm.astype('float') / cm.sum(axis=1)[:, np.newaxis]\n",
    "#print(cm_normalized)\n",
    "print(cm)\n",
    "\n",
    "plt.figure()\n",
    "plot_confusion_matrix(cm_normalized, classes, title='Star Rating Confusion Matrix')\n",
    "\n",
    "plt.show()"
   ]
  },
  {
   "cell_type": "code",
   "execution_count": 101,
   "metadata": {
    "collapsed": false
   },
   "outputs": [
    {
     "name": "stdout",
     "output_type": "stream",
     "text": [
      "Real Stars Score:  0.207491638796\n",
      "[[  0   2   6   5   3   5   5   3   4]\n",
      " [  3  12  14  21  25  31  23  19  24]\n",
      " [  3  11  34  48  55  69  64  41  34]\n",
      " [  2  28  50 102 122 142 107  92  48]\n",
      " [  1  24  66 112 216 211 223 140  83]\n",
      " [  7  35  60 154 261 373 325 209 108]\n",
      " [  5  21  63 137 276 360 427 256 128]\n",
      " [  5  20  59  94 165 217 257 255 149]\n",
      " [  5  23  35  49  73 134 112 153 132]]\n",
      "Per-class Acc: 0.156034451721\n"
     ]
    },
    {
     "name": "stderr",
     "output_type": "stream",
     "text": [
      "/usr/local/lib/python3.4/dist-packages/numpy/core/fromnumeric.py:2652: VisibleDeprecationWarning: `rank` is deprecated; use the `ndim` attribute or function instead. To find the rank of a matrix see `numpy.linalg.matrix_rank`.\n",
      "  VisibleDeprecationWarning)\n"
     ]
    }
   ],
   "source": [
    "clf = DecisionTreeClassifier(random_state=0)\n",
    "clf.fit(X_train, y_train)\n",
    "score = clf.score(X_test, y_test)\n",
    "y_pred = clf.predict(X_test)\n",
    "print(\"Real Stars Score: \", score)\n",
    "conf = confusion_matrix(y_test, y_pred)\n",
    "print(conf)\n",
    "print(\"Per-class Acc:\",per_class_accuracy(conf))"
   ]
  },
  {
   "cell_type": "code",
   "execution_count": 102,
   "metadata": {
    "collapsed": false
   },
   "outputs": [
    {
     "name": "stdout",
     "output_type": "stream",
     "text": [
      "[[  0   2   6   5   3   5   5   3   4]\n",
      " [  3  12  14  21  25  31  23  19  24]\n",
      " [  3  11  34  48  55  69  64  41  34]\n",
      " [  2  28  50 102 122 142 107  92  48]\n",
      " [  1  24  66 112 216 211 223 140  83]\n",
      " [  7  35  60 154 261 373 325 209 108]\n",
      " [  5  21  63 137 276 360 427 256 128]\n",
      " [  5  20  59  94 165 217 257 255 149]\n",
      " [  5  23  35  49  73 134 112 153 132]]\n"
     ]
    },
    {
     "name": "stderr",
     "output_type": "stream",
     "text": [
      "/usr/local/lib/python3.4/dist-packages/numpy/core/fromnumeric.py:2652: VisibleDeprecationWarning: `rank` is deprecated; use the `ndim` attribute or function instead. To find the rank of a matrix see `numpy.linalg.matrix_rank`.\n",
      "  VisibleDeprecationWarning)\n"
     ]
    },
    {
     "data": {
      "image/png": "[encoded data removed]",
      "text/plain": [
       "<matplotlib.figure.Figure at 0x7f570d862ac8>"
      ]
     },
     "metadata": {},
     "output_type": "display_data"
    }
   ],
   "source": [
    "classes = [1,1.5,2,2.5,3,3.5,4,4.5,5]\n",
    "#classes = ['bad','good']\n",
    "cm = confusion_matrix(y_test,y_pred)\n",
    "cm_normalized = cm.astype('float') / cm.sum(axis=1)[:, np.newaxis]\n",
    "#print(cm_normalized)\n",
    "print(cm)\n",
    "\n",
    "plt.figure()\n",
    "plot_confusion_matrix(cm_normalized, classes, title='Star Rating Confusion Matrix')\n",
    "\n",
    "plt.show()"
   ]
  },
  {
   "cell_type": "code",
   "execution_count": 89,
   "metadata": {
    "collapsed": false
   },
   "outputs": [
    {
     "name": "stdout",
     "output_type": "stream",
     "text": [
      "Rounded Stars Score SVC:  0.24\n",
      "[[   0    0    0    0    4    9    8    5    7]\n",
      " [   0    0    0    7   10   45   67   12   31]\n",
      " [   0    0    3    6   24   72  201   24   29]\n",
      " [   0    0    0   15   26  144  402   44   62]\n",
      " [   0    0    3   11   48  146  729   63   76]\n",
      " [   0    0    1   16   58  193 1096   84   84]\n",
      " [   0    0    2   12   46  172 1245   97   99]\n",
      " [   0    0    0   11   27  171  747  133  132]\n",
      " [   0    1    1    9   18  119  311  100  157]]\n",
      "Per-class Acc: 0.141440371455\n"
     ]
    },
    {
     "name": "stderr",
     "output_type": "stream",
     "text": [
      "/usr/local/lib/python3.4/dist-packages/numpy/core/fromnumeric.py:2652: VisibleDeprecationWarning: `rank` is deprecated; use the `ndim` attribute or function instead. To find the rank of a matrix see `numpy.linalg.matrix_rank`.\n",
      "  VisibleDeprecationWarning)\n"
     ]
    }
   ],
   "source": [
    "clf = SVC()\n",
    "clf.fit(X_train, y_train)\n",
    "score = clf.score(X_test, y_test)\n",
    "y_pred = clf.predict(X_test)\n",
    "print(\"Rounded Stars Score SVC: \", score)\n",
    "conf = confusion_matrix(y_test, y_pred)\n",
    "print(conf)\n",
    "print(\"Per-class Acc:\",per_class_accuracy(conf))"
   ]
  },
  {
   "cell_type": "code",
   "execution_count": 90,
   "metadata": {
    "collapsed": false
   },
   "outputs": [
    {
     "name": "stdout",
     "output_type": "stream",
     "text": [
      "[[   0    0    0    0    4    9    8    5    7]\n",
      " [   0    0    0    7   10   45   67   12   31]\n",
      " [   0    0    3    6   24   72  201   24   29]\n",
      " [   0    0    0   15   26  144  402   44   62]\n",
      " [   0    0    3   11   48  146  729   63   76]\n",
      " [   0    0    1   16   58  193 1096   84   84]\n",
      " [   0    0    2   12   46  172 1245   97   99]\n",
      " [   0    0    0   11   27  171  747  133  132]\n",
      " [   0    1    1    9   18  119  311  100  157]]\n"
     ]
    },
    {
     "name": "stderr",
     "output_type": "stream",
     "text": [
      "/usr/local/lib/python3.4/dist-packages/numpy/core/fromnumeric.py:2652: VisibleDeprecationWarning: `rank` is deprecated; use the `ndim` attribute or function instead. To find the rank of a matrix see `numpy.linalg.matrix_rank`.\n",
      "  VisibleDeprecationWarning)\n"
     ]
    },
    {
     "data": {
      "image/png": "[encoded data removed]",
      "text/plain": [
       "<matplotlib.figure.Figure at 0x7f570db11a90>"
      ]
     },
     "metadata": {},
     "output_type": "display_data"
    }
   ],
   "source": [
    "classes = [1,1.5,2,2.5,3,3.5,4,4.5,5]\n",
    "#classes = ['bad','good']\n",
    "cm = confusion_matrix(y_test,y_pred)\n",
    "cm_normalized = cm.astype('float') / cm.sum(axis=1)[:, np.newaxis]\n",
    "#print(cm_normalized)\n",
    "print(cm)\n",
    "\n",
    "plt.figure()\n",
    "plot_confusion_matrix(cm_normalized, classes, title='Star Rating Confusion Matrix')\n",
    "\n",
    "plt.show()"
   ]
  },
  {
   "cell_type": "code",
   "execution_count": 32,
   "metadata": {
    "collapsed": false
   },
   "outputs": [
    {
     "data": {
      "text/plain": [
       "4    3205\n",
       "5    1937\n",
       "3    1769\n",
       "2     531\n",
       "1      33\n",
       "Name: stars_rounded, dtype: int64"
      ]
     },
     "execution_count": 32,
     "metadata": {},
     "output_type": "execute_result"
    }
   ],
   "source": [
    "y_test.value_counts()"
   ]
  },
  {
   "cell_type": "markdown",
   "metadata": {},
   "source": [
    "### Location, Location, Location\n",
    "Disregarding all attributes besides latitude and longitude leads to almost the exact same results for SGD and Logistic regression both for binary and multinomial predictors."
   ]
  },
  {
   "cell_type": "code",
   "execution_count": null,
   "metadata": {
    "collapsed": false
   },
   "outputs": [],
   "source": [
    "business_df.groupby('clean_city').size()"
   ]
  },
  {
   "cell_type": "code",
   "execution_count": 102,
   "metadata": {
    "collapsed": false
   },
   "outputs": [
    {
     "data": {
      "text/plain": [
       "53855"
      ]
     },
     "execution_count": 102,
     "metadata": {},
     "output_type": "execute_result"
    }
   ],
   "source": [
    "32616+21239"
   ]
  },
  {
   "cell_type": "code",
   "execution_count": 104,
   "metadata": {
    "collapsed": false
   },
   "outputs": [
    {
     "data": {
      "text/plain": [
       "77442"
      ]
     },
     "execution_count": 104,
     "metadata": {},
     "output_type": "execute_result"
    }
   ],
   "source": [
    "6434+3373+1067+21239+2804+4944+32616+3754+737+474"
   ]
  },
  {
   "cell_type": "code",
   "execution_count": 105,
   "metadata": {
    "collapsed": false
   },
   "outputs": [
    {
     "data": {
      "text/plain": [
       "0.6954236719092999"
      ]
     },
     "execution_count": 105,
     "metadata": {},
     "output_type": "execute_result"
    }
   ],
   "source": [
    "53855/77442"
   ]
  },
  {
   "cell_type": "code",
   "execution_count": 106,
   "metadata": {
    "collapsed": false
   },
   "outputs": [
    {
     "data": {
      "text/plain": [
       "67584"
      ]
     },
     "execution_count": 106,
     "metadata": {},
     "output_type": "execute_result"
    }
   ],
   "source": [
    "77442-3373-1067-4944-474"
   ]
  },
  {
   "cell_type": "code",
   "execution_count": 107,
   "metadata": {
    "collapsed": false
   },
   "outputs": [
    {
     "data": {
      "text/plain": [
       "0.8727047338653444"
      ]
     },
     "execution_count": 107,
     "metadata": {},
     "output_type": "execute_result"
    }
   ],
   "source": [
    "67584/77442"
   ]
  },
  {
   "cell_type": "code",
   "execution_count": 115,
   "metadata": {
    "collapsed": false
   },
   "outputs": [
    {
     "data": {
      "text/plain": [
       "top_level_category\n",
       "Active Life                      2849\n",
       "Arts & Entertainment             2011\n",
       "Automotive                       3853\n",
       "Beauty & Spas                    5595\n",
       "Education                         478\n",
       "Event Planning & Services         984\n",
       "Financial Services                842\n",
       "Food                             8871\n",
       "Health & Medical                 4565\n",
       "Home Services                    3778\n",
       "Hotels & Travel                  2302\n",
       "Local Flavor                      126\n",
       "Local Services                   3295\n",
       "Mass Media                        101\n",
       "N/A                               260\n",
       "Nightlife                        3984\n",
       "Pets                             1451\n",
       "Professional Services             691\n",
       "Public Services & Government      382\n",
       "Real Estate                       188\n",
       "Religious Organizations           213\n",
       "Restaurants                     20639\n",
       "Shopping                         9987\n",
       "dtype: int64"
      ]
     },
     "execution_count": 115,
     "metadata": {},
     "output_type": "execute_result"
    }
   ],
   "source": [
    "business_df.groupby('top_level_category').size()"
   ]
  },
  {
   "cell_type": "code",
   "execution_count": 35,
   "metadata": {
    "collapsed": true
   },
   "outputs": [],
   "source": [
    "from bokeh.charts import HeatMap, output_file, show\n",
    "\n",
    "hm = HeatMap(phoenix, x='longitude', y='latitude', values='stars')\n",
    "output_file('heatmap.html')\n",
    "show(hm)"
   ]
  },
  {
   "cell_type": "code",
   "execution_count": null,
   "metadata": {
    "collapsed": true
   },
   "outputs": [],
   "source": [
    "import matplotlib.pyplot as plt\n",
    "%matplotlib inline\n",
    "\n",
    "plt.contour(phoenix['longitude'], phoenix['latitude'])\n",
    "plt.show()"
   ]
  },
  {
   "cell_type": "code",
   "execution_count": 39,
   "metadata": {
    "collapsed": false
   },
   "outputs": [
    {
     "data": {
      "text/plain": [
       "<seaborn.axisgrid.JointGrid at 0x7f48b32b63c8>"
      ]
     },
     "execution_count": 39,
     "metadata": {},
     "output_type": "execute_result"
    },
    {
     "data": {
      "image/png": "[encoded data removed]",
      "text/plain": [
       "<matplotlib.figure.Figure at 0x7f48b32ac4e0>"
      ]
     },
     "metadata": {},
     "output_type": "display_data"
    }
   ],
   "source": [
    "import numpy as np\n",
    "import seaborn as sns\n",
    "%matplotlib inline\n",
    "\n",
    "sns.jointplot(phoenix['longitude'], phoenix['latitude'], kind=\"kde\", size=12)"
   ]
  },
  {
   "cell_type": "code",
   "execution_count": 40,
   "metadata": {
    "collapsed": false
   },
   "outputs": [
    {
     "data": {
      "text/plain": [
       "<seaborn.axisgrid.JointGrid at 0x7f48b3073160>"
      ]
     },
     "execution_count": 40,
     "metadata": {},
     "output_type": "execute_result"
    },
    {
     "data": {
      "image/png": "[encoded data removed]",
      "text/plain": [
       "<matplotlib.figure.Figure at 0x7f48b30738d0>"
      ]
     },
     "metadata": {},
     "output_type": "display_data"
    }
   ],
   "source": [
    "star_5 = phoenix[phoenix.stars == 5]\n",
    "sns.jointplot(star_5['longitude'], star_5['latitude'], kind=\"kde\", size=12)"
   ]
  },
  {
   "cell_type": "code",
   "execution_count": 41,
   "metadata": {
    "collapsed": false
   },
   "outputs": [
    {
     "data": {
      "text/plain": [
       "<seaborn.axisgrid.JointGrid at 0x7f48b2fc7a90>"
      ]
     },
     "execution_count": 41,
     "metadata": {},
     "output_type": "execute_result"
    },
    {
     "data": {
      "image/png": "[encoded data removed]",
      "text/plain": [
       "<matplotlib.figure.Figure at 0x7f48b2fc7b70>"
      ]
     },
     "metadata": {},
     "output_type": "display_data"
    }
   ],
   "source": [
    "star_4 = phoenix[phoenix.stars == 4]\n",
    "sns.jointplot(star_4['longitude'], star_4['latitude'], kind=\"kde\", size=12)"
   ]
  },
  {
   "cell_type": "code",
   "execution_count": 47,
   "metadata": {
    "collapsed": false
   },
   "outputs": [
    {
     "name": "stdout",
     "output_type": "stream",
     "text": [
      "Index(['lat', 'lon'], dtype='object')\n",
      "no data in current view\n",
      "no data in current view\n",
      "no data in current view\n",
      "('http://otile1.mqcdn.com/tiles/1.0.0/osm/20/558434/328113.png', HTTPError())\n",
      "('http://otile4.mqcdn.com/tiles/1.0.0/osm/20/558439/328116.png', HTTPError())\n",
      "('http://otile2.mqcdn.com/tiles/1.0.0/osm/20/558435/328116.png', HTTPError())\n",
      "('http://otile3.mqcdn.com/tiles/1.0.0/osm/20/558438/328115.png', HTTPError())\n",
      "('http://otile4.mqcdn.com/tiles/1.0.0/osm/20/558436/328112.png', HTTPError())\n",
      "no data in current view\n",
      "('http://otile4.mqcdn.com/tiles/1.0.0/osm/19/279222/164059.png', HTTPError())\n",
      "('http://otile2.mqcdn.com/tiles/1.0.0/osm/19/279220/164055.png', HTTPError())\n",
      "('http://otile2.mqcdn.com/tiles/1.0.0/osm/20/558437/328113.png', HTTPError())\n",
      "no data in current view\n",
      "('http://otile1.mqcdn.com/tiles/1.0.0/osm/17/69809/41013.png', HTTPError())\n",
      "('http://otile2.mqcdn.com/tiles/1.0.0/osm/20/558441/328112.png', HTTPError())\n",
      "('http://otile3.mqcdn.com/tiles/1.0.0/osm/20/558436/328114.png', HTTPError())\n",
      "('http://otile1.mqcdn.com/tiles/1.0.0/osm/19/279215/164059.png', HTTPError())\n",
      "('http://otile3.mqcdn.com/tiles/1.0.0/osm/18/139606/82034.png', HTTPError())\n",
      "('http://otile3.mqcdn.com/tiles/1.0.0/osm/19/279215/164055.png', HTTPError())\n",
      "('http://otile2.mqcdn.com/tiles/1.0.0/osm/20/558349/328142.png', HTTPError())\n",
      "no data in current view\n",
      "('http://otile2.mqcdn.com/tiles/1.0.0/osm/18/139599/82032.png', HTTPError())\n",
      "('http://otile3.mqcdn.com/tiles/1.0.0/osm/20/558348/328143.png', HTTPError())\n",
      "('http://otile1.mqcdn.com/tiles/1.0.0/osm/20/558354/328142.png', HTTPError())\n",
      "('http://otile4.mqcdn.com/tiles/1.0.0/osm/20/558438/328115.png', HTTPError())\n",
      "('http://otile3.mqcdn.com/tiles/1.0.0/osm/20/558358/328143.png', HTTPError())\n",
      "('http://otile3.mqcdn.com/tiles/1.0.0/osm/20/558358/328141.png', HTTPError())\n",
      "no data in current view\n",
      "('http://otile4.mqcdn.com/tiles/1.0.0/osm/20/558357/328145.png', HTTPError())\n",
      "('http://otile2.mqcdn.com/tiles/1.0.0/osm/20/558284/328165.png', HTTPError())\n",
      "('http://otile2.mqcdn.com/tiles/1.0.0/osm/20/558277/328163.png', HTTPError())\n",
      "('http://otile3.mqcdn.com/tiles/1.0.0/osm/20/558353/328143.png', HTTPError())\n",
      "('http://otile2.mqcdn.com/tiles/1.0.0/osm/20/558355/328146.png', HTTPError())\n",
      "('http://otile2.mqcdn.com/tiles/1.0.0/osm/19/279139/164081.png', HTTPError())\n",
      "('http://otile1.mqcdn.com/tiles/1.0.0/osm/20/558282/328164.png', HTTPError())\n",
      "('http://otile1.mqcdn.com/tiles/1.0.0/osm/20/558356/328144.png', HTTPError())\n",
      "('http://otile1.mqcdn.com/tiles/1.0.0/osm/20/558354/328141.png', HTTPError())\n",
      "('http://otile3.mqcdn.com/tiles/1.0.0/osm/18/139573/82041.png', HTTPError())\n",
      "('http://otile4.mqcdn.com/tiles/1.0.0/osm/18/139570/82040.png', HTTPError())\n",
      "('http://otile1.mqcdn.com/tiles/1.0.0/osm/20/558354/328145.png', HTTPError())\n",
      "('http://otile2.mqcdn.com/tiles/1.0.0/osm/20/558354/328143.png', HTTPError())\n",
      "('http://otile3.mqcdn.com/tiles/1.0.0/osm/20/558350/328146.png', HTTPError())\n",
      "('http://otile3.mqcdn.com/tiles/1.0.0/osm/20/558344/328143.png', HTTPError())\n",
      "('http://otile2.mqcdn.com/tiles/1.0.0/osm/18/139608/82026.png', HTTPError())\n",
      "('http://otile2.mqcdn.com/tiles/1.0.0/osm/19/279170/164073.png', HTTPError())\n",
      "('http://otile3.mqcdn.com/tiles/1.0.0/osm/17/69800/41016.png', HTTPError())\n",
      "('http://otile2.mqcdn.com/tiles/1.0.0/osm/20/558278/328163.png', HTTPError())\n",
      "('http://otile3.mqcdn.com/tiles/1.0.0/osm/20/558279/328166.png', HTTPError())\n",
      "('http://otile4.mqcdn.com/tiles/1.0.0/osm/20/558440/328114.png', HTTPError())\n",
      "('http://otile1.mqcdn.com/tiles/1.0.0/osm/19/279169/164070.png', HTTPError())\n",
      "('http://otile1.mqcdn.com/tiles/1.0.0/osm/20/558345/328142.png', HTTPError())\n",
      "('http://otile2.mqcdn.com/tiles/1.0.0/osm/20/558351/328143.png', HTTPError())\n",
      "('http://otile4.mqcdn.com/tiles/1.0.0/osm/20/558284/328167.png', HTTPError())\n",
      "('http://otile1.mqcdn.com/tiles/1.0.0/osm/17/69781/41022.png', HTTPError())\n",
      "('http://otile3.mqcdn.com/tiles/1.0.0/osm/17/69784/41020.png', HTTPError())\n",
      "('http://otile2.mqcdn.com/tiles/1.0.0/osm/20/558344/328146.png', HTTPError())\n",
      "('http://otile1.mqcdn.com/tiles/1.0.0/osm/20/558357/328143.png', HTTPError())\n",
      "('http://otile1.mqcdn.com/tiles/1.0.0/osm/20/558348/328142.png', HTTPError())\n",
      "('http://otile4.mqcdn.com/tiles/1.0.0/osm/20/558347/328146.png', HTTPError())\n",
      "('http://otile4.mqcdn.com/tiles/1.0.0/osm/20/558354/328141.png', HTTPError())\n",
      "('http://otile3.mqcdn.com/tiles/1.0.0/osm/20/558348/328146.png', HTTPError())\n",
      "('http://otile3.mqcdn.com/tiles/1.0.0/osm/20/558345/328146.png', HTTPError())\n",
      "('http://otile1.mqcdn.com/tiles/1.0.0/osm/20/558342/328144.png', HTTPError())\n",
      "('http://otile2.mqcdn.com/tiles/1.0.0/osm/20/558436/328112.png', HTTPError())\n",
      "('http://otile3.mqcdn.com/tiles/1.0.0/osm/20/558283/328166.png', HTTPError())\n",
      "('http://otile2.mqcdn.com/tiles/1.0.0/osm/20/558438/328116.png', HTTPError())\n",
      "('http://otile3.mqcdn.com/tiles/1.0.0/osm/20/558342/328142.png', HTTPError())\n",
      "('http://otile3.mqcdn.com/tiles/1.0.0/osm/20/558345/328145.png', HTTPError())\n",
      "('http://otile4.mqcdn.com/tiles/1.0.0/osm/20/558278/328167.png', HTTPError())\n",
      "('http://otile2.mqcdn.com/tiles/1.0.0/osm/20/558347/328143.png', HTTPError())\n",
      "('http://otile2.mqcdn.com/tiles/1.0.0/osm/20/558279/328166.png', HTTPError())\n",
      "('http://otile3.mqcdn.com/tiles/1.0.0/osm/20/558279/328167.png', HTTPError())\n",
      "('http://otile4.mqcdn.com/tiles/1.0.0/osm/20/558353/328146.png', HTTPError())\n",
      "('http://otile4.mqcdn.com/tiles/1.0.0/osm/20/558346/328144.png', HTTPError())\n",
      "('http://otile4.mqcdn.com/tiles/1.0.0/osm/20/558437/328113.png', HTTPError())\n",
      "('http://otile1.mqcdn.com/tiles/1.0.0/osm/20/558355/328143.png', HTTPError())\n",
      "('http://otile4.mqcdn.com/tiles/1.0.0/osm/20/558277/328166.png', HTTPError())\n",
      "('http://otile1.mqcdn.com/tiles/1.0.0/osm/20/558354/328144.png', HTTPError())\n",
      "('http://otile3.mqcdn.com/tiles/1.0.0/osm/20/558354/328145.png', HTTPError())\n",
      "('http://otile2.mqcdn.com/tiles/1.0.0/osm/20/558439/328116.png', HTTPError())\n",
      "('http://otile3.mqcdn.com/tiles/1.0.0/osm/20/558341/328142.png', HTTPError())\n",
      "('http://otile2.mqcdn.com/tiles/1.0.0/osm/20/558284/328167.png', HTTPError())\n",
      "('http://otile2.mqcdn.com/tiles/1.0.0/osm/20/558344/328144.png', HTTPError())\n",
      "('http://otile1.mqcdn.com/tiles/1.0.0/osm/20/558441/328116.png', HTTPError())\n",
      "('http://otile2.mqcdn.com/tiles/1.0.0/osm/20/558357/328145.png', HTTPError())\n",
      "('http://otile1.mqcdn.com/tiles/1.0.0/osm/20/558356/328146.png', HTTPError())\n",
      "('http://otile2.mqcdn.com/tiles/1.0.0/osm/20/558280/328165.png', HTTPError())\n",
      "('http://otile2.mqcdn.com/tiles/1.0.0/osm/20/558280/328166.png', HTTPError())\n",
      "('http://otile2.mqcdn.com/tiles/1.0.0/osm/19/279217/164055.png', HTTPError())\n",
      "('http://otile4.mqcdn.com/tiles/1.0.0/osm/20/558436/328113.png', HTTPError())\n",
      "('http://otile2.mqcdn.com/tiles/1.0.0/osm/20/558349/328144.png', HTTPError())\n",
      "('http://otile2.mqcdn.com/tiles/1.0.0/osm/20/558357/328142.png', HTTPError())\n",
      "('http://otile1.mqcdn.com/tiles/1.0.0/osm/20/558360/328144.png', HTTPError())\n",
      "('http://otile1.mqcdn.com/tiles/1.0.0/osm/20/558350/328145.png', HTTPError())\n",
      "('http://otile3.mqcdn.com/tiles/1.0.0/osm/20/558277/328163.png', HTTPError())\n",
      "('http://otile3.mqcdn.com/tiles/1.0.0/osm/20/558441/328116.png', HTTPError())\n",
      "('http://otile1.mqcdn.com/tiles/1.0.0/osm/20/558441/328114.png', HTTPError())\n",
      "('http://otile2.mqcdn.com/tiles/1.0.0/osm/20/558360/328142.png', HTTPError())\n",
      "('http://otile4.mqcdn.com/tiles/1.0.0/osm/20/558280/328165.png', HTTPError())\n",
      "('http://otile4.mqcdn.com/tiles/1.0.0/osm/20/558340/328144.png', HTTPError())\n",
      "('http://otile3.mqcdn.com/tiles/1.0.0/osm/20/558284/328167.png', HTTPError())\n",
      "('http://otile4.mqcdn.com/tiles/1.0.0/osm/20/558347/328144.png', HTTPError())\n",
      "('http://otile4.mqcdn.com/tiles/1.0.0/osm/20/558357/328146.png', HTTPError())\n",
      "('http://otile2.mqcdn.com/tiles/1.0.0/osm/20/558353/328146.png', HTTPError())\n",
      "('http://otile2.mqcdn.com/tiles/1.0.0/osm/20/558340/328143.png', HTTPError())\n",
      "('http://otile4.mqcdn.com/tiles/1.0.0/osm/20/558280/328167.png', HTTPError())\n",
      "('http://otile1.mqcdn.com/tiles/1.0.0/osm/20/558440/328113.png', HTTPError())\n",
      "no data in current view\n",
      "('http://otile3.mqcdn.com/tiles/1.0.0/osm/20/558348/328145.png', HTTPError())\n",
      "('http://otile3.mqcdn.com/tiles/1.0.0/osm/20/558438/328112.png', HTTPError())\n",
      "('http://otile3.mqcdn.com/tiles/1.0.0/osm/18/139608/82033.png', HTTPError())\n",
      "('http://otile3.mqcdn.com/tiles/1.0.0/osm/20/558280/328164.png', HTTPError())\n",
      "('http://otile2.mqcdn.com/tiles/1.0.0/osm/20/558282/328166.png', HTTPError())\n",
      "('http://otile2.mqcdn.com/tiles/1.0.0/osm/20/558351/328142.png', HTTPError())\n",
      "('http://otile1.mqcdn.com/tiles/1.0.0/osm/20/558281/328166.png', HTTPError())\n",
      "('http://otile1.mqcdn.com/tiles/1.0.0/osm/20/558351/328142.png', HTTPError())\n",
      "('http://otile4.mqcdn.com/tiles/1.0.0/osm/20/558343/328146.png', HTTPError())\n",
      "('http://otile3.mqcdn.com/tiles/1.0.0/osm/20/558437/328116.png', HTTPError())\n",
      "('http://otile4.mqcdn.com/tiles/1.0.0/osm/20/558356/328142.png', HTTPError())\n",
      "('http://otile1.mqcdn.com/tiles/1.0.0/osm/20/558439/328114.png', HTTPError())\n",
      "('http://otile4.mqcdn.com/tiles/1.0.0/osm/20/558357/328141.png', HTTPError())\n",
      "('http://otile3.mqcdn.com/tiles/1.0.0/osm/20/558350/328144.png', HTTPError())\n",
      "('http://otile4.mqcdn.com/tiles/1.0.0/osm/20/558350/328146.png', HTTPError())\n",
      "('http://otile2.mqcdn.com/tiles/1.0.0/osm/20/558357/328146.png', HTTPError())\n",
      "('http://otile2.mqcdn.com/tiles/1.0.0/osm/20/558440/328114.png', HTTPError())\n",
      "('http://otile2.mqcdn.com/tiles/1.0.0/osm/20/558441/328116.png', HTTPError())\n",
      "('http://otile1.mqcdn.com/tiles/1.0.0/osm/20/558278/328165.png', HTTPError())\n",
      "('http://otile2.mqcdn.com/tiles/1.0.0/osm/20/558278/328165.png', HTTPError())\n",
      "('http://otile1.mqcdn.com/tiles/1.0.0/osm/20/558352/328142.png', HTTPError())\n",
      "('http://otile3.mqcdn.com/tiles/1.0.0/osm/20/558284/328166.png', HTTPError())\n",
      "('http://otile3.mqcdn.com/tiles/1.0.0/osm/20/558354/328143.png', HTTPError())\n",
      "('http://otile3.mqcdn.com/tiles/1.0.0/osm/20/558435/328114.png', HTTPError())\n",
      "('http://otile1.mqcdn.com/tiles/1.0.0/osm/20/558281/328167.png', HTTPError())\n",
      "('http://otile1.mqcdn.com/tiles/1.0.0/osm/20/558355/328141.png', HTTPError())\n",
      "('http://otile3.mqcdn.com/tiles/1.0.0/osm/20/558355/328141.png', HTTPError())\n",
      "('http://otile3.mqcdn.com/tiles/1.0.0/osm/20/558352/328144.png', HTTPError())\n",
      "('http://otile4.mqcdn.com/tiles/1.0.0/osm/20/558343/328142.png', HTTPError())\n",
      "('http://otile3.mqcdn.com/tiles/1.0.0/osm/20/558346/328142.png', HTTPError())\n",
      "('http://otile2.mqcdn.com/tiles/1.0.0/osm/20/558346/328142.png', HTTPError())\n",
      "('http://otile3.mqcdn.com/tiles/1.0.0/osm/20/558347/328145.png', HTTPError())\n",
      "('http://otile3.mqcdn.com/tiles/1.0.0/osm/20/558349/328144.png', HTTPError())\n",
      "('http://otile3.mqcdn.com/tiles/1.0.0/osm/20/558352/328145.png', HTTPError())\n",
      "('http://otile2.mqcdn.com/tiles/1.0.0/osm/20/558359/328144.png', HTTPError())\n",
      "('http://otile2.mqcdn.com/tiles/1.0.0/osm/20/558352/328143.png', HTTPError())\n",
      "('http://otile1.mqcdn.com/tiles/1.0.0/osm/20/558340/328146.png', HTTPError())\n",
      "('http://otile4.mqcdn.com/tiles/1.0.0/osm/20/558346/328145.png', HTTPError())\n",
      "('http://otile2.mqcdn.com/tiles/1.0.0/osm/20/558351/328146.png', HTTPError())\n",
      "('http://otile3.mqcdn.com/tiles/1.0.0/osm/20/558351/328143.png', HTTPError())\n",
      "('http://otile1.mqcdn.com/tiles/1.0.0/osm/20/558351/328145.png', HTTPError())\n",
      "no data in current view\n",
      "('http://otile2.mqcdn.com/tiles/1.0.0/osm/20/558277/328163.png', HTTPError())\n",
      "('smallest non-zero count', 7.1647865443840456e-09)\n",
      "('max count:', 13.876138719404196)\n",
      "('http://otile2.mqcdn.com/tiles/1.0.0/osm/20/558280/328166.png', HTTPError())\n",
      "('http://otile4.mqcdn.com/tiles/1.0.0/osm/20/558437/328116.png', HTTPError())\n",
      "('http://otile1.mqcdn.com/tiles/1.0.0/osm/20/558347/328145.png', HTTPError())\n",
      "('smallest non-zero count', 7.1647865443840454e-10)\n",
      "('max count:', 13.500708268564782)\n",
      "('smallest non-zero count', 7.1647865443840454e-10)\n",
      "('max count:', 5.2411651156600874)\n",
      "('smallest non-zero count', 7.1647865443840454e-10)\n",
      "('max count:', 1.1265295576084502)\n",
      "('http://otile1.mqcdn.com/tiles/1.0.0/osm/20/558441/328113.png', HTTPError())\n",
      "('http://otile1.mqcdn.com/tiles/1.0.0/osm/20/558281/328163.png', HTTPError())\n",
      "('http://otile3.mqcdn.com/tiles/1.0.0/osm/20/558434/328116.png', HTTPError())\n",
      "('http://otile4.mqcdn.com/tiles/1.0.0/osm/20/558349/328142.png', HTTPError())\n",
      "('http://otile1.mqcdn.com/tiles/1.0.0/osm/20/558353/328142.png', HTTPError())\n",
      "('http://otile3.mqcdn.com/tiles/1.0.0/osm/20/558436/328116.png', HTTPError())\n",
      "('http://otile3.mqcdn.com/tiles/1.0.0/osm/20/558282/328166.png', HTTPError())\n",
      "('http://otile3.mqcdn.com/tiles/1.0.0/osm/20/558437/328113.png', HTTPError())\n",
      "('http://otile2.mqcdn.com/tiles/1.0.0/osm/20/558436/328115.png', HTTPError())\n",
      "('http://otile2.mqcdn.com/tiles/1.0.0/osm/20/558354/328142.png', HTTPError())\n",
      "('http://otile4.mqcdn.com/tiles/1.0.0/osm/20/558437/328114.png', HTTPError())\n",
      "('http://otile2.mqcdn.com/tiles/1.0.0/osm/20/558341/328143.png', HTTPError())\n",
      "('http://otile3.mqcdn.com/tiles/1.0.0/osm/20/558349/328142.png', HTTPError())\n",
      "('smallest non-zero count', 7.1647865443840454e-10)\n",
      "('max count:', 0.81042657903461812)\n",
      "('http://otile1.mqcdn.com/tiles/1.0.0/osm/20/558437/328113.png', HTTPError())\n",
      "('http://otile3.mqcdn.com/tiles/1.0.0/osm/20/558280/328163.png', HTTPError())\n",
      "('http://otile1.mqcdn.com/tiles/1.0.0/osm/20/558346/328142.png', HTTPError())\n",
      "('http://otile3.mqcdn.com/tiles/1.0.0/osm/20/558341/328145.png', HTTPError())\n",
      "('http://otile3.mqcdn.com/tiles/1.0.0/osm/20/558434/328115.png', HTTPError())\n",
      "('http://otile2.mqcdn.com/tiles/1.0.0/osm/20/558435/328112.png', HTTPError())\n",
      "('http://otile4.mqcdn.com/tiles/1.0.0/osm/20/558438/328114.png', HTTPError())\n",
      "('http://otile4.mqcdn.com/tiles/1.0.0/osm/20/558434/328112.png', HTTPError())\n",
      "('http://otile4.mqcdn.com/tiles/1.0.0/osm/20/558348/328142.png', HTTPError())\n",
      "('http://otile1.mqcdn.com/tiles/1.0.0/osm/20/558284/328165.png', HTTPError())\n",
      "('http://otile2.mqcdn.com/tiles/1.0.0/osm/20/558340/328144.png', HTTPError())\n",
      "('http://otile4.mqcdn.com/tiles/1.0.0/osm/20/558355/328141.png', HTTPError())\n",
      "('http://otile1.mqcdn.com/tiles/1.0.0/osm/20/558284/328163.png', HTTPError())\n",
      "('http://otile4.mqcdn.com/tiles/1.0.0/osm/20/558344/328143.png', HTTPError())\n",
      "('http://otile4.mqcdn.com/tiles/1.0.0/osm/20/558342/328143.png', HTTPError())\n",
      "('http://otile3.mqcdn.com/tiles/1.0.0/osm/20/558441/328115.png', HTTPError())\n",
      "('http://otile2.mqcdn.com/tiles/1.0.0/osm/20/558350/328144.png', HTTPError())\n",
      "('http://otile2.mqcdn.com/tiles/1.0.0/osm/20/558437/328115.png', HTTPError())\n",
      "('http://otile1.mqcdn.com/tiles/1.0.0/osm/20/558283/328165.png', HTTPError())\n",
      "('http://otile3.mqcdn.com/tiles/1.0.0/osm/20/558282/328164.png', HTTPError())\n",
      "('http://otile4.mqcdn.com/tiles/1.0.0/osm/20/558277/328164.png', HTTPError())\n",
      "('http://otile3.mqcdn.com/tiles/1.0.0/osm/20/558357/328145.png', HTTPError())\n",
      "('http://otile1.mqcdn.com/tiles/1.0.0/osm/20/558354/328146.png', HTTPError())\n",
      "('http://otile2.mqcdn.com/tiles/1.0.0/osm/20/558348/328146.png', HTTPError())\n",
      "('http://otile2.mqcdn.com/tiles/1.0.0/osm/20/558435/328115.png', HTTPError())\n",
      "('http://otile1.mqcdn.com/tiles/1.0.0/osm/20/558352/328145.png', HTTPError())\n",
      "('http://otile1.mqcdn.com/tiles/1.0.0/osm/20/558277/328165.png', HTTPError())\n",
      "('http://otile2.mqcdn.com/tiles/1.0.0/osm/20/558439/328112.png', HTTPError())\n",
      "('http://otile4.mqcdn.com/tiles/1.0.0/osm/20/558354/328144.png', HTTPError())\n",
      "('http://otile2.mqcdn.com/tiles/1.0.0/osm/20/558342/328146.png', HTTPError())\n",
      "('http://otile4.mqcdn.com/tiles/1.0.0/osm/20/558345/328144.png', HTTPError())\n",
      "('http://otile3.mqcdn.com/tiles/1.0.0/osm/20/558346/328145.png', HTTPError())\n",
      "('http://otile3.mqcdn.com/tiles/1.0.0/osm/20/558279/328164.png', HTTPError())\n",
      "('http://otile1.mqcdn.com/tiles/1.0.0/osm/20/558355/328142.png', HTTPError())\n",
      "('http://otile4.mqcdn.com/tiles/1.0.0/osm/20/558360/328143.png', HTTPError())\n",
      "('http://otile3.mqcdn.com/tiles/1.0.0/osm/20/558359/328144.png', HTTPError())\n",
      "('http://otile4.mqcdn.com/tiles/1.0.0/osm/20/558340/328145.png', HTTPError())\n",
      "('http://otile1.mqcdn.com/tiles/1.0.0/osm/20/558357/328146.png', HTTPError())\n",
      "('http://otile4.mqcdn.com/tiles/1.0.0/osm/20/558359/328145.png', HTTPError())\n",
      "('http://otile1.mqcdn.com/tiles/1.0.0/osm/20/558358/328145.png', HTTPError())\n",
      "('http://otile4.mqcdn.com/tiles/1.0.0/osm/20/558283/328165.png', HTTPError())\n",
      "('http://otile3.mqcdn.com/tiles/1.0.0/osm/20/558279/328163.png', HTTPError())\n",
      "('http://otile4.mqcdn.com/tiles/1.0.0/osm/20/558440/328115.png', HTTPError())\n",
      "('http://otile3.mqcdn.com/tiles/1.0.0/osm/20/558354/328142.png', HTTPError())\n",
      "('http://otile4.mqcdn.com/tiles/1.0.0/osm/20/558348/328145.png', HTTPError())\n",
      "('http://otile4.mqcdn.com/tiles/1.0.0/osm/20/558343/328144.png', HTTPError())\n",
      "('http://otile4.mqcdn.com/tiles/1.0.0/osm/20/558341/328142.png', HTTPError())\n",
      "('http://otile3.mqcdn.com/tiles/1.0.0/osm/20/558360/328142.png', HTTPError())\n",
      "('http://otile2.mqcdn.com/tiles/1.0.0/osm/20/558350/328146.png', HTTPError())\n",
      "('http://otile3.mqcdn.com/tiles/1.0.0/osm/20/558283/328164.png', HTTPError())\n",
      "('http://otile4.mqcdn.com/tiles/1.0.0/osm/20/558352/328145.png', HTTPError())\n",
      "('http://otile1.mqcdn.com/tiles/1.0.0/osm/20/558356/328143.png', HTTPError())\n",
      "('http://otile2.mqcdn.com/tiles/1.0.0/osm/20/558279/328167.png', HTTPError())\n",
      "('http://otile4.mqcdn.com/tiles/1.0.0/osm/20/558435/328112.png', HTTPError())\n",
      "('http://otile3.mqcdn.com/tiles/1.0.0/osm/20/558350/328143.png', HTTPError())\n",
      "('http://otile2.mqcdn.com/tiles/1.0.0/osm/20/558279/328163.png', HTTPError())\n",
      "('http://otile4.mqcdn.com/tiles/1.0.0/osm/20/558359/328143.png', HTTPError())\n",
      "('http://otile2.mqcdn.com/tiles/1.0.0/osm/20/558352/328141.png', HTTPError())\n",
      "('http://otile1.mqcdn.com/tiles/1.0.0/osm/20/558278/328166.png', HTTPError())\n",
      "('http://otile2.mqcdn.com/tiles/1.0.0/osm/20/558434/328115.png', HTTPError())\n",
      "('http://otile3.mqcdn.com/tiles/1.0.0/osm/20/558349/328145.png', HTTPError())\n",
      "('http://otile1.mqcdn.com/tiles/1.0.0/osm/20/558277/328167.png', HTTPError())\n",
      "('http://otile2.mqcdn.com/tiles/1.0.0/osm/20/558342/328145.png', HTTPError())\n",
      "('http://otile2.mqcdn.com/tiles/1.0.0/osm/20/558346/328144.png', HTTPError())\n",
      "('http://otile2.mqcdn.com/tiles/1.0.0/osm/20/558278/328167.png', HTTPError())\n",
      "('http://otile4.mqcdn.com/tiles/1.0.0/osm/20/558350/328145.png', HTTPError())\n",
      "('http://otile1.mqcdn.com/tiles/1.0.0/osm/20/558341/328145.png', HTTPError())\n",
      "('http://otile1.mqcdn.com/tiles/1.0.0/osm/20/558346/328145.png', HTTPError())\n",
      "('http://otile1.mqcdn.com/tiles/1.0.0/osm/20/558437/328112.png', HTTPError())\n",
      "('http://otile4.mqcdn.com/tiles/1.0.0/osm/20/558351/328145.png', HTTPError())\n",
      "('http://otile2.mqcdn.com/tiles/1.0.0/osm/20/558340/328146.png', HTTPError())\n",
      "('http://otile1.mqcdn.com/tiles/1.0.0/osm/20/558352/328146.png', HTTPError())\n",
      "('http://otile3.mqcdn.com/tiles/1.0.0/osm/20/558439/328115.png', HTTPError())\n",
      "('http://otile2.mqcdn.com/tiles/1.0.0/osm/20/558343/328144.png', HTTPError())\n",
      "('http://otile3.mqcdn.com/tiles/1.0.0/osm/20/558351/328146.png', HTTPError())\n",
      "('http://otile2.mqcdn.com/tiles/1.0.0/osm/20/558348/328142.png', HTTPError())\n",
      "('http://otile4.mqcdn.com/tiles/1.0.0/osm/20/558283/328163.png', HTTPError())\n",
      "('http://otile2.mqcdn.com/tiles/1.0.0/osm/20/558282/328163.png', HTTPError())\n",
      "('http://otile3.mqcdn.com/tiles/1.0.0/osm/20/558435/328112.png', HTTPError())\n",
      "('http://otile2.mqcdn.com/tiles/1.0.0/osm/20/558439/328113.png', HTTPError())\n",
      "('http://otile2.mqcdn.com/tiles/1.0.0/osm/20/558434/328114.png', HTTPError())\n",
      "('http://otile4.mqcdn.com/tiles/1.0.0/osm/19/279144/164081.png', HTTPError())\n",
      "('http://otile2.mqcdn.com/tiles/1.0.0/osm/20/558439/328114.png', HTTPError())\n",
      "('http://otile3.mqcdn.com/tiles/1.0.0/osm/20/558357/328144.png', HTTPError())\n",
      "('http://otile3.mqcdn.com/tiles/1.0.0/osm/20/558345/328144.png', HTTPError())\n",
      "('http://otile3.mqcdn.com/tiles/1.0.0/osm/20/558441/328114.png', HTTPError())\n",
      "('http://otile4.mqcdn.com/tiles/1.0.0/osm/20/558441/328112.png', HTTPError())\n",
      "('http://otile4.mqcdn.com/tiles/1.0.0/osm/20/558360/328141.png', HTTPError())\n",
      "('http://otile1.mqcdn.com/tiles/1.0.0/osm/20/558279/328165.png', HTTPError())\n",
      "('http://otile3.mqcdn.com/tiles/1.0.0/osm/20/558434/328114.png', HTTPError())\n",
      "('http://otile1.mqcdn.com/tiles/1.0.0/osm/20/558277/328164.png', HTTPError())\n",
      "('http://otile1.mqcdn.com/tiles/1.0.0/osm/20/558439/328112.png', HTTPError())\n",
      "('http://otile2.mqcdn.com/tiles/1.0.0/osm/20/558354/328144.png', HTTPError())\n",
      "('http://otile2.mqcdn.com/tiles/1.0.0/osm/20/558279/328165.png', HTTPError())\n",
      "('http://otile3.mqcdn.com/tiles/1.0.0/osm/20/558277/328166.png', HTTPError())\n",
      "('http://otile4.mqcdn.com/tiles/1.0.0/osm/20/558434/328116.png', HTTPError())\n",
      "('http://otile3.mqcdn.com/tiles/1.0.0/osm/20/558439/328114.png', HTTPError())\n",
      "('http://otile4.mqcdn.com/tiles/1.0.0/osm/20/558359/328141.png', HTTPError())\n",
      "('http://otile1.mqcdn.com/tiles/1.0.0/osm/20/558281/328165.png', HTTPError())\n",
      "('http://otile4.mqcdn.com/tiles/1.0.0/osm/20/558347/328143.png', HTTPError())\n",
      "('http://otile4.mqcdn.com/tiles/1.0.0/osm/20/558343/328143.png', HTTPError())\n",
      "('http://otile1.mqcdn.com/tiles/1.0.0/osm/20/558440/328112.png', HTTPError())\n",
      "('http://otile3.mqcdn.com/tiles/1.0.0/osm/20/558438/328116.png', HTTPError())\n",
      "('http://otile4.mqcdn.com/tiles/1.0.0/osm/20/558358/328145.png', HTTPError())\n",
      "('http://otile1.mqcdn.com/tiles/1.0.0/osm/20/558360/328143.png', HTTPError())\n",
      "('http://otile1.mqcdn.com/tiles/1.0.0/osm/17/69808/41016.png', HTTPError())\n",
      "('http://otile3.mqcdn.com/tiles/1.0.0/osm/20/558440/328115.png', HTTPError())\n",
      "('http://otile3.mqcdn.com/tiles/1.0.0/osm/20/558353/328146.png', HTTPError())\n",
      "('http://otile4.mqcdn.com/tiles/1.0.0/osm/20/558278/328165.png', HTTPError())\n",
      "('http://otile1.mqcdn.com/tiles/1.0.0/osm/20/558358/328141.png', HTTPError())\n",
      "('http://otile3.mqcdn.com/tiles/1.0.0/osm/20/558342/328143.png', HTTPError())\n",
      "('http://otile2.mqcdn.com/tiles/1.0.0/osm/18/139593/82036.png', URLError(gaierror(-2, 'Name or service not known'),))\n",
      "('http://otile3.mqcdn.com/tiles/1.0.0/osm/20/558434/328112.png', HTTPError())\n",
      "('http://otile1.mqcdn.com/tiles/1.0.0/osm/20/558283/328167.png', HTTPError())\n",
      "('http://otile3.mqcdn.com/tiles/1.0.0/osm/20/558357/328141.png', HTTPError())\n",
      "('http://otile2.mqcdn.com/tiles/1.0.0/osm/20/558352/328146.png', HTTPError())\n",
      "('http://otile4.mqcdn.com/tiles/1.0.0/osm/20/558342/328142.png', HTTPError())\n",
      "('http://otile2.mqcdn.com/tiles/1.0.0/osm/20/558342/328142.png', HTTPError())\n",
      "('http://otile4.mqcdn.com/tiles/1.0.0/osm/20/558340/328142.png', HTTPError())\n",
      "('http://otile1.mqcdn.com/tiles/1.0.0/osm/20/558435/328115.png', HTTPError())\n",
      "('http://otile2.mqcdn.com/tiles/1.0.0/osm/20/558440/328115.png', HTTPError())\n",
      "('http://otile3.mqcdn.com/tiles/1.0.0/osm/20/558281/328167.png', HTTPError())\n",
      "('http://otile3.mqcdn.com/tiles/1.0.0/osm/20/558345/328143.png', HTTPError())\n",
      "('http://otile1.mqcdn.com/tiles/1.0.0/osm/20/558277/328166.png', HTTPError())\n",
      "('http://otile2.mqcdn.com/tiles/1.0.0/osm/20/558360/328141.png', HTTPError())\n",
      "('http://otile1.mqcdn.com/tiles/1.0.0/osm/20/558348/328145.png', HTTPError())\n",
      "('http://otile1.mqcdn.com/tiles/1.0.0/osm/20/558440/328115.png', HTTPError())\n",
      "('http://otile1.mqcdn.com/tiles/1.0.0/osm/20/558281/328164.png', HTTPError())\n",
      "('http://otile4.mqcdn.com/tiles/1.0.0/osm/20/558353/328142.png', HTTPError())\n",
      "('http://otile2.mqcdn.com/tiles/1.0.0/osm/20/558441/328115.png', HTTPError())\n",
      "('http://otile3.mqcdn.com/tiles/1.0.0/osm/20/558360/328143.png', HTTPError())\n",
      "('http://otile2.mqcdn.com/tiles/1.0.0/osm/20/558356/328146.png', HTTPError())\n",
      "('http://otile1.mqcdn.com/tiles/1.0.0/osm/20/558279/328166.png', HTTPError())\n",
      "('http://otile3.mqcdn.com/tiles/1.0.0/osm/20/558438/328115.png', HTTPError())\n",
      "('http://otile1.mqcdn.com/tiles/1.0.0/osm/20/558279/328164.png', HTTPError())\n",
      "('http://otile3.mqcdn.com/tiles/1.0.0/osm/20/558356/328143.png', HTTPError())\n",
      "('http://otile3.mqcdn.com/tiles/1.0.0/osm/20/558359/328145.png', HTTPError())\n",
      "('http://otile4.mqcdn.com/tiles/1.0.0/osm/20/558278/328163.png', HTTPError())\n",
      "('http://otile2.mqcdn.com/tiles/1.0.0/osm/20/558347/328144.png', HTTPError())\n",
      "('http://otile3.mqcdn.com/tiles/1.0.0/osm/20/558282/328165.png', HTTPError())\n",
      "('http://otile3.mqcdn.com/tiles/1.0.0/osm/20/558279/328166.png', HTTPError())\n",
      "('http://otile4.mqcdn.com/tiles/1.0.0/osm/20/558278/328167.png', HTTPError())\n",
      "('http://otile2.mqcdn.com/tiles/1.0.0/osm/20/558279/328166.png', HTTPError())\n",
      "('http://otile3.mqcdn.com/tiles/1.0.0/osm/20/558277/328163.png', HTTPError())\n",
      "('http://otile3.mqcdn.com/tiles/1.0.0/osm/20/558277/328165.png', HTTPError())\n",
      "('http://otile3.mqcdn.com/tiles/1.0.0/osm/20/558355/328146.png', HTTPError())\n",
      "('http://otile4.mqcdn.com/tiles/1.0.0/osm/20/558340/328146.png', HTTPError())\n",
      "('http://otile4.mqcdn.com/tiles/1.0.0/osm/20/558357/328143.png', HTTPError())\n",
      "('http://otile4.mqcdn.com/tiles/1.0.0/osm/20/558441/328115.png', HTTPError())\n",
      "('http://otile2.mqcdn.com/tiles/1.0.0/osm/20/558345/328146.png', HTTPError())\n",
      "('http://otile4.mqcdn.com/tiles/1.0.0/osm/20/558350/328142.png', HTTPError())\n",
      "('http://otile4.mqcdn.com/tiles/1.0.0/osm/20/558341/328143.png', HTTPError())\n",
      "('http://otile4.mqcdn.com/tiles/1.0.0/osm/20/558436/328114.png', HTTPError())\n",
      "('http://otile4.mqcdn.com/tiles/1.0.0/osm/20/558360/328142.png', HTTPError())\n",
      "('http://otile2.mqcdn.com/tiles/1.0.0/osm/20/558359/328141.png', HTTPError())\n",
      "('http://otile3.mqcdn.com/tiles/1.0.0/osm/20/558348/328142.png', HTTPError())\n",
      "('http://otile3.mqcdn.com/tiles/1.0.0/osm/20/558359/328141.png', HTTPError())\n",
      "('http://otile1.mqcdn.com/tiles/1.0.0/osm/20/558360/328142.png', HTTPError())\n",
      "('http://otile3.mqcdn.com/tiles/1.0.0/osm/20/558278/328165.png', HTTPError())\n",
      "('http://otile1.mqcdn.com/tiles/1.0.0/osm/20/558343/328146.png', HTTPError())\n",
      "('http://otile4.mqcdn.com/tiles/1.0.0/osm/20/558437/328115.png', HTTPError())\n",
      "('http://otile4.mqcdn.com/tiles/1.0.0/osm/20/558354/328142.png', HTTPError())\n",
      "('http://otile2.mqcdn.com/tiles/1.0.0/osm/20/558277/328165.png', HTTPError())\n",
      "('http://otile1.mqcdn.com/tiles/1.0.0/osm/20/558356/328141.png', HTTPError())\n",
      "('http://otile1.mqcdn.com/tiles/1.0.0/osm/20/558345/328145.png', HTTPError())\n",
      "('http://otile3.mqcdn.com/tiles/1.0.0/osm/20/558437/328114.png', HTTPError())\n",
      "('http://otile4.mqcdn.com/tiles/1.0.0/osm/20/558359/328142.png', HTTPError())\n",
      "('http://otile1.mqcdn.com/tiles/1.0.0/osm/20/558344/328145.png', HTTPError())\n",
      "('http://otile2.mqcdn.com/tiles/1.0.0/osm/20/558438/328113.png', HTTPError())\n",
      "('http://otile4.mqcdn.com/tiles/1.0.0/osm/20/558353/328145.png', HTTPError())\n",
      "('http://otile3.mqcdn.com/tiles/1.0.0/osm/20/558281/328165.png', HTTPError())\n",
      "('http://otile4.mqcdn.com/tiles/1.0.0/osm/20/558341/328146.png', HTTPError())\n",
      "('http://otile3.mqcdn.com/tiles/1.0.0/osm/20/558340/328142.png', HTTPError())\n",
      "('http://otile1.mqcdn.com/tiles/1.0.0/osm/20/558280/328165.png', HTTPError())\n",
      "('http://otile2.mqcdn.com/tiles/1.0.0/osm/20/558434/328113.png', HTTPError())\n",
      "('http://otile2.mqcdn.com/tiles/1.0.0/osm/20/558348/328143.png', HTTPError())\n",
      "('http://otile1.mqcdn.com/tiles/1.0.0/osm/20/558349/328142.png', HTTPError())\n",
      "('http://otile4.mqcdn.com/tiles/1.0.0/osm/20/558352/328146.png', HTTPError())\n",
      "('http://otile1.mqcdn.com/tiles/1.0.0/osm/20/558436/328113.png', HTTPError())\n",
      "('http://otile1.mqcdn.com/tiles/1.0.0/osm/20/558438/328112.png', HTTPError())\n",
      "('http://otile2.mqcdn.com/tiles/1.0.0/osm/20/558344/328143.png', HTTPError())\n",
      "('http://otile4.mqcdn.com/tiles/1.0.0/osm/20/558345/328143.png', HTTPError())\n",
      "('http://otile1.mqcdn.com/tiles/1.0.0/osm/20/558280/328166.png', HTTPError())\n",
      "('http://otile4.mqcdn.com/tiles/1.0.0/osm/20/558348/328143.png', HTTPError())\n",
      "('http://otile1.mqcdn.com/tiles/1.0.0/osm/20/558340/328143.png', HTTPError())\n",
      "('http://otile1.mqcdn.com/tiles/1.0.0/osm/20/558436/328112.png', HTTPError())\n",
      "('http://otile4.mqcdn.com/tiles/1.0.0/osm/20/558441/328113.png', HTTPError())\n",
      "('http://otile3.mqcdn.com/tiles/1.0.0/osm/20/558341/328146.png', HTTPError())\n",
      "('http://otile4.mqcdn.com/tiles/1.0.0/osm/20/558341/328145.png', HTTPError())\n",
      "('http://otile3.mqcdn.com/tiles/1.0.0/osm/20/558279/328165.png', HTTPError())\n",
      "('http://otile4.mqcdn.com/tiles/1.0.0/osm/20/558358/328144.png', HTTPError())\n",
      "('http://otile1.mqcdn.com/tiles/1.0.0/osm/20/558343/328142.png', HTTPError())\n",
      "('http://otile1.mqcdn.com/tiles/1.0.0/osm/20/558342/328145.png', HTTPError())\n",
      "('http://otile2.mqcdn.com/tiles/1.0.0/osm/20/558341/328145.png', HTTPError())\n",
      "('http://otile3.mqcdn.com/tiles/1.0.0/osm/20/558284/328164.png', HTTPError())\n",
      "('http://otile4.mqcdn.com/tiles/1.0.0/osm/20/558343/328145.png', HTTPError())\n",
      "('http://otile4.mqcdn.com/tiles/1.0.0/osm/20/558280/328164.png', HTTPError())\n",
      "('http://otile1.mqcdn.com/tiles/1.0.0/osm/20/558357/328141.png', HTTPError())\n",
      "('http://otile2.mqcdn.com/tiles/1.0.0/osm/20/558355/328141.png', HTTPError())\n",
      "('http://otile2.mqcdn.com/tiles/1.0.0/osm/20/558282/328165.png', HTTPError())\n",
      "('http://otile1.mqcdn.com/tiles/1.0.0/osm/20/558357/328142.png', HTTPError())\n",
      "('http://otile1.mqcdn.com/tiles/1.0.0/osm/20/558353/328146.png', HTTPError())\n",
      "('http://otile4.mqcdn.com/tiles/1.0.0/osm/20/558349/328143.png', HTTPError())\n",
      "('http://otile1.mqcdn.com/tiles/1.0.0/osm/20/558358/328143.png', HTTPError())\n",
      "('http://otile2.mqcdn.com/tiles/1.0.0/osm/20/558342/328143.png', HTTPError())\n",
      "('http://otile4.mqcdn.com/tiles/1.0.0/osm/20/558283/328166.png', HTTPError())\n",
      "('http://otile1.mqcdn.com/tiles/1.0.0/osm/20/558436/328114.png', HTTPError())\n",
      "('http://otile2.mqcdn.com/tiles/1.0.0/osm/20/558345/328144.png', HTTPError())\n",
      "('http://otile3.mqcdn.com/tiles/1.0.0/osm/20/558436/328112.png', HTTPError())\n",
      "('http://otile3.mqcdn.com/tiles/1.0.0/osm/20/558283/328163.png', HTTPError())\n",
      "('http://otile1.mqcdn.com/tiles/1.0.0/osm/20/558350/328142.png', HTTPError())\n",
      "('http://otile1.mqcdn.com/tiles/1.0.0/osm/20/558348/328146.png', HTTPError())\n",
      "('http://otile4.mqcdn.com/tiles/1.0.0/osm/20/558438/328112.png', HTTPError())\n",
      "('http://otile3.mqcdn.com/tiles/1.0.0/osm/20/558343/328143.png', HTTPError())\n",
      "('http://otile2.mqcdn.com/tiles/1.0.0/osm/20/558278/328164.png', HTTPError())\n",
      "('http://otile2.mqcdn.com/tiles/1.0.0/osm/20/558349/328145.png', HTTPError())\n",
      "('http://otile1.mqcdn.com/tiles/1.0.0/osm/20/558341/328144.png', HTTPError())\n",
      "('http://otile4.mqcdn.com/tiles/1.0.0/osm/20/558355/328144.png', HTTPError())\n",
      "('http://otile2.mqcdn.com/tiles/1.0.0/osm/20/558357/328144.png', HTTPError())\n",
      "('http://otile2.mqcdn.com/tiles/1.0.0/osm/20/558344/328145.png', HTTPError())\n",
      "('http://otile1.mqcdn.com/tiles/1.0.0/osm/20/558352/328143.png', HTTPError())\n",
      "('http://otile1.mqcdn.com/tiles/1.0.0/osm/20/558358/328142.png', HTTPError())\n",
      "('http://otile4.mqcdn.com/tiles/1.0.0/osm/20/558356/328143.png', HTTPError())\n",
      "('http://otile3.mqcdn.com/tiles/1.0.0/osm/20/558358/328144.png', HTTPError())\n",
      "('http://otile3.mqcdn.com/tiles/1.0.0/osm/20/558277/328167.png', HTTPError())\n",
      "('http://otile4.mqcdn.com/tiles/1.0.0/osm/20/558354/328145.png', HTTPError())\n",
      "('http://otile2.mqcdn.com/tiles/1.0.0/osm/20/558356/328144.png', HTTPError())\n",
      "('http://otile1.mqcdn.com/tiles/1.0.0/osm/20/558280/328163.png', HTTPError())\n",
      "('http://otile2.mqcdn.com/tiles/1.0.0/osm/20/558356/328143.png', HTTPError())\n",
      "('http://otile2.mqcdn.com/tiles/1.0.0/osm/20/558340/328145.png', HTTPError())\n",
      "('http://otile2.mqcdn.com/tiles/1.0.0/osm/20/558356/328142.png', HTTPError())\n",
      "('http://otile2.mqcdn.com/tiles/1.0.0/osm/20/558440/328112.png', HTTPError())\n",
      "('http://otile3.mqcdn.com/tiles/1.0.0/osm/20/558344/328146.png', HTTPError())\n",
      "('http://otile1.mqcdn.com/tiles/1.0.0/osm/20/558278/328164.png', HTTPError())\n",
      "('http://otile1.mqcdn.com/tiles/1.0.0/osm/20/558359/328141.png', HTTPError())\n",
      "('http://otile1.mqcdn.com/tiles/1.0.0/osm/20/558347/328143.png', HTTPError())\n",
      "('http://otile3.mqcdn.com/tiles/1.0.0/osm/20/558344/328145.png', HTTPError())\n",
      "('http://otile2.mqcdn.com/tiles/1.0.0/osm/20/558436/328114.png', HTTPError())\n",
      "('http://otile3.mqcdn.com/tiles/1.0.0/osm/20/558283/328167.png', HTTPError())\n",
      "('http://otile2.mqcdn.com/tiles/1.0.0/osm/20/558360/328144.png', HTTPError())\n",
      "('http://otile3.mqcdn.com/tiles/1.0.0/osm/20/558357/328142.png', HTTPError())\n",
      "('http://otile3.mqcdn.com/tiles/1.0.0/osm/20/558347/328142.png', HTTPError())\n",
      "('http://otile1.mqcdn.com/tiles/1.0.0/osm/20/558282/328166.png', HTTPError())\n",
      "('http://otile2.mqcdn.com/tiles/1.0.0/osm/20/558346/328145.png', HTTPError())\n",
      "('http://otile4.mqcdn.com/tiles/1.0.0/osm/20/558281/328165.png', HTTPError())\n",
      "('http://otile1.mqcdn.com/tiles/1.0.0/osm/20/558345/328143.png', HTTPError())\n",
      "('http://otile4.mqcdn.com/tiles/1.0.0/osm/20/558359/328144.png', HTTPError())\n",
      "('http://otile4.mqcdn.com/tiles/1.0.0/osm/20/558344/328142.png', HTTPError())\n",
      "('http://otile2.mqcdn.com/tiles/1.0.0/osm/20/558434/328112.png', HTTPError())\n",
      "('http://otile1.mqcdn.com/tiles/1.0.0/osm/20/558284/328167.png', HTTPError())\n",
      "('http://otile1.mqcdn.com/tiles/1.0.0/osm/20/558439/328116.png', HTTPError())\n",
      "('http://otile3.mqcdn.com/tiles/1.0.0/osm/20/558439/328112.png', HTTPError())\n",
      "('http://otile2.mqcdn.com/tiles/1.0.0/osm/20/558277/328164.png', HTTPError())\n",
      "('http://otile1.mqcdn.com/tiles/1.0.0/osm/20/558349/328145.png', HTTPError())\n",
      "('http://otile4.mqcdn.com/tiles/1.0.0/osm/20/558357/328142.png', HTTPError())\n",
      "('http://otile1.mqcdn.com/tiles/1.0.0/osm/20/558434/328116.png', HTTPError())\n",
      "('http://otile1.mqcdn.com/tiles/1.0.0/osm/20/558438/328115.png', HTTPError())\n",
      "('http://otile2.mqcdn.com/tiles/1.0.0/osm/20/558354/328146.png', HTTPError())\n",
      "('http://otile3.mqcdn.com/tiles/1.0.0/osm/20/558358/328142.png', HTTPError())\n",
      "('http://otile2.mqcdn.com/tiles/1.0.0/osm/20/558352/328142.png', HTTPError())\n",
      "('http://otile2.mqcdn.com/tiles/1.0.0/osm/20/558352/328144.png', HTTPError())\n",
      "('http://otile1.mqcdn.com/tiles/1.0.0/osm/20/558434/328115.png', HTTPError())\n",
      "('http://otile4.mqcdn.com/tiles/1.0.0/osm/20/558356/328145.png', HTTPError())\n",
      "('http://otile4.mqcdn.com/tiles/1.0.0/osm/20/558440/328112.png', HTTPError())\n",
      "('http://otile3.mqcdn.com/tiles/1.0.0/osm/20/558356/328142.png', HTTPError())\n",
      "('http://otile3.mqcdn.com/tiles/1.0.0/osm/20/558342/328145.png', HTTPError())\n",
      "('http://otile3.mqcdn.com/tiles/1.0.0/osm/20/558278/328167.png', HTTPError())\n",
      "('http://otile1.mqcdn.com/tiles/1.0.0/osm/20/558436/328115.png', HTTPError())\n",
      "('http://otile2.mqcdn.com/tiles/1.0.0/osm/20/558281/328165.png', HTTPError())\n",
      "('http://otile3.mqcdn.com/tiles/1.0.0/osm/20/558280/328167.png', HTTPError())\n",
      "('http://otile3.mqcdn.com/tiles/1.0.0/osm/20/558343/328146.png', HTTPError())\n",
      "('http://otile2.mqcdn.com/tiles/1.0.0/osm/20/558283/328166.png', HTTPError())\n",
      "('http://otile2.mqcdn.com/tiles/1.0.0/osm/20/558340/328142.png', HTTPError())\n",
      "('http://otile1.mqcdn.com/tiles/1.0.0/osm/20/558280/328167.png', HTTPError())\n",
      "('http://otile3.mqcdn.com/tiles/1.0.0/osm/20/558355/328143.png', HTTPError())\n",
      "('http://otile4.mqcdn.com/tiles/1.0.0/osm/20/558354/328146.png', HTTPError())\n",
      "('http://otile1.mqcdn.com/tiles/1.0.0/osm/20/558353/328144.png', HTTPError())\n",
      "('http://otile2.mqcdn.com/tiles/1.0.0/osm/20/558354/328141.png', HTTPError())\n",
      "('http://otile3.mqcdn.com/tiles/1.0.0/osm/20/558435/328116.png', HTTPError())\n",
      "('http://otile4.mqcdn.com/tiles/1.0.0/osm/20/558351/328144.png', HTTPError())\n",
      "('http://otile4.mqcdn.com/tiles/1.0.0/osm/20/558358/328141.png', HTTPError())\n",
      "('http://otile4.mqcdn.com/tiles/1.0.0/osm/20/558435/328116.png', HTTPError())\n",
      "('http://otile2.mqcdn.com/tiles/1.0.0/osm/20/558435/328113.png', HTTPError())\n",
      "('http://otile1.mqcdn.com/tiles/1.0.0/osm/20/558344/328146.png', HTTPError())\n",
      "('http://otile4.mqcdn.com/tiles/1.0.0/osm/20/558277/328167.png', HTTPError())\n",
      "('http://otile2.mqcdn.com/tiles/1.0.0/osm/20/558440/328116.png', HTTPError())\n",
      "('http://otile3.mqcdn.com/tiles/1.0.0/osm/20/558284/328163.png', HTTPError())\n",
      "('http://otile3.mqcdn.com/tiles/1.0.0/osm/20/558440/328112.png', HTTPError())\n",
      "('http://otile4.mqcdn.com/tiles/1.0.0/osm/20/558434/328114.png', HTTPError())\n",
      "('http://otile1.mqcdn.com/tiles/1.0.0/osm/20/558353/328141.png', HTTPError())\n",
      "('http://otile3.mqcdn.com/tiles/1.0.0/osm/20/558347/328144.png', HTTPError())\n",
      "('http://otile3.mqcdn.com/tiles/1.0.0/osm/20/558349/328146.png', HTTPError())\n",
      "('http://otile2.mqcdn.com/tiles/1.0.0/osm/20/558357/328141.png', HTTPError())\n",
      "('http://otile2.mqcdn.com/tiles/1.0.0/osm/20/558343/328146.png', HTTPError())\n",
      "('http://otile4.mqcdn.com/tiles/1.0.0/osm/20/558436/328112.png', HTTPError())\n",
      "('http://otile2.mqcdn.com/tiles/1.0.0/osm/20/558437/328113.png', HTTPError())\n",
      "('http://otile2.mqcdn.com/tiles/1.0.0/osm/20/558277/328167.png', HTTPError())\n",
      "('http://otile1.mqcdn.com/tiles/1.0.0/osm/20/558341/328142.png', HTTPError())\n",
      "('http://otile3.mqcdn.com/tiles/1.0.0/osm/20/558356/328144.png', HTTPError())\n",
      "('http://otile1.mqcdn.com/tiles/1.0.0/osm/20/558342/328142.png', HTTPError())\n",
      "('http://otile4.mqcdn.com/tiles/1.0.0/osm/20/558281/328163.png', HTTPError())\n",
      "('http://otile2.mqcdn.com/tiles/1.0.0/osm/20/558284/328165.png', HTTPError())\n",
      "('http://otile3.mqcdn.com/tiles/1.0.0/osm/20/558283/328166.png', HTTPError())\n",
      "('http://otile3.mqcdn.com/tiles/1.0.0/osm/20/558279/328167.png', HTTPError())\n",
      "('http://otile4.mqcdn.com/tiles/1.0.0/osm/20/558277/328166.png', HTTPError())\n",
      "('http://otile2.mqcdn.com/tiles/1.0.0/osm/20/558284/328167.png', HTTPError())\n",
      "('http://otile3.mqcdn.com/tiles/1.0.0/osm/20/558344/328142.png', HTTPError())\n",
      "('http://otile2.mqcdn.com/tiles/1.0.0/osm/20/558440/328113.png', HTTPError())\n",
      "('http://otile2.mqcdn.com/tiles/1.0.0/osm/20/558359/328142.png', HTTPError())\n",
      "('http://otile4.mqcdn.com/tiles/1.0.0/osm/20/558279/328164.png', HTTPError())\n",
      "('http://otile1.mqcdn.com/tiles/1.0.0/osm/20/558434/328112.png', HTTPError())\n",
      "('http://otile1.mqcdn.com/tiles/1.0.0/osm/20/558360/328145.png', HTTPError())\n",
      "('http://otile4.mqcdn.com/tiles/1.0.0/osm/20/558344/328144.png', HTTPError())\n",
      "('http://otile2.mqcdn.com/tiles/1.0.0/osm/20/558441/328114.png', HTTPError())\n",
      "('http://otile1.mqcdn.com/tiles/1.0.0/osm/20/558437/328116.png', HTTPError())\n",
      "('http://otile3.mqcdn.com/tiles/1.0.0/osm/20/558340/328144.png', HTTPError())\n",
      "('http://otile4.mqcdn.com/tiles/1.0.0/osm/20/558360/328145.png', HTTPError())\n",
      "('http://otile3.mqcdn.com/tiles/1.0.0/osm/20/558355/328145.png', HTTPError())\n",
      "('http://otile2.mqcdn.com/tiles/1.0.0/osm/20/558358/328146.png', HTTPError())\n",
      "('http://otile3.mqcdn.com/tiles/1.0.0/osm/20/558440/328114.png', HTTPError())\n",
      "('http://otile4.mqcdn.com/tiles/1.0.0/osm/20/558344/328146.png', HTTPError())\n",
      "('http://otile2.mqcdn.com/tiles/1.0.0/osm/20/558358/328142.png', HTTPError())\n",
      "('http://otile3.mqcdn.com/tiles/1.0.0/osm/20/558343/328145.png', HTTPError())\n",
      "('http://otile3.mqcdn.com/tiles/1.0.0/osm/20/558353/328141.png', HTTPError())\n",
      "('http://otile1.mqcdn.com/tiles/1.0.0/osm/20/558348/328143.png', HTTPError())\n",
      "('http://otile4.mqcdn.com/tiles/1.0.0/osm/20/558284/328164.png', HTTPError())\n",
      "('http://otile3.mqcdn.com/tiles/1.0.0/osm/20/558280/328165.png', HTTPError())\n",
      "('http://otile1.mqcdn.com/tiles/1.0.0/osm/20/558357/328144.png', HTTPError())\n",
      "('http://otile3.mqcdn.com/tiles/1.0.0/osm/20/558278/328166.png', HTTPError())\n",
      "('http://otile3.mqcdn.com/tiles/1.0.0/osm/20/558283/328165.png', HTTPError())\n",
      "('http://otile2.mqcdn.com/tiles/1.0.0/osm/20/558344/328142.png', HTTPError())\n",
      "('http://otile3.mqcdn.com/tiles/1.0.0/osm/20/558346/328146.png', HTTPError())\n",
      "('http://otile3.mqcdn.com/tiles/1.0.0/osm/20/558284/328165.png', HTTPError())\n",
      "('http://otile1.mqcdn.com/tiles/1.0.0/osm/20/558284/328166.png', HTTPError())\n",
      "('http://otile3.mqcdn.com/tiles/1.0.0/osm/20/558281/328164.png', HTTPError())\n",
      "('http://otile4.mqcdn.com/tiles/1.0.0/osm/20/558349/328146.png', HTTPError())\n",
      "('http://otile4.mqcdn.com/tiles/1.0.0/osm/20/558345/328145.png', HTTPError())\n",
      "('http://otile1.mqcdn.com/tiles/1.0.0/osm/20/558279/328163.png', HTTPError())\n",
      "('http://otile4.mqcdn.com/tiles/1.0.0/osm/20/558357/328144.png', HTTPError())\n",
      "('http://otile4.mqcdn.com/tiles/1.0.0/osm/20/558356/328146.png', HTTPError())\n",
      "('http://otile3.mqcdn.com/tiles/1.0.0/osm/20/558344/328144.png', HTTPError())\n",
      "('http://otile3.mqcdn.com/tiles/1.0.0/osm/20/558435/328113.png', HTTPError())\n",
      "('http://otile1.mqcdn.com/tiles/1.0.0/osm/20/558280/328164.png', HTTPError())\n",
      "('http://otile4.mqcdn.com/tiles/1.0.0/osm/20/558358/328142.png', HTTPError())\n",
      "('http://otile3.mqcdn.com/tiles/1.0.0/osm/20/558341/328144.png', HTTPError())\n",
      "('http://otile2.mqcdn.com/tiles/1.0.0/osm/20/558438/328112.png', HTTPError())\n",
      "('http://otile4.mqcdn.com/tiles/1.0.0/osm/20/558282/328167.png', HTTPError())\n",
      "('http://otile1.mqcdn.com/tiles/1.0.0/osm/20/558342/328143.png', HTTPError())\n",
      "('http://otile3.mqcdn.com/tiles/1.0.0/osm/20/558356/328141.png', HTTPError())\n",
      "('http://otile4.mqcdn.com/tiles/1.0.0/osm/20/558347/328142.png', HTTPError())\n",
      "('http://otile1.mqcdn.com/tiles/1.0.0/osm/20/558353/328143.png', HTTPError())\n",
      "('http://otile2.mqcdn.com/tiles/1.0.0/osm/20/558346/328146.png', HTTPError())\n",
      "('http://otile2.mqcdn.com/tiles/1.0.0/osm/20/558343/328142.png', HTTPError())\n",
      "('http://otile4.mqcdn.com/tiles/1.0.0/osm/20/558282/328166.png', HTTPError())\n",
      "('http://otile4.mqcdn.com/tiles/1.0.0/osm/20/558284/328165.png', HTTPError())\n",
      "('http://otile1.mqcdn.com/tiles/1.0.0/osm/20/558343/328143.png', HTTPError())\n",
      "('http://otile3.mqcdn.com/tiles/1.0.0/osm/20/558440/328116.png', HTTPError())\n",
      "('http://otile3.mqcdn.com/tiles/1.0.0/osm/20/558350/328142.png', HTTPError())\n",
      "('http://otile4.mqcdn.com/tiles/1.0.0/osm/20/558284/328163.png', HTTPError())\n",
      "('http://otile2.mqcdn.com/tiles/1.0.0/osm/20/558343/328143.png', HTTPError())\n",
      "('http://otile1.mqcdn.com/tiles/1.0.0/osm/20/558343/328144.png', HTTPError())\n",
      "('http://otile2.mqcdn.com/tiles/1.0.0/osm/20/558281/328166.png', HTTPError())\n",
      "('http://otile2.mqcdn.com/tiles/1.0.0/osm/20/558278/328166.png', HTTPError())\n",
      "('http://otile3.mqcdn.com/tiles/1.0.0/osm/20/558357/328143.png', HTTPError())\n",
      "('http://otile1.mqcdn.com/tiles/1.0.0/osm/20/558344/328143.png', HTTPError())\n",
      "('http://otile2.mqcdn.com/tiles/1.0.0/osm/20/558284/328166.png', HTTPError())\n",
      "('http://otile3.mqcdn.com/tiles/1.0.0/osm/20/558360/328144.png', HTTPError())\n",
      "('http://otile4.mqcdn.com/tiles/1.0.0/osm/20/558434/328115.png', HTTPError())\n",
      "('http://otile4.mqcdn.com/tiles/1.0.0/osm/20/558356/328144.png', HTTPError())\n",
      "('http://otile4.mqcdn.com/tiles/1.0.0/osm/20/558282/328164.png', HTTPError())\n",
      "('http://otile4.mqcdn.com/tiles/1.0.0/osm/20/558283/328167.png', HTTPError())\n",
      "('http://otile4.mqcdn.com/tiles/1.0.0/osm/20/558352/328143.png', HTTPError())\n",
      "('http://otile1.mqcdn.com/tiles/1.0.0/osm/20/558437/328114.png', HTTPError())\n",
      "('http://otile2.mqcdn.com/tiles/1.0.0/osm/20/558343/328145.png', HTTPError())\n",
      "('http://otile2.mqcdn.com/tiles/1.0.0/osm/20/558359/328145.png', HTTPError())\n",
      "('http://otile4.mqcdn.com/tiles/1.0.0/osm/20/558351/328142.png', HTTPError())\n",
      "('http://otile1.mqcdn.com/tiles/1.0.0/osm/20/558352/328144.png', HTTPError())\n",
      "('http://otile2.mqcdn.com/tiles/1.0.0/osm/20/558355/328144.png', HTTPError())\n",
      "('http://otile1.mqcdn.com/tiles/1.0.0/osm/20/558278/328167.png', HTTPError())\n",
      "('http://otile3.mqcdn.com/tiles/1.0.0/osm/20/558351/328145.png', HTTPError())\n",
      "('http://otile4.mqcdn.com/tiles/1.0.0/osm/20/558348/328146.png', HTTPError())\n",
      "('http://otile4.mqcdn.com/tiles/1.0.0/osm/20/558351/328146.png', HTTPError())\n",
      "('http://otile4.mqcdn.com/tiles/1.0.0/osm/20/558352/328144.png', HTTPError())\n",
      "('http://otile4.mqcdn.com/tiles/1.0.0/osm/20/558348/328144.png', HTTPError())\n",
      "('http://otile2.mqcdn.com/tiles/1.0.0/osm/20/558348/328144.png', HTTPError())\n",
      "('http://otile3.mqcdn.com/tiles/1.0.0/osm/20/558346/328144.png', HTTPError())\n",
      "('http://otile2.mqcdn.com/tiles/1.0.0/osm/20/558280/328167.png', HTTPError())\n",
      "('http://otile3.mqcdn.com/tiles/1.0.0/osm/20/558278/328163.png', HTTPError())\n",
      "('http://otile2.mqcdn.com/tiles/1.0.0/osm/20/558351/328145.png', HTTPError())\n",
      "('http://otile4.mqcdn.com/tiles/1.0.0/osm/20/558441/328116.png', HTTPError())\n"
     ]
    },
    {
     "name": "stderr",
     "output_type": "stream",
     "text": [
      "Traceback (most recent call last):\n",
      "  File \"/usr/local/lib/python3.4/dist-packages/geoplotlib/__init__.py\", line 31, in _runapp\n",
      "    app.start()\n",
      "  File \"/usr/local/lib/python3.4/dist-packages/geoplotlib/core.py\", line 312, in start\n",
      "    pyglet.app.run()\n",
      "  File \"/usr/local/lib/python3.4/dist-packages/pyglet/app/__init__.py\", line 143, in run\n",
      "    event_loop.run()\n",
      "  File \"/usr/local/lib/python3.4/dist-packages/pyglet/app/base.py\", line 136, in run\n",
      "    self._run_estimated()\n",
      "  File \"/usr/local/lib/python3.4/dist-packages/pyglet/app/base.py\", line 175, in _run_estimated\n",
      "    if not platform_event_loop.step(estimate) and estimate != 0.0 and \\\n",
      "  File \"/usr/local/lib/python3.4/dist-packages/pyglet/app/xlib.py\", line 116, in step\n",
      "    pending_devices, _, _ = select.select(self._select_devices, (), (), timeout)\n",
      "KeyboardInterrupt\n"
     ]
    }
   ],
   "source": [
    "import geoplotlib\n",
    "from geoplotlib.utils import BoundingBox, DataAccessObject\n",
    "\n",
    "data = pd.DataFrame({'lat':star_5['latitude'], 'lon':star_5['longitude']})\n",
    "print(data.columns)\n",
    "geoplotlib.kde(data, bw=5, cut_below=1e-4)\n",
    "geoplotlib.set_bbox(BoundingBox.KBH)\n",
    "geoplotlib.show()"
   ]
  },
  {
   "cell_type": "code",
   "execution_count": null,
   "metadata": {
    "collapsed": true
   },
   "outputs": [],
   "source": []
  }
 ],
 "metadata": {
  "kernelspec": {
   "display_name": "Python 3",
   "language": "python",
   "name": "python3"
  },
  "language_info": {
   "codemirror_mode": {
    "name": "ipython",
    "version": 3
   },
   "file_extension": ".py",
   "mimetype": "text/x-python",
   "name": "python",
   "nbconvert_exporter": "python",
   "pygments_lexer": "ipython3",
   "version": "3.4.3"
  }
 },
 "nbformat": 4,
 "nbformat_minor": 0
}
