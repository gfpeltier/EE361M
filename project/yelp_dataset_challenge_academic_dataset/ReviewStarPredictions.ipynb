{
 "cells": [
  {
   "cell_type": "code",
   "execution_count": 1,
   "metadata": {
    "collapsed": false
   },
   "outputs": [
    {
     "name": "stdout",
     "output_type": "stream",
     "text": [
      "64\n"
     ]
    }
   ],
   "source": [
    "import struct\n",
    "print( 8 * struct.calcsize(\"P\"))"
   ]
  },
  {
   "cell_type": "code",
   "execution_count": 1,
   "metadata": {
    "collapsed": false
   },
   "outputs": [
    {
     "name": "stderr",
     "output_type": "stream",
     "text": [
      "C:\\Anaconda3\\lib\\site-packages\\matplotlib\\__init__.py:872: UserWarning: axes.color_cycle is deprecated and replaced with axes.prop_cycle; please use the latter.\n",
      "  warnings.warn(self.msg_depr % (key, alt_key))\n"
     ]
    }
   ],
   "source": [
    "import dask.bag as db\n",
    "import dask.dataframe as dd\n",
    "import pandas as pd\n",
    "import json\n",
    "import seaborn as sns\n",
    "from sklearn.cross_validation import train_test_split\n",
    "from sklearn.feature_extraction.text import CountVectorizer\n",
    "from sklearn.naive_bayes import MultinomialNB\n",
    "import re\n",
    "from collections import defaultdict\n",
    "from os import path\n",
    "from wordcloud import WordCloud\n",
    "from pylab import rcParams\n",
    "import numpy as np\n",
    "\n",
    "import matplotlib.pyplot as plt\n",
    "#from mpl_toolkits.basemap import Basemap\n",
    "\n",
    "# Set iPython to display visualization inline\n",
    "%matplotlib inline"
   ]
  },
  {
   "cell_type": "code",
   "execution_count": 2,
   "metadata": {
    "collapsed": false
   },
   "outputs": [
    {
     "data": {
      "text/html": [
       "<div>\n",
       "<table border=\"1\" class=\"dataframe\">\n",
       "  <thead>\n",
       "    <tr style=\"text-align: right;\">\n",
       "      <th></th>\n",
       "      <th>business_id</th>\n",
       "      <th>date</th>\n",
       "      <th>review_id</th>\n",
       "      <th>stars</th>\n",
       "      <th>text</th>\n",
       "      <th>type</th>\n",
       "      <th>user_id</th>\n",
       "      <th>votes</th>\n",
       "    </tr>\n",
       "  </thead>\n",
       "  <tbody>\n",
       "    <tr>\n",
       "      <th>0</th>\n",
       "      <td>5UmKMjUEUNdYWqANhGckJw</td>\n",
       "      <td>2012-08-01</td>\n",
       "      <td>Ya85v4eqdd6k9Od8HbQjyA</td>\n",
       "      <td>4</td>\n",
       "      <td>Mr Hoagie is an institution. Walking in, it do...</td>\n",
       "      <td>review</td>\n",
       "      <td>PUFPaY9KxDAcGqfsorJp3Q</td>\n",
       "      <td>{'funny': 0, 'useful': 0, 'cool': 0}</td>\n",
       "    </tr>\n",
       "    <tr>\n",
       "      <th>1</th>\n",
       "      <td>5UmKMjUEUNdYWqANhGckJw</td>\n",
       "      <td>2014-02-13</td>\n",
       "      <td>KPvLNJ21_4wbYNctrOwWdQ</td>\n",
       "      <td>5</td>\n",
       "      <td>Excellent food. Superb customer service. I mis...</td>\n",
       "      <td>review</td>\n",
       "      <td>Iu6AxdBYGR4A0wspR9BYHA</td>\n",
       "      <td>{'funny': 0, 'useful': 0, 'cool': 0}</td>\n",
       "    </tr>\n",
       "    <tr>\n",
       "      <th>2</th>\n",
       "      <td>5UmKMjUEUNdYWqANhGckJw</td>\n",
       "      <td>2015-10-31</td>\n",
       "      <td>fFSoGV46Yxuwbr3fHNuZig</td>\n",
       "      <td>5</td>\n",
       "      <td>Yes this place is a little out dated and not o...</td>\n",
       "      <td>review</td>\n",
       "      <td>auESFwWvW42h6alXgFxAXQ</td>\n",
       "      <td>{'funny': 0, 'useful': 0, 'cool': 0}</td>\n",
       "    </tr>\n",
       "    <tr>\n",
       "      <th>3</th>\n",
       "      <td>UsFtqoBl7naz8AVUBZMjQQ</td>\n",
       "      <td>2013-11-08</td>\n",
       "      <td>Di3exaUCFNw1V4kSNW5pgA</td>\n",
       "      <td>5</td>\n",
       "      <td>All the food is great here. But the best thing...</td>\n",
       "      <td>review</td>\n",
       "      <td>uK8tzraOp4M5u3uYrqIBXg</td>\n",
       "      <td>{'funny': 0, 'useful': 0, 'cool': 0}</td>\n",
       "    </tr>\n",
       "    <tr>\n",
       "      <th>4</th>\n",
       "      <td>UsFtqoBl7naz8AVUBZMjQQ</td>\n",
       "      <td>2014-03-29</td>\n",
       "      <td>0Lua2-PbqEQMjD9r89-asw</td>\n",
       "      <td>3</td>\n",
       "      <td>We checked this place out this past Monday for...</td>\n",
       "      <td>review</td>\n",
       "      <td>I_47G-R2_egp7ME5u_ltew</td>\n",
       "      <td>{'funny': 0, 'useful': 0, 'cool': 0}</td>\n",
       "    </tr>\n",
       "  </tbody>\n",
       "</table>\n",
       "</div>"
      ],
      "text/plain": [
       "              business_id       date               review_id  stars  \\\n",
       "0  5UmKMjUEUNdYWqANhGckJw 2012-08-01  Ya85v4eqdd6k9Od8HbQjyA      4   \n",
       "1  5UmKMjUEUNdYWqANhGckJw 2014-02-13  KPvLNJ21_4wbYNctrOwWdQ      5   \n",
       "2  5UmKMjUEUNdYWqANhGckJw 2015-10-31  fFSoGV46Yxuwbr3fHNuZig      5   \n",
       "3  UsFtqoBl7naz8AVUBZMjQQ 2013-11-08  Di3exaUCFNw1V4kSNW5pgA      5   \n",
       "4  UsFtqoBl7naz8AVUBZMjQQ 2014-03-29  0Lua2-PbqEQMjD9r89-asw      3   \n",
       "\n",
       "                                                text    type  \\\n",
       "0  Mr Hoagie is an institution. Walking in, it do...  review   \n",
       "1  Excellent food. Superb customer service. I mis...  review   \n",
       "2  Yes this place is a little out dated and not o...  review   \n",
       "3  All the food is great here. But the best thing...  review   \n",
       "4  We checked this place out this past Monday for...  review   \n",
       "\n",
       "                  user_id                                 votes  \n",
       "0  PUFPaY9KxDAcGqfsorJp3Q  {'funny': 0, 'useful': 0, 'cool': 0}  \n",
       "1  Iu6AxdBYGR4A0wspR9BYHA  {'funny': 0, 'useful': 0, 'cool': 0}  \n",
       "2  auESFwWvW42h6alXgFxAXQ  {'funny': 0, 'useful': 0, 'cool': 0}  \n",
       "3  uK8tzraOp4M5u3uYrqIBXg  {'funny': 0, 'useful': 0, 'cool': 0}  \n",
       "4  I_47G-R2_egp7ME5u_ltew  {'funny': 0, 'useful': 0, 'cool': 0}  "
      ]
     },
     "execution_count": 2,
     "metadata": {},
     "output_type": "execute_result"
    }
   ],
   "source": [
    "# read the entire file into a python array\n",
    "with open('Data/yelp_academic_dataset_review.json', 'rb') as f:\n",
    "   data = f.readlines()\n",
    "\n",
    "# remove the trailing \"\\n\" from each line\n",
    "data = map(lambda x: x.rstrip().decode(\"utf-8\"), data)\n",
    "\n",
    "# each element of 'data' is an individual JSON object.\n",
    "# i want to convert it into an *array* of JSON objects\n",
    "# which, in and of itself, is one large JSON object\n",
    "# basically... add square brackets to the beginning\n",
    "# and end, and have all the individual business JSON objects\n",
    "# separated by a comma\n",
    "#print(data[0])\n",
    "data_json_str = \"[\" + ','.join(data) + \"]\"\n",
    "\n",
    "# now, load it into pandas\n",
    "df_review = pd.read_json(data_json_str)\n",
    "\n",
    "df_review.head(5)\n"
   ]
  },
  {
   "cell_type": "code",
   "execution_count": 3,
   "metadata": {
    "collapsed": false
   },
   "outputs": [
    {
     "data": {
      "text/html": [
       "<div>\n",
       "<table border=\"1\" class=\"dataframe\">\n",
       "  <thead>\n",
       "    <tr style=\"text-align: right;\">\n",
       "      <th></th>\n",
       "      <th>stars</th>\n",
       "      <th>text</th>\n",
       "      <th>dichotomy</th>\n",
       "    </tr>\n",
       "  </thead>\n",
       "  <tbody>\n",
       "    <tr>\n",
       "      <th>255370</th>\n",
       "      <td>5</td>\n",
       "      <td>After struggling with melasma for years, I fin...</td>\n",
       "      <td>good</td>\n",
       "    </tr>\n",
       "    <tr>\n",
       "      <th>1509018</th>\n",
       "      <td>2</td>\n",
       "      <td>I was looking forward to my experience at Leo'...</td>\n",
       "      <td>bad</td>\n",
       "    </tr>\n",
       "    <tr>\n",
       "      <th>982311</th>\n",
       "      <td>5</td>\n",
       "      <td>Great selection and amazing customer service! ...</td>\n",
       "      <td>good</td>\n",
       "    </tr>\n",
       "    <tr>\n",
       "      <th>404987</th>\n",
       "      <td>5</td>\n",
       "      <td>one of the best experiences in las vegas that ...</td>\n",
       "      <td>good</td>\n",
       "    </tr>\n",
       "    <tr>\n",
       "      <th>1328463</th>\n",
       "      <td>4</td>\n",
       "      <td>ONLY reason why I'm giving 4 stars it's becaus...</td>\n",
       "      <td>good</td>\n",
       "    </tr>\n",
       "  </tbody>\n",
       "</table>\n",
       "</div>"
      ],
      "text/plain": [
       "         stars                                               text dichotomy\n",
       "255370       5  After struggling with melasma for years, I fin...      good\n",
       "1509018      2  I was looking forward to my experience at Leo'...       bad\n",
       "982311       5  Great selection and amazing customer service! ...      good\n",
       "404987       5  one of the best experiences in las vegas that ...      good\n",
       "1328463      4  ONLY reason why I'm giving 4 stars it's becaus...      good"
      ]
     },
     "execution_count": 3,
     "metadata": {},
     "output_type": "execute_result"
    }
   ],
   "source": [
    "def dichotomize(row):\n",
    "    if row[\"stars\"] >= 3:\n",
    "        return 'good'\n",
    "    else:\n",
    "        return 'bad'\n",
    "    \n",
    "df_review = df_review.loc[df_review['date'].dt.year == 2015]\n",
    "df_review = df_review.sample(n=400000)\n",
    "df_review = df_review[[\"stars\", \"text\"]]\n",
    "df_review['dichotomy'] = df_review.apply(lambda row: dichotomize(row), axis=1)\n",
    "df_review.head(5)"
   ]
  },
  {
   "cell_type": "code",
   "execution_count": 4,
   "metadata": {
    "collapsed": false
   },
   "outputs": [
    {
     "name": "stdout",
     "output_type": "stream",
     "text": [
      "1 star(s): 59458 Reviews\n",
      "2 star(s): 31096 Reviews\n",
      "3 star(s): 38396 Reviews\n",
      "4 star(s): 80160 Reviews\n",
      "5 star(s): 190890 Reviews\n"
     ]
    }
   ],
   "source": [
    "Stars = [1,2,3,4,5]\n",
    "\n",
    "#[^a-zA-Z0-9 \\t\\n\\r\\v\\f] Non-alphanumeric or whitespace.\n",
    "wcounts = {}\n",
    "wcounts[\"TOTAL\"] = defaultdict(int)\n",
    "ReviewsPerRating = defaultdict(int)\n",
    "\n",
    "for i in Stars:\n",
    "    wcounts[i] = defaultdict(int)\n",
    "    numReviews = 0\n",
    "    for review in df_review.loc[df_review[\"stars\"] == i].text.values:\n",
    "        numReviews += 1\n",
    "        for Rword in re.sub(\"[^a-zA-Z0-9 \\t\\n\\r\\v\\f]\",\"\",review).split():\n",
    "            wcounts[i][Rword.lower()] += 1\n",
    "            wcounts[\"TOTAL\"][Rword.lower()] += 1\n",
    "        ReviewsPerRating[i] += 1\n",
    "    print(str(i)+\" star(s): \"+str(ReviewsPerRating[i])+\" Reviews\")\n",
    "VOCAB = list(wcounts[\"TOTAL\"].keys())\n"
   ]
  },
  {
   "cell_type": "code",
   "execution_count": 5,
   "metadata": {
    "collapsed": false
   },
   "outputs": [
    {
     "name": "stdout",
     "output_type": "stream",
     "text": [
      "Done!\n"
     ]
    }
   ],
   "source": [
    "import operator\n",
    "# Regularization term? *(MonthlyWordCounts[\"January\"]/MonthlyWordCounts[Months[m]])\n",
    "\n",
    "def printUsageStats(word, MonthlyUsage):\n",
    "    print(\"Usage Statistics for \"+word+\":\")\n",
    "    TotalUses = sum(MonthlyUsage)\n",
    "    print(\"Total Uses:\", TotalUses)\n",
    "    for m in Months:\n",
    "        usagePercent = round(100*MonthlyUsage[m-1]/TotalUses,1)\n",
    "        print(Months[m]+\": \"+str(round(MonthlyUsage[m-1],0))+\" uses, \"+str(usagePercent)+\"%\")\n",
    "\n",
    "\n",
    "#Calculates a words frequency \n",
    "def frequencyMaxMinAndRatingUses(word, RatingDict,RPRating):\n",
    "        RegularizedUses = []\n",
    "        for i in Stars:\n",
    "            if(word in RatingDict[i].keys()):\n",
    "                RegularizedUses.append((RatingDict[i][word])*(RPRating[3]/RPRating[i]))        \n",
    "            else:\n",
    "                RegularizedUses.append(0)\n",
    "        RegularizedTotal = sum(RegularizedUses)\n",
    "        maxF = (100*(max(RegularizedUses)))/RegularizedTotal\n",
    "        minF = (100*(min(RegularizedUses)))/RegularizedTotal\n",
    "        return maxF,minF, RegularizedUses\n",
    "    \n",
    "    \n",
    "import copy\n",
    "\n",
    "wcounts2 = copy.deepcopy(wcounts)\n",
    "\n",
    "#FILTER WORDS FOR THE WORD CLOUDS!\n",
    "#Remove words that are too uniform, maxF - minF <20\n",
    "#Remove Words that were used less than 10 times.\n",
    "#Remove Words from the months they were used closer to the min.\n",
    "allwords = list(wcounts2[\"TOTAL\"].keys())\n",
    "for word in allwords:\n",
    "    maxF,minF,starUses = frequencyMaxMinAndRatingUses(word, wcounts2, ReviewsPerRating)\n",
    "    remove = 'N'\n",
    "    if(((maxF - minF)<30) or (wcounts2[\"TOTAL\"][word] < 100)):\n",
    "        remove = 'Y'\n",
    "        VOCAB.remove(word)\n",
    "    for i in Stars:\n",
    "        if(remove == 'Y'):\n",
    "            wcounts2[i].pop(word, None)\n",
    "print(\"Done!\")            \n"
   ]
  },
  {
   "cell_type": "code",
   "execution_count": 6,
   "metadata": {
    "collapsed": false
   },
   "outputs": [
    {
     "name": "stdout",
     "output_type": "stream",
     "text": [
      "Creating Vocabulary...\n",
      "10% done!\n",
      "20% done!\n",
      "30% done!\n",
      "40% done!\n",
      "50% done!\n",
      "60% done!\n",
      "70% done!\n",
      "80% done!\n",
      "90% done!\n",
      "100% done!\n",
      "vocab: 247394\n",
      "VOCAB: 2822\n"
     ]
    }
   ],
   "source": [
    "X_text = df_review.text.tolist()\n",
    "y = df_review.dichotomy.tolist()\n",
    "vocab = defaultdict(lambda: -1)\n",
    "vIndex = 0\n",
    "TenPercent = len(X_text)/10\n",
    "printIteration = TenPercent\n",
    "percentage = 10\n",
    "print(\"Creating Vocabulary...\")\n",
    "for i in range(len(X_text)):\n",
    "        if(i > printIteration):\n",
    "            print(str(percentage) +\"% done!\")\n",
    "            percentage += 10\n",
    "            printIteration += TenPercent\n",
    "        cleaned_text = re.sub(\"[^a-zA-Z0-9 \\t\\n\\r\\v\\f]\",\"\",X_text[i]).lower()\n",
    "        X_text[i] = cleaned_text\n",
    "        for word in cleaned_text.split():\n",
    "            if vocab[word] == -1:\n",
    "                vocab[word] = vIndex\n",
    "                vIndex += 1\n",
    "print(\"100% done!\")\n",
    "\n",
    "#print(\"Creating count arrays...\")\n",
    "#X_arrays = []\n",
    "#\n",
    "#printIteration = TenPercent\n",
    "#percentage = 10\n",
    "#for i in range(len(X_text)):\n",
    "#    if(i > printIteration):\n",
    "#        print(str(percentage) +\"% done!\")\n",
    "#        percentage += 10\n",
    "#        printIteration += TenPercent\n",
    "#    X_arrays.append([])\n",
    "#    for key in vocab:\n",
    "#        X_arrays[i].append(0)\n",
    "#    for word in X_text[i].split():\n",
    "#        X_arrays[i][vocab[word]] += 1\n",
    "#print(\"100% done!\")\n",
    "print(\"vocab: \"+str(len(vocab)))\n",
    "print(\"VOCAB: \"+str(len(VOCAB)))\n",
    "del df_review"
   ]
  },
  {
   "cell_type": "code",
   "execution_count": 7,
   "metadata": {
    "collapsed": false
   },
   "outputs": [],
   "source": [
    "X_train_text, X_test_text, y_train, y_test = train_test_split(X_text, y, test_size=0.2, random_state=42)\n",
    "del X_text\n",
    "del y\n",
    "vectorizer = CountVectorizer(vocabulary = VOCAB)\n",
    "X_train = vectorizer.transform(X_train_text).toarray()\n",
    "X_test = vectorizer.transform(X_test_text).toarray()"
   ]
  },
  {
   "cell_type": "code",
   "execution_count": 8,
   "metadata": {
    "collapsed": false
   },
   "outputs": [
    {
     "data": {
      "text/plain": [
       "0.888625"
      ]
     },
     "execution_count": 8,
     "metadata": {},
     "output_type": "execute_result"
    }
   ],
   "source": [
    "clf = MultinomialNB(fit_prior=True)\n",
    "clf.fit(X_train, y_train)\n",
    "y_pred = clf.predict(X_test)\n",
    "clf.score(X_test, y_test)"
   ]
  },
  {
   "cell_type": "code",
   "execution_count": 9,
   "metadata": {
    "collapsed": false
   },
   "outputs": [
    {
     "data": {
      "image/png": "[encoded data removed]",
      "text/plain": [
       "<matplotlib.figure.Figure at 0x23522b32668>"
      ]
     },
     "metadata": {},
     "output_type": "display_data"
    }
   ],
   "source": [
    "from sklearn.metrics import confusion_matrix\n",
    "\n",
    "def plot_confusion_matrix(cm, cls, title='Normalized confusion matrix', cmap=plt.cm.Blues):\n",
    "    plt.imshow(cm, interpolation='nearest', cmap=cmap)\n",
    "    plt.title(title)\n",
    "    plt.colorbar()\n",
    "    tick_marks = np.arange(5)\n",
    "    plt.xticks(tick_marks, cls, rotation=0)\n",
    "    plt.yticks(tick_marks, cls)\n",
    "    plt.tight_layout()\n",
    "    plt.ylabel('True Rating')\n",
    "    plt.xlabel('Predicted Rating')\n",
    "\n",
    "#classes = [1,2,3,4,5]\n",
    "classes = ['good','bad']\n",
    "cm = confusion_matrix(y_test,y_pred, labels=classes)\n",
    "cm_normalized = cm.astype('float') / cm.sum(axis=1)[:, np.newaxis]\n",
    "\n",
    "plt.figure()\n",
    "plot_confusion_matrix(cm_normalized, classes, title='Star Rating Confusion Matrix')\n",
    "\n",
    "plt.show()"
   ]
  },
  {
   "cell_type": "code",
   "execution_count": null,
   "metadata": {
    "collapsed": true
   },
   "outputs": [],
   "source": []
  }
 ],
 "metadata": {
  "kernelspec": {
   "display_name": "Python 3",
   "language": "python",
   "name": "python3"
  },
  "language_info": {
   "codemirror_mode": {
    "name": "ipython",
    "version": 3
   },
   "file_extension": ".py",
   "mimetype": "text/x-python",
   "name": "python",
   "nbconvert_exporter": "python",
   "pygments_lexer": "ipython3",
   "version": "3.5.1"
  }
 },
 "nbformat": 4,
 "nbformat_minor": 0
}
