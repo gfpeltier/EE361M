{
 "cells": [
  {
   "cell_type": "code",
   "execution_count": 6,
   "metadata": {
    "collapsed": false
   },
   "outputs": [
    {
     "name": "stdout",
     "output_type": "stream",
     "text": [
      "RandomForestClassifier(bootstrap=True, class_weight=None, criterion='gini',\n",
      "            max_depth=None, max_features='log2', max_leaf_nodes=None,\n",
      "            min_samples_leaf=1, min_samples_split=2,\n",
      "            min_weight_fraction_leaf=0.0, n_estimators=1000, n_jobs=1,\n",
      "            oob_score=False, random_state=None, verbose=0,\n",
      "            warm_start=False)\n",
      "The confusion matrix is:\n",
      " [[437  14]\n",
      " [103  47]]\n",
      "The accuracy for no affair class is: 0.9689578713968958\n",
      "The accuracy for affair class is: 0.31333333333333335\n",
      "The average per-class accuracy is: 0.6411456023651145\n",
      "[ 0.10455787  0.03374118  0.08802575  0.05311752  0.05932662  0.07760034\n",
      "  0.06403705  0.05787703  0.06596279  0.05867132  0.03929155  0.03441239\n",
      "  0.05024605  0.05357223  0.05463316  0.04880724  0.0561199 ]\n"
     ]
    }
   ],
   "source": [
    "#5.1\n",
    "from pydataset import data\n",
    "from sklearn.grid_search import GridSearchCV\n",
    "from sklearn.ensemble import RandomForestClassifier\n",
    "from sklearn import cross_validation, svm\n",
    "from sklearn.metrics import confusion_matrix\n",
    "\n",
    "def convert_dummy(col,row):\n",
    "    if row[col] > 0:\n",
    "        return 1\n",
    "    else:\n",
    "        return 0\n",
    "\n",
    "df = data('affairs')\n",
    "df['naffairs'] = df.apply(lambda row: convert_dummy('naffairs',row),axis=1)\n",
    "X = df[['kids', 'vryunhap','unhap','avgmarr','hapavg','vryhap','antirel','notrel','slghtrel','smerel',\n",
    "          'vryrel','yrsmarr1','yrsmarr2','yrsmarr3','yrsmarr4','yrsmarr5','yrsmarr6']].values\n",
    "y = df.naffairs.values\n",
    "\n",
    "clf = RandomForestClassifier()\n",
    "param_grid = {\n",
    "    'n_estimators': [10, 100, 1000],\n",
    "    'max_features': ['auto', 'sqrt', 'log2']\n",
    "}\n",
    "\n",
    "rs = GridSearchCV(clf, cv=5, param_grid=param_grid)\n",
    "rs.fit(X,y)\n",
    "print(rs.best_estimator_)\n",
    "\n",
    "# 5.1 Best estimator is max_features=auto, n_estimator=1000\n",
    "clf = RandomForestClassifier(n_estimators=1000, max_features='auto')\n",
    "clf.fit(X,y)\n",
    "y_pred = clf.predict(X)\n",
    "\n",
    "naffair, nacorr, waffair, wacorr = 0, 0, 0, 0\n",
    "for i in range(len(y)):\n",
    "    if y[i] == 0:\n",
    "        naffair = naffair + 1\n",
    "        if y_pred[i] == 0:\n",
    "            nacorr = nacorr + 1\n",
    "    else:\n",
    "        waffair = waffair + 1\n",
    "        if y_pred[i] == 1:\n",
    "            wacorr = wacorr + 1\n",
    "\n",
    "naaccu = float(nacorr) / naffair\n",
    "waaccu =  float(wacorr)/waffair\n",
    "perclassaccu = (naaccu + waaccu) / 2\n",
    "print(\"The confusion matrix is:\\n\", confusion_matrix(y,y_pred))\n",
    "print(\"The accuracy for no affair class is:\", naaccu)\n",
    "print(\"The accuracy for affair class is:\", waaccu)\n",
    "print(\"The average per-class accuracy is:\", perclassaccu)\n",
    "\n",
    "importances = clf.feature_importances_\n",
    "print(importances)\n",
    "# 5.2\n",
    "# N_estimators shows the number of trees in the forest.\n",
    "# Max_features shows the number of features to consider when looking for the best split:\n",
    "# 5.3\n",
    "# From the weight table, we can see that features are ranked as follows in terms of weight:\n",
    "# (from most to least important) kids, vryhap, antirel, unhap,  ... yrsmarr2, vryrel, yrsmarr1"
   ]
  },
  {
   "cell_type": "code",
   "execution_count": 8,
   "metadata": {
    "collapsed": false
   },
   "outputs": [
    {
     "name": "stdout",
     "output_type": "stream",
     "text": [
      "AdaBoostClassifier(algorithm='SAMME.R', base_estimator=None,\n",
      "          learning_rate=0.001, n_estimators=5000, random_state=None)\n",
      "The confusion matrix is:\n",
      " [[451   0]\n",
      " [148   2]]\n",
      "The accuracy for no affair class is: 1.0\n",
      "The accuracy for affair class is: 0.013333333333333334\n",
      "The average per-class accuracy is: 0.5066666666666667\n",
      "[ 0.0576  0.051   0.1836  0.      0.      0.1522  0.14    0.      0.066\n",
      "  0.1184  0.      0.1074  0.1238  0.      0.      0.      0.    ]\n"
     ]
    }
   ],
   "source": [
    "#5.4\n",
    "from pydataset import data\n",
    "from sklearn.grid_search import GridSearchCV\n",
    "from sklearn.ensemble import AdaBoostClassifier\n",
    "from sklearn import cross_validation, svm\n",
    "from sklearn.metrics import confusion_matrix\n",
    "\n",
    "def convert_dummy(col,row):\n",
    "    if row[col] > 0:\n",
    "        return 1\n",
    "    else:\n",
    "        return 0\n",
    "\n",
    "df = data('affairs')\n",
    "df['naffairs'] = df.apply(lambda row: convert_dummy('naffairs',row),axis=1)\n",
    "X = df[['kids', 'vryunhap','unhap','avgmarr','hapavg','vryhap','antirel','notrel','slghtrel','smerel',\n",
    "          'vryrel','yrsmarr1','yrsmarr2','yrsmarr3','yrsmarr4','yrsmarr5','yrsmarr6']].values\n",
    "y = df.naffairs.values\n",
    "\n",
    "clf = AdaBoostClassifier()\n",
    "param_grid = {\n",
    "    'n_estimators': [50, 500, 5000],\n",
    "    'learning_rate': [0.001, 0.01, 0.1]\n",
    "}\n",
    "\n",
    "rs = GridSearchCV(clf, cv=5, param_grid=param_grid)\n",
    "rs.fit(X,y)\n",
    "print(rs.best_estimator_)\n",
    "# 5.1 Best estimator is learning_rate = 0.001, n_estimator=5000\n",
    "\n",
    "clf = AdaBoostClassifier(n_estimators=5000, learning_rate=0.001)\n",
    "clf.fit(X, y)\n",
    "y_pred = clf.predict(X)\n",
    "\n",
    "naffair, nacorr, waffair, wacorr = 0, 0, 0, 0\n",
    "for i in range(len(y)):\n",
    "    if y[i] == 0:\n",
    "        naffair = naffair + 1\n",
    "        if y_pred[i] == 0:\n",
    "            nacorr = nacorr + 1\n",
    "    else:\n",
    "        waffair = waffair + 1\n",
    "        if y_pred[i] == 1:\n",
    "            wacorr = wacorr + 1\n",
    "\n",
    "naaccu = float(nacorr) / naffair\n",
    "waaccu =  float(wacorr)/waffair\n",
    "perclassaccu = (naaccu + waaccu) / 2\n",
    "print(\"The confusion matrix is:\\n\", confusion_matrix(y,y_pred))\n",
    "print(\"The accuracy for no affair class is:\", naaccu)\n",
    "print(\"The accuracy for affair class is:\", waaccu)\n",
    "print(\"The average per-class accuracy is:\", perclassaccu)\n",
    "\n",
    "importances = clf.feature_importances_\n",
    "print(importances)\n",
    "# 5.5\n",
    "# Learning rate shrinks the contribution of each classifier by learning_rate.\n",
    "# It determines how much we learn from each new training data.\n",
    "# 5.6\n",
    "# From the weight table, we can see that features are ranked as follows in terms of weight:\n",
    "# (from most to least important) unhap, vryhap, antirel, yrsmarr2, smerel, yrsmarr1, \n",
    "# slghtrel, kids, vryunhap, and the rest has no impact on the final result."
   ]
  },
  {
   "cell_type": "code",
   "execution_count": null,
   "metadata": {
    "collapsed": true
   },
   "outputs": [],
   "source": [
    "# 5.7 The Random Forest has on average better performance average AdaBoost.\n",
    "# Compare with all four methods, Random Forest > SVC > AdaBoost (I don't see how q3 is related to this question...)"
   ]
  }
 ],
 "metadata": {
  "kernelspec": {
   "display_name": "Python 3",
   "language": "python",
   "name": "python3"
  },
  "language_info": {
   "codemirror_mode": {
    "name": "ipython",
    "version": 3
   },
   "file_extension": ".py",
   "mimetype": "text/x-python",
   "name": "python",
   "nbconvert_exporter": "python",
   "pygments_lexer": "ipython3",
   "version": "3.4.4"
  }
 },
 "nbformat": 4,
 "nbformat_minor": 0
}
