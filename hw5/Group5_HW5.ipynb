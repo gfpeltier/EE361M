{
 "cells": [
  {
   "cell_type": "markdown",
   "metadata": {},
   "source": [
    "# Homework 5 - Group 5\n",
    "## Question 1\n",
    "### 1.1)"
   ]
  },
  {
   "cell_type": "code",
   "execution_count": 2,
   "metadata": {
    "collapsed": false
   },
   "outputs": [
    {
     "data": {
      "text/html": [
       "<div>\n",
       "<table border=\"1\" class=\"dataframe\">\n",
       "  <thead>\n",
       "    <tr style=\"text-align: right;\">\n",
       "      <th></th>\n",
       "      <th>naffairs</th>\n",
       "      <th>kids</th>\n",
       "      <th>vryunhap</th>\n",
       "      <th>unhap</th>\n",
       "      <th>avgmarr</th>\n",
       "      <th>hapavg</th>\n",
       "      <th>vryhap</th>\n",
       "      <th>antirel</th>\n",
       "      <th>notrel</th>\n",
       "      <th>slghtrel</th>\n",
       "      <th>smerel</th>\n",
       "      <th>vryrel</th>\n",
       "      <th>yrsmarr1</th>\n",
       "      <th>yrsmarr2</th>\n",
       "      <th>yrsmarr3</th>\n",
       "      <th>yrsmarr4</th>\n",
       "      <th>yrsmarr5</th>\n",
       "      <th>yrsmarr6</th>\n",
       "      <th>hadAffair</th>\n",
       "    </tr>\n",
       "  </thead>\n",
       "  <tbody>\n",
       "    <tr>\n",
       "      <th>1</th>\n",
       "      <td>0</td>\n",
       "      <td>0</td>\n",
       "      <td>0</td>\n",
       "      <td>0</td>\n",
       "      <td>0</td>\n",
       "      <td>1</td>\n",
       "      <td>0</td>\n",
       "      <td>0</td>\n",
       "      <td>0</td>\n",
       "      <td>1</td>\n",
       "      <td>0</td>\n",
       "      <td>0</td>\n",
       "      <td>0</td>\n",
       "      <td>0</td>\n",
       "      <td>0</td>\n",
       "      <td>0</td>\n",
       "      <td>1</td>\n",
       "      <td>0</td>\n",
       "      <td>0</td>\n",
       "    </tr>\n",
       "    <tr>\n",
       "      <th>2</th>\n",
       "      <td>0</td>\n",
       "      <td>0</td>\n",
       "      <td>0</td>\n",
       "      <td>0</td>\n",
       "      <td>0</td>\n",
       "      <td>1</td>\n",
       "      <td>0</td>\n",
       "      <td>0</td>\n",
       "      <td>0</td>\n",
       "      <td>0</td>\n",
       "      <td>1</td>\n",
       "      <td>0</td>\n",
       "      <td>0</td>\n",
       "      <td>0</td>\n",
       "      <td>1</td>\n",
       "      <td>0</td>\n",
       "      <td>0</td>\n",
       "      <td>0</td>\n",
       "      <td>0</td>\n",
       "    </tr>\n",
       "    <tr>\n",
       "      <th>3</th>\n",
       "      <td>3</td>\n",
       "      <td>0</td>\n",
       "      <td>0</td>\n",
       "      <td>0</td>\n",
       "      <td>0</td>\n",
       "      <td>1</td>\n",
       "      <td>0</td>\n",
       "      <td>0</td>\n",
       "      <td>0</td>\n",
       "      <td>1</td>\n",
       "      <td>0</td>\n",
       "      <td>0</td>\n",
       "      <td>0</td>\n",
       "      <td>1</td>\n",
       "      <td>0</td>\n",
       "      <td>0</td>\n",
       "      <td>0</td>\n",
       "      <td>0</td>\n",
       "      <td>1</td>\n",
       "    </tr>\n",
       "    <tr>\n",
       "      <th>4</th>\n",
       "      <td>0</td>\n",
       "      <td>1</td>\n",
       "      <td>0</td>\n",
       "      <td>0</td>\n",
       "      <td>0</td>\n",
       "      <td>1</td>\n",
       "      <td>0</td>\n",
       "      <td>1</td>\n",
       "      <td>0</td>\n",
       "      <td>0</td>\n",
       "      <td>0</td>\n",
       "      <td>0</td>\n",
       "      <td>0</td>\n",
       "      <td>0</td>\n",
       "      <td>0</td>\n",
       "      <td>0</td>\n",
       "      <td>0</td>\n",
       "      <td>1</td>\n",
       "      <td>0</td>\n",
       "    </tr>\n",
       "    <tr>\n",
       "      <th>5</th>\n",
       "      <td>3</td>\n",
       "      <td>1</td>\n",
       "      <td>0</td>\n",
       "      <td>0</td>\n",
       "      <td>0</td>\n",
       "      <td>0</td>\n",
       "      <td>1</td>\n",
       "      <td>0</td>\n",
       "      <td>0</td>\n",
       "      <td>1</td>\n",
       "      <td>0</td>\n",
       "      <td>0</td>\n",
       "      <td>0</td>\n",
       "      <td>0</td>\n",
       "      <td>1</td>\n",
       "      <td>0</td>\n",
       "      <td>0</td>\n",
       "      <td>0</td>\n",
       "      <td>1</td>\n",
       "    </tr>\n",
       "  </tbody>\n",
       "</table>\n",
       "</div>"
      ],
      "text/plain": [
       "   naffairs  kids  vryunhap  unhap  avgmarr  hapavg  vryhap  antirel  notrel  \\\n",
       "1         0     0         0      0        0       1       0        0       0   \n",
       "2         0     0         0      0        0       1       0        0       0   \n",
       "3         3     0         0      0        0       1       0        0       0   \n",
       "4         0     1         0      0        0       1       0        1       0   \n",
       "5         3     1         0      0        0       0       1        0       0   \n",
       "\n",
       "   slghtrel  smerel  vryrel  yrsmarr1  yrsmarr2  yrsmarr3  yrsmarr4  yrsmarr5  \\\n",
       "1         1       0       0         0         0         0         0         1   \n",
       "2         0       1       0         0         0         1         0         0   \n",
       "3         1       0       0         0         1         0         0         0   \n",
       "4         0       0       0         0         0         0         0         0   \n",
       "5         1       0       0         0         0         1         0         0   \n",
       "\n",
       "   yrsmarr6  hadAffair  \n",
       "1         0          0  \n",
       "2         0          0  \n",
       "3         0          1  \n",
       "4         1          0  \n",
       "5         0          1  "
      ]
     },
     "execution_count": 2,
     "metadata": {},
     "output_type": "execute_result"
    }
   ],
   "source": [
    "from pydataset import data\n",
    "df = data('affairs')\n",
    "\n",
    "def convert_boolean(row):\n",
    "    if row['naffairs'] > 0:\n",
    "        return 1\n",
    "    else:\n",
    "        return 0\n",
    "    \n",
    "df['hadAffair'] = df.apply (lambda row: convert_boolean(row),axis=1)    \n",
    "df.head(5)"
   ]
  },
  {
   "cell_type": "markdown",
   "metadata": {},
   "source": [
    "### 1.2)"
   ]
  },
  {
   "cell_type": "code",
   "execution_count": 3,
   "metadata": {
    "collapsed": false
   },
   "outputs": [],
   "source": [
    "import numpy as np\n",
    "from sklearn.cross_validation import train_test_split\n",
    "\n",
    "cols = list(df.columns.values)\n",
    "X = df[cols[1:-1]]\n",
    "y = df['hadAffair'].values\n",
    "\n",
    "X_train, X_test, y_train, y_test = train_test_split(X, y, test_size=0.33, random_state=42)"
   ]
  },
  {
   "cell_type": "markdown",
   "metadata": {},
   "source": [
    "### 1.3)"
   ]
  },
  {
   "cell_type": "code",
   "execution_count": 19,
   "metadata": {
    "collapsed": false
   },
   "outputs": [
    {
     "data": {
      "text/html": [
       "<table border=\"1\" cellpadding=\"3\" cellspacing=\"0\"  style=\"border:1px solid black;border-collapse:collapse;\"><tr><td  style=\"background-color:hsla(225, 80%, 94%, 1);width:100px;\"><b></b></td><td  style=\"background-color:hsla(225, 80%, 94%, 1);width:100px;\"><b>Pred&nbspAffair</b></td><td  style=\"background-color:hsla(225, 80%, 94%, 1);width:100px;\"><b>Pred&nbspNo&nbspAffair</b></td></tr><tr><td  style=\"background-color:hsla(225, 80%, 94%, 1);width:100px;\"><b>Had&nbspAffair</b></td><td  style=\"width:100px;\">10</td><td>43</td></tr><tr><td  style=\"background-color:hsla(225, 80%, 94%, 1);width:100px;\"><b>No&nbspAffair</b></td><td  style=\"width:100px;\">10</td><td>136</td></tr></table>"
      ],
      "text/plain": [
       "<ipy_table.IpyTable at 0x108f5ecc0>"
      ]
     },
     "execution_count": 19,
     "metadata": {},
     "output_type": "execute_result"
    }
   ],
   "source": [
    "from ipy_table import *\n",
    "from sklearn.linear_model import LogisticRegression\n",
    "from sklearn.metrics import confusion_matrix\n",
    "\n",
    "clf = LogisticRegression(penalty='l2', C=1000)\n",
    "clf.fit(X_train, y_train)\n",
    "y_pred = clf.predict(X_test)\n",
    "conf = confusion_matrix(y_test, y_pred)\n",
    "table = [[\"\", \"Pred Affair\", \"Pred No Affair\"],\n",
    "         [\"Had Affair\",conf[1][1],conf[1][0]],\n",
    "         [\"No Affair\",conf[0][1],conf[0][0]]]\n",
    "make_table(table)\n",
    "\n",
    "# apply some styles to the table after it is created\n",
    "set_column_style(0, width='100', bold=True, color='hsla(225, 80%, 94%, 1)')\n",
    "set_row_style(0, width='100', bold=True, color='hsla(225, 80%, 94%, 1)')\n",
    "set_column_style(1, width='100')\n",
    "\n",
    "render()"
   ]
  },
  {
   "cell_type": "markdown",
   "metadata": {
    "collapsed": true
   },
   "source": [
    "#### Had affair class accuracy = 10/53 = 0.189\n",
    "#### No affair class accuracy = 136/146 = 0.932\n",
    "#### Average per-class accuracy = (0.932 + 0.189)/2 = 0.561\n",
    "### 1.4 & 1.5)"
   ]
  },
  {
   "cell_type": "code",
   "execution_count": 20,
   "metadata": {
    "collapsed": false
   },
   "outputs": [
    {
     "name": "stdout",
     "output_type": "stream",
     "text": [
      "Best ridge param: 1\n",
      "Best lasso param: 1\n"
     ]
    }
   ],
   "source": [
    "from sklearn.metrics import make_scorer\n",
    "from sklearn.grid_search import GridSearchCV\n",
    "\n",
    "def per_class_avg(y_true, y_pred):\n",
    "    conf = confusion_matrix(y_true, y_pred)\n",
    "    tp = conf[1][1]\n",
    "    fp = conf[0][1]\n",
    "    fn = conf[1][0]\n",
    "    tn = conf[0][0]\n",
    "    c1_acc = tp/(tp+fn)\n",
    "    c2_acc = tn/(fp+tn)\n",
    "    return (c1_acc + c2_acc)/2\n",
    "\n",
    "scorer = make_scorer(per_class_avg)\n",
    "\n",
    "#Ridge penalty logistic\n",
    "params = {'C':[0.001, 0.01, 0.1, 1]}\n",
    "log = LogisticRegression(penalty='l2')\n",
    "clf = GridSearchCV(log,params,scoring=scorer)\n",
    "clf.fit(X_train, y_train)\n",
    "print(\"Best ridge param: \" + str(clf.best_params_['C']))\n",
    "\n",
    "#Lasso penalty logistic\n",
    "log = LogisticRegression(penalty='l1')\n",
    "clf = GridSearchCV(log,params,scoring=scorer)\n",
    "clf.fit(X_train, y_train)\n",
    "print(\"Best lasso param: \" + str(clf.best_params_['C']))\n"
   ]
  },
  {
   "cell_type": "markdown",
   "metadata": {
    "collapsed": true
   },
   "source": [
    "### 1.6)"
   ]
  },
  {
   "cell_type": "code",
   "execution_count": 27,
   "metadata": {
    "collapsed": false
   },
   "outputs": [
    {
     "name": "stdout",
     "output_type": "stream",
     "text": [
      "Average per-class accuracy (Ridge): 0.563517704833\n",
      "Average per-class accuracy (Lasso): 0.566942362368\n"
     ]
    }
   ],
   "source": [
    "clf = LogisticRegression(penalty='l2')\n",
    "clf.fit(X_train, y_train)\n",
    "y_pred = clf.predict(X_test)\n",
    "print(\"Average per-class accuracy (Ridge): \" + str(per_class_avg(y_test, y_pred)))\n",
    "\n",
    "clf = LogisticRegression(penalty='l1')\n",
    "clf.fit(X_train, y_train)\n",
    "y_pred = clf.predict(X_test)\n",
    "print(\"Average per-class accuracy (Lasso): \" + str(per_class_avg(y_test, y_pred)))"
   ]
  },
  {
   "cell_type": "markdown",
   "metadata": {},
   "source": [
    "## Question 2\n",
    "### 2.1)"
   ]
  },
  {
   "cell_type": "code",
   "execution_count": 31,
   "metadata": {
    "collapsed": false
   },
   "outputs": [
    {
     "data": {
      "text/html": [
       "<table border=\"1\" cellpadding=\"3\" cellspacing=\"0\"  style=\"border:1px solid black;border-collapse:collapse;\"><tr><td  style=\"background-color:hsla(225, 80%, 94%, 1);width:100px;\"><b></b></td><td  style=\"background-color:hsla(225, 80%, 94%, 1);width:100px;\"><b>Pred&nbspAffair</b></td><td  style=\"background-color:hsla(225, 80%, 94%, 1);width:100px;\"><b>Pred&nbspNo&nbspAffair</b></td></tr><tr><td  style=\"background-color:hsla(225, 80%, 94%, 1);width:100px;\"><b>Had&nbspAffair</b></td><td  style=\"width:100px;\">0</td><td>53</td></tr><tr><td  style=\"background-color:hsla(225, 80%, 94%, 1);width:100px;\"><b>No&nbspAffair</b></td><td  style=\"width:100px;\">0</td><td>146</td></tr></table>"
      ],
      "text/plain": [
       "<ipy_table.IpyTable at 0x109b64048>"
      ]
     },
     "execution_count": 31,
     "metadata": {},
     "output_type": "execute_result"
    }
   ],
   "source": [
    "from sklearn.svm import SVC\n",
    "\n",
    "clf = SVC()\n",
    "clf.fit(X_train, y_train)\n",
    "y_pred = clf.predict(X_test)\n",
    "conf = confusion_matrix(y_test, y_pred)\n",
    "table = [[\"\", \"Pred Affair\", \"Pred No Affair\"],\n",
    "         [\"Had Affair\",conf[1][1],conf[1][0]],\n",
    "         [\"No Affair\",conf[0][1],conf[0][0]]]\n",
    "make_table(table)\n",
    "\n",
    "# apply some styles to the table after it is created\n",
    "set_column_style(0, width='100', bold=True, color='hsla(225, 80%, 94%, 1)')\n",
    "set_row_style(0, width='100', bold=True, color='hsla(225, 80%, 94%, 1)')\n",
    "set_column_style(1, width='100')\n",
    "\n",
    "render()"
   ]
  },
  {
   "cell_type": "markdown",
   "metadata": {},
   "source": [
    "#### Had affair class accuracy = 0/53 = 0\n",
    "#### No affair class accuracy = 146/146 = 1\n",
    "#### Average per-class accuracy = (1+ 0)/2 = 0.5\n",
    "### 2.2)"
   ]
  },
  {
   "cell_type": "code",
   "execution_count": 39,
   "metadata": {
    "collapsed": false
   },
   "outputs": [
    {
     "name": "stdout",
     "output_type": "stream",
     "text": [
      "Best model: {'kernel': 'rbf', 'C': 100}\n"
     ]
    },
    {
     "data": {
      "text/html": [
       "<table border=\"1\" cellpadding=\"3\" cellspacing=\"0\"  style=\"border:1px solid black;border-collapse:collapse;\"><tr><td  style=\"background-color:hsla(225, 80%, 94%, 1);width:100px;\"><b></b></td><td  style=\"background-color:hsla(225, 80%, 94%, 1);width:100px;\"><b>Pred&nbspAffair</b></td><td  style=\"background-color:hsla(225, 80%, 94%, 1);width:100px;\"><b>Pred&nbspNo&nbspAffair</b></td></tr><tr><td  style=\"background-color:hsla(225, 80%, 94%, 1);width:100px;\"><b>Had&nbspAffair</b></td><td  style=\"width:100px;\">16</td><td>37</td></tr><tr><td  style=\"background-color:hsla(225, 80%, 94%, 1);width:100px;\"><b>No&nbspAffair</b></td><td  style=\"width:100px;\">27</td><td>119</td></tr></table>"
      ],
      "text/plain": [
       "<ipy_table.IpyTable at 0x109b29908>"
      ]
     },
     "execution_count": 39,
     "metadata": {},
     "output_type": "execute_result"
    }
   ],
   "source": [
    "#C = [0.001, 0.01, 0.1, 1,5,10,100]\n",
    "\n",
    "parameters = {'kernel':('rbf', 'poly'), 'C':[0.001, 0.01, 0.1, 1,5,10,100]}\n",
    "svr = SVC()\n",
    "clf = GridSearchCV(svr, parameters, cv=5, scoring=scorer)\n",
    "clf.fit(X_train, y_train)\n",
    "print(\"Best model: \" + str(clf.best_params_))\n",
    "\n",
    "clf = SVC(kernel='rbf',C=100)\n",
    "clf.fit(X_train, y_train)\n",
    "y_pred = clf.predict(X_test)\n",
    "conf = confusion_matrix(y_test, y_pred)\n",
    "table = [[\"\", \"Pred Affair\", \"Pred No Affair\"],\n",
    "         [\"Had Affair\",conf[1][1],conf[1][0]],\n",
    "         [\"No Affair\",conf[0][1],conf[0][0]]]\n",
    "make_table(table)\n",
    "\n",
    "# apply some styles to the table after it is created\n",
    "set_column_style(0, width='100', bold=True, color='hsla(225, 80%, 94%, 1)')\n",
    "set_row_style(0, width='100', bold=True, color='hsla(225, 80%, 94%, 1)')\n",
    "set_column_style(1, width='100')\n",
    "\n",
    "render()"
   ]
  },
  {
   "cell_type": "markdown",
   "metadata": {},
   "source": [
    "#### Had affair class accuracy = 16/53 = 0.302\n",
    "#### No affair class accuracy = 119/146 = 0.815\n",
    "#### Average per-class accuracy = (0.302+ 0.815)/2 = 0.5585\n",
    "### 2.3)"
   ]
  },
  {
   "cell_type": "markdown",
   "metadata": {},
   "source": [
    "- Larger C $\\implies$ greater error penalization $\\therefore$ large C may lead to overfitting and small C may lead to underfitting\n",
    "- RBF is slightly more flexible than the polynomial kernel and is able to fit more complex relationships between variables\n",
    "\n",
    "### 2.4)\n",
    "\n",
    "- In 2.1, the basic SVC classified all test points as \"no affair\" which led to completely polarized accuracy scores. 2.2 presented a more flexible model that performed much better in predicting the \"had affair\" class (0% => 30.2%) but slightly worse in predicting the \"no affair\" class (100% => 81.5%) which led to only a slightly better average per-class accuracy (50% => 55.9%). Although the average per-class accuracy was only slightly better in 2.2, the model is much better model than 2.1 because it does not simply lump all data points into a single (although more populated) class.\n",
    "- The average per-class accuracy metric performed just slightly better in Q1 than in Q2. However, the model in 2.2 appears to be a slightly better fit for the data over the model presented in 1.3 since its true positive accuracy is significantly better and its true negative accuracy only falls slightly.\n",
    "\n",
    "## Question 3"
   ]
  },
  {
   "cell_type": "code",
   "execution_count": 40,
   "metadata": {
    "collapsed": false
   },
   "outputs": [
    {
     "data": {
      "text/html": [
       "<div>\n",
       "<table border=\"1\" class=\"dataframe\">\n",
       "  <thead>\n",
       "    <tr style=\"text-align: right;\">\n",
       "      <th></th>\n",
       "      <th>price</th>\n",
       "      <th>lotsize</th>\n",
       "      <th>bedrooms</th>\n",
       "      <th>bathrms</th>\n",
       "      <th>stories</th>\n",
       "      <th>driveway</th>\n",
       "      <th>recroom</th>\n",
       "      <th>fullbase</th>\n",
       "      <th>gashw</th>\n",
       "      <th>airco</th>\n",
       "      <th>garagepl</th>\n",
       "      <th>prefarea</th>\n",
       "    </tr>\n",
       "  </thead>\n",
       "  <tbody>\n",
       "    <tr>\n",
       "      <th>1</th>\n",
       "      <td>42000</td>\n",
       "      <td>5850</td>\n",
       "      <td>3</td>\n",
       "      <td>1</td>\n",
       "      <td>2</td>\n",
       "      <td>yes</td>\n",
       "      <td>no</td>\n",
       "      <td>yes</td>\n",
       "      <td>no</td>\n",
       "      <td>no</td>\n",
       "      <td>1</td>\n",
       "      <td>no</td>\n",
       "    </tr>\n",
       "    <tr>\n",
       "      <th>2</th>\n",
       "      <td>38500</td>\n",
       "      <td>4000</td>\n",
       "      <td>2</td>\n",
       "      <td>1</td>\n",
       "      <td>1</td>\n",
       "      <td>yes</td>\n",
       "      <td>no</td>\n",
       "      <td>no</td>\n",
       "      <td>no</td>\n",
       "      <td>no</td>\n",
       "      <td>0</td>\n",
       "      <td>no</td>\n",
       "    </tr>\n",
       "    <tr>\n",
       "      <th>3</th>\n",
       "      <td>49500</td>\n",
       "      <td>3060</td>\n",
       "      <td>3</td>\n",
       "      <td>1</td>\n",
       "      <td>1</td>\n",
       "      <td>yes</td>\n",
       "      <td>no</td>\n",
       "      <td>no</td>\n",
       "      <td>no</td>\n",
       "      <td>no</td>\n",
       "      <td>0</td>\n",
       "      <td>no</td>\n",
       "    </tr>\n",
       "    <tr>\n",
       "      <th>4</th>\n",
       "      <td>60500</td>\n",
       "      <td>6650</td>\n",
       "      <td>3</td>\n",
       "      <td>1</td>\n",
       "      <td>2</td>\n",
       "      <td>yes</td>\n",
       "      <td>yes</td>\n",
       "      <td>no</td>\n",
       "      <td>no</td>\n",
       "      <td>no</td>\n",
       "      <td>0</td>\n",
       "      <td>no</td>\n",
       "    </tr>\n",
       "    <tr>\n",
       "      <th>5</th>\n",
       "      <td>61000</td>\n",
       "      <td>6360</td>\n",
       "      <td>2</td>\n",
       "      <td>1</td>\n",
       "      <td>1</td>\n",
       "      <td>yes</td>\n",
       "      <td>no</td>\n",
       "      <td>no</td>\n",
       "      <td>no</td>\n",
       "      <td>no</td>\n",
       "      <td>0</td>\n",
       "      <td>no</td>\n",
       "    </tr>\n",
       "  </tbody>\n",
       "</table>\n",
       "</div>"
      ],
      "text/plain": [
       "   price  lotsize  bedrooms  bathrms  stories driveway recroom fullbase gashw  \\\n",
       "1  42000     5850         3        1        2      yes      no      yes    no   \n",
       "2  38500     4000         2        1        1      yes      no       no    no   \n",
       "3  49500     3060         3        1        1      yes      no       no    no   \n",
       "4  60500     6650         3        1        2      yes     yes       no    no   \n",
       "5  61000     6360         2        1        1      yes      no       no    no   \n",
       "\n",
       "  airco  garagepl prefarea  \n",
       "1    no         1       no  \n",
       "2    no         0       no  \n",
       "3    no         0       no  \n",
       "4    no         0       no  \n",
       "5    no         0       no  "
      ]
     },
     "execution_count": 40,
     "metadata": {},
     "output_type": "execute_result"
    }
   ],
   "source": [
    "import pandas as pd\n",
    "from pydataset import data\n",
    "import numpy as np\n",
    "from sklearn.cross_validation import train_test_split\n",
    "from sklearn import tree, svm, grid_search\n",
    "\n",
    "df=data('Housing')\n",
    "df.head(5)"
   ]
  },
  {
   "cell_type": "markdown",
   "metadata": {},
   "source": [
    "### 3.1)"
   ]
  },
  {
   "cell_type": "code",
   "execution_count": 41,
   "metadata": {
    "collapsed": false
   },
   "outputs": [
    {
     "data": {
      "text/html": [
       "<div>\n",
       "<table border=\"1\" class=\"dataframe\">\n",
       "  <thead>\n",
       "    <tr style=\"text-align: right;\">\n",
       "      <th></th>\n",
       "      <th>price</th>\n",
       "      <th>lotsize</th>\n",
       "      <th>bedrooms</th>\n",
       "      <th>bathrms</th>\n",
       "      <th>stories</th>\n",
       "      <th>driveway</th>\n",
       "      <th>recroom</th>\n",
       "      <th>fullbase</th>\n",
       "      <th>gashw</th>\n",
       "      <th>airco</th>\n",
       "      <th>garagepl</th>\n",
       "      <th>prefarea</th>\n",
       "    </tr>\n",
       "  </thead>\n",
       "  <tbody>\n",
       "    <tr>\n",
       "      <th>1</th>\n",
       "      <td>42000</td>\n",
       "      <td>5850</td>\n",
       "      <td>3</td>\n",
       "      <td>1</td>\n",
       "      <td>2</td>\n",
       "      <td>1</td>\n",
       "      <td>0</td>\n",
       "      <td>1</td>\n",
       "      <td>0</td>\n",
       "      <td>0</td>\n",
       "      <td>1</td>\n",
       "      <td>0</td>\n",
       "    </tr>\n",
       "    <tr>\n",
       "      <th>2</th>\n",
       "      <td>38500</td>\n",
       "      <td>4000</td>\n",
       "      <td>2</td>\n",
       "      <td>1</td>\n",
       "      <td>1</td>\n",
       "      <td>1</td>\n",
       "      <td>0</td>\n",
       "      <td>0</td>\n",
       "      <td>0</td>\n",
       "      <td>0</td>\n",
       "      <td>0</td>\n",
       "      <td>0</td>\n",
       "    </tr>\n",
       "    <tr>\n",
       "      <th>3</th>\n",
       "      <td>49500</td>\n",
       "      <td>3060</td>\n",
       "      <td>3</td>\n",
       "      <td>1</td>\n",
       "      <td>1</td>\n",
       "      <td>1</td>\n",
       "      <td>0</td>\n",
       "      <td>0</td>\n",
       "      <td>0</td>\n",
       "      <td>0</td>\n",
       "      <td>0</td>\n",
       "      <td>0</td>\n",
       "    </tr>\n",
       "    <tr>\n",
       "      <th>4</th>\n",
       "      <td>60500</td>\n",
       "      <td>6650</td>\n",
       "      <td>3</td>\n",
       "      <td>1</td>\n",
       "      <td>2</td>\n",
       "      <td>1</td>\n",
       "      <td>1</td>\n",
       "      <td>0</td>\n",
       "      <td>0</td>\n",
       "      <td>0</td>\n",
       "      <td>0</td>\n",
       "      <td>0</td>\n",
       "    </tr>\n",
       "    <tr>\n",
       "      <th>5</th>\n",
       "      <td>61000</td>\n",
       "      <td>6360</td>\n",
       "      <td>2</td>\n",
       "      <td>1</td>\n",
       "      <td>1</td>\n",
       "      <td>1</td>\n",
       "      <td>0</td>\n",
       "      <td>0</td>\n",
       "      <td>0</td>\n",
       "      <td>0</td>\n",
       "      <td>0</td>\n",
       "      <td>0</td>\n",
       "    </tr>\n",
       "  </tbody>\n",
       "</table>\n",
       "</div>"
      ],
      "text/plain": [
       "   price  lotsize  bedrooms  bathrms  stories  driveway  recroom  fullbase  \\\n",
       "1  42000     5850         3        1        2         1        0         1   \n",
       "2  38500     4000         2        1        1         1        0         0   \n",
       "3  49500     3060         3        1        1         1        0         0   \n",
       "4  60500     6650         3        1        2         1        1         0   \n",
       "5  61000     6360         2        1        1         1        0         0   \n",
       "\n",
       "   gashw  airco  garagepl  prefarea  \n",
       "1      0      0         1         0  \n",
       "2      0      0         0         0  \n",
       "3      0      0         0         0  \n",
       "4      0      0         0         0  \n",
       "5      0      0         0         0  "
      ]
     },
     "execution_count": 41,
     "metadata": {},
     "output_type": "execute_result"
    }
   ],
   "source": [
    "def convert_dummy(col,row):\n",
    "    if row[col] == 'yes':\n",
    "        return 1\n",
    "    else:\n",
    "        return 0\n",
    "    \n",
    "def get_col(col):\n",
    "    if row['price'] > df['price'].median():\n",
    "        return 1\n",
    "    else:\n",
    "        return 0\n",
    "    \n",
    "df['driveway'] = df.apply(lambda row: convert_dummy('driveway',row),axis=1)\n",
    "df['recroom'] = df.apply(lambda row: convert_dummy('recroom',row),axis=1)\n",
    "df['fullbase'] = df.apply(lambda row: convert_dummy('fullbase',row),axis=1)\n",
    "df['gashw'] = df.apply(lambda row: convert_dummy('gashw',row),axis=1)\n",
    "df['airco'] = df.apply(lambda row: convert_dummy('airco',row),axis=1)\n",
    "df['prefarea'] = df.apply(lambda row: convert_dummy('prefarea',row),axis=1)\n",
    "df.head(5)"
   ]
  },
  {
   "cell_type": "markdown",
   "metadata": {},
   "source": [
    "### 3.2)"
   ]
  },
  {
   "cell_type": "code",
   "execution_count": 42,
   "metadata": {
    "collapsed": true
   },
   "outputs": [],
   "source": [
    "X = df.drop('price', axis=1).values\n",
    "y = df.price.values\n",
    "X_train, X_test, y_train, y_test = train_test_split(X, y, test_size=0.33, random_state=42)"
   ]
  },
  {
   "cell_type": "markdown",
   "metadata": {},
   "source": [
    "### 3.3)"
   ]
  },
  {
   "cell_type": "code",
   "execution_count": 43,
   "metadata": {
    "collapsed": false
   },
   "outputs": [
    {
     "name": "stdout",
     "output_type": "stream",
     "text": [
      "R**2: 0.210381626833\n"
     ]
    }
   ],
   "source": [
    "RegTree = tree.DecisionTreeRegressor()\n",
    "RegTree.fit(X_train, y_train)\n",
    "print(\"R**2:\",RegTree.score(X_test, y_test))"
   ]
  },
  {
   "cell_type": "markdown",
   "metadata": {},
   "source": [
    "### 3.4)"
   ]
  },
  {
   "cell_type": "code",
   "execution_count": 44,
   "metadata": {
    "collapsed": false
   },
   "outputs": [
    {
     "name": "stdout",
     "output_type": "stream",
     "text": [
      "181\n",
      "RMSE: 25436.6126937\n"
     ]
    }
   ],
   "source": [
    "y_predicted = RegTree.predict(X_test)\n",
    "SSE = 0\n",
    "print(len(y_test))\n",
    "for i in range(len(y_test)):\n",
    "        SSE =  SSE + ((y_predicted[i] - y_test[i])**2)\n",
    "MSE = SSE/(len(y_test))\n",
    "RMSE = MSE**0.5\n",
    "print(\"RMSE:\", RMSE)"
   ]
  },
  {
   "cell_type": "markdown",
   "metadata": {},
   "source": [
    "### 3.5)\n",
    "At any given node in a regression tree, each independent variable is split at multiple points and the SSE of each of these splits is determined. The node then choses the split that generated the smallest SSE.\n",
    "\n",
    "## Question 4\n",
    "### 4.1)\n"
   ]
  },
  {
   "cell_type": "code",
   "execution_count": 45,
   "metadata": {
    "collapsed": false
   },
   "outputs": [
    {
     "name": "stdout",
     "output_type": "stream",
     "text": [
      "R**2: -0.0274390015362\n",
      "RMSE: 29015.4077821\n"
     ]
    }
   ],
   "source": [
    "SupVec = svm.SVR()\n",
    "SupVec.fit(X_train, y_train)\n",
    "print(\"R**2:\", SupVec.score(X_test, y_test))\n",
    "y_pred = SupVec.predict(X_test)\n",
    "SSE = 0\n",
    "for i in range(len(y_test)):\n",
    "        SSE =  SSE + ((y_pred[i] - y_test[i])**2)\n",
    "MSE = SSE/(len(y_test))\n",
    "RMSE = MSE**0.5\n",
    "print(\"RMSE:\", RMSE)"
   ]
  },
  {
   "cell_type": "markdown",
   "metadata": {},
   "source": [
    "### 4.2)"
   ]
  },
  {
   "cell_type": "code",
   "execution_count": 46,
   "metadata": {
    "collapsed": false
   },
   "outputs": [
    {
     "name": "stdout",
     "output_type": "stream",
     "text": [
      "R**2: -0.021715734738\n",
      "RMSE: 28934.4809212\n"
     ]
    }
   ],
   "source": [
    "# [0.001, 0.01, 0.1, 1,5,10,100]\n",
    "SupVec_2 = svm.SVR()\n",
    "GS = grid_search.GridSearchCV(SupVec_2, {'C': [0.001, 0.01, 0.1, 1,5,10,100]})\n",
    "GS.fit(X_train, y_train)\n",
    "print(\"R**2:\", GS.score(X_test, y_test))\n",
    "y_p = GS.predict(X_test)\n",
    "SSE = 0\n",
    "for i in range(len(y_test)):\n",
    "        SSE =  SSE + ((y_p[i] - y_test[i])**2)\n",
    "MSE = SSE/(len(y_test))\n",
    "RMSE = MSE**0.5\n",
    "print(\"RMSE:\", RMSE)"
   ]
  },
  {
   "cell_type": "markdown",
   "metadata": {},
   "source": [
    "### 4.3)\n",
    "Even though the results from the Regression Tree were horrendous, the results from the SVR were even worse. The tree performed just slightly better than random, and the SVRs performed worse. Using Grid Search to pick the best C had a positive but very slight affect on the performance."
   ]
  },
  {
   "cell_type": "code",
   "execution_count": null,
   "metadata": {
    "collapsed": true
   },
   "outputs": [],
   "source": []
  }
 ],
 "metadata": {
  "kernelspec": {
   "display_name": "Python 3",
   "language": "python",
   "name": "python3"
  },
  "language_info": {
   "codemirror_mode": {
    "name": "ipython",
    "version": 3
   },
   "file_extension": ".py",
   "mimetype": "text/x-python",
   "name": "python",
   "nbconvert_exporter": "python",
   "pygments_lexer": "ipython3",
   "version": "3.5.0"
  }
 },
 "nbformat": 4,
 "nbformat_minor": 0
}
